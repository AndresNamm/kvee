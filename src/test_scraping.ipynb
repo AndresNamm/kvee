{
 "metadata": {
  "language_info": {
   "codemirror_mode": {
    "name": "ipython",
    "version": 3
   },
   "file_extension": ".py",
   "mimetype": "text/x-python",
   "name": "python",
   "nbconvert_exporter": "python",
   "pygments_lexer": "ipython3",
   "version": "3.8.1-final"
  },
  "orig_nbformat": 2,
  "kernelspec": {
   "name": "python_defaultSpec_1597853384173",
   "display_name": "Python 3.8.1 64-bit ('.venv': virtualenv)"
  }
 },
 "nbformat": 4,
 "nbformat_minor": 2,
 "cells": [
  {
   "cell_type": "code",
   "execution_count": 6,
   "metadata": {},
   "outputs": [],
   "source": [
    "from requests_html import HTMLSession\n",
    "url='https://www.kv.ee/?act=search.objectinfo&object_id=3240281'\n",
    "url='https://www.kv.ee/?act=search.objectinfo&object_id=3225244'\n",
    "session = HTMLSession()\n",
    "r=session.get(url)"
   ]
  },
  {
   "cell_type": "markdown",
   "metadata": {},
   "source": [
    "PRICE"
   ]
  },
  {
   "cell_type": "code",
   "execution_count": 8,
   "metadata": {
    "tags": []
   },
   "outputs": [],
   "source": [
    "raw_absolute_size=r.html.find('span.gm-desktop',first=True)\n",
    "for line in raw_absolute_size.text.split('\\n'):\n",
    "    if 'Pind:' in line:\n",
    "        print(line.split(':')[1].strip().split('\\xa0')[0])\n",
    "\n",
    "\n",
    "\n"
   ]
  },
  {
   "cell_type": "code",
   "execution_count": 9,
   "metadata": {},
   "outputs": [
    {
     "output_type": "execute_result",
     "data": {
      "text/plain": "300"
     },
     "metadata": {},
     "execution_count": 9
    }
   ],
   "source": [
    "raw_absolute_price=r.html.find('h3.gm-overlay-price',first=True)\n",
    "absolute_price = int(raw_absolute_price.text.split( '\\xa0' )[0])\n",
    "absolute_price"
   ]
  },
  {
   "cell_type": "markdown",
   "metadata": {},
   "source": [
    "\n"
   ]
  },
  {
   "cell_type": "code",
   "execution_count": 12,
   "metadata": {},
   "outputs": [
    {
     "output_type": "execute_result",
     "data": {
      "text/plain": "'Madalad kommunaalmaksed!'"
     },
     "metadata": {},
     "execution_count": 12
    }
   ],
   "source": [
    "raw_title=r.html.find('p.gm-overlay-header',first=True)\n",
    "title = raw_title.text\n",
    "title"
   ]
  },
  {
   "cell_type": "code",
   "execution_count": 5,
   "metadata": {},
   "outputs": [
    {
     "output_type": "execute_result",
     "data": {
      "text/plain": "{'kitchen': ' keraamiline pliit, köögimööbel',\n 'sanruum': ' dušš, boiler',\n 'heating': ' keskküte',\n 'side_ja_turvalisus': ' turvauks'}"
     },
     "metadata": {},
     "execution_count": 5
    }
   ],
   "source": [
    "\n",
    "replace_map={'köök':'kitchen','küte_ja_ventilatsioon':'heating'}\n",
    "l=request.html.find('p.gm-overlay-info-1',first=True)\n",
    "info={}\n",
    "for item in l.text.split('\\n'):\n",
    "    key=item.split(\":\")[0].replace(' ','_').lower() \n",
    "    if key in replace_map:\n",
    "        key=replace_map[key]\n",
    "    val=item.split(\":\")[1]\n",
    "    info[key]=val\n",
    "info\n",
    "\n",
    "\n"
   ]
  },
  {
   "cell_type": "code",
   "execution_count": null,
   "metadata": {},
   "outputs": [],
   "source": []
  },
  {
   "cell_type": "code",
   "execution_count": 41,
   "metadata": {},
   "outputs": [],
   "source": [
    "\n",
    "\n",
    "\n",
    "\n",
    "for k,v in \n",
    "\n"
   ]
  },
  {
   "cell_type": "code",
   "execution_count": null,
   "metadata": {},
   "outputs": [],
   "source": []
  }
 ]
}