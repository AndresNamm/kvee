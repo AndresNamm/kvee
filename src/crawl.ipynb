{
 "cells": [
  {
   "cell_type": "code",
   "execution_count": 1,
   "metadata": {},
   "outputs": [
    {
     "output_type": "error",
     "ename": "ModuleNotFoundError",
     "evalue": "No module named 'util_functions'",
     "traceback": [
      "\u001b[0;31m---------------------------------------------------------------------------\u001b[0m",
      "\u001b[0;31mModuleNotFoundError\u001b[0m                       Traceback (most recent call last)",
      "\u001b[0;32m<ipython-input-1-5718906acf53>\u001b[0m in \u001b[0;36m<module>\u001b[0;34m\u001b[0m\n\u001b[1;32m     17\u001b[0m \u001b[0;32mimport\u001b[0m \u001b[0mtime\u001b[0m\u001b[0;34m\u001b[0m\u001b[0;34m\u001b[0m\u001b[0m\n\u001b[1;32m     18\u001b[0m \u001b[0;32mimport\u001b[0m \u001b[0mjson\u001b[0m\u001b[0;34m\u001b[0m\u001b[0;34m\u001b[0m\u001b[0m\n\u001b[0;32m---> 19\u001b[0;31m \u001b[0;32mfrom\u001b[0m \u001b[0mutil_functions\u001b[0m\u001b[0;34m.\u001b[0m\u001b[0mathena_queries\u001b[0m \u001b[0;32mimport\u001b[0m \u001b[0mAthenaQueries\u001b[0m\u001b[0;34m\u001b[0m\u001b[0;34m\u001b[0m\u001b[0m\n\u001b[0m\u001b[1;32m     20\u001b[0m \u001b[0;32mimport\u001b[0m \u001b[0mtime\u001b[0m\u001b[0;34m\u001b[0m\u001b[0;34m\u001b[0m\u001b[0m\n\u001b[1;32m     21\u001b[0m \u001b[0;32mfrom\u001b[0m \u001b[0mrandom\u001b[0m \u001b[0;32mimport\u001b[0m \u001b[0mrandrange\u001b[0m\u001b[0;34m\u001b[0m\u001b[0;34m\u001b[0m\u001b[0m\n",
      "\u001b[0;31mModuleNotFoundError\u001b[0m: No module named 'util_functions'"
     ]
    }
   ],
   "source": [
    "import numpy as np\n",
    "import collections\n",
    "import csv\n",
    "import logging\n",
    "import os\n",
    "from requests_html import HTMLSession\n",
    "from typing import List\n",
    "from requests_html import HTMLSession\n",
    "import requests\n",
    "import collections\n",
    "import logging\n",
    "import numpy\n",
    "import os\n",
    "from pathlib import Path\n",
    "from datetime import date\n",
    "import logging.config\n",
    "import time\n",
    "import json\n",
    "from util_functions.athena_queries import AthenaQueries\n",
    "import time\n",
    "from random import randrange\n",
    "from util_functions.s3_utils import s3_put_dict\n",
    "import random\n",
    "import string \n",
    "from datetime import datetime\n",
    "import pandas as pd\n",
    "q = AthenaQueries()\n"
   ]
  },
  {
   "cell_type": "code",
   "execution_count": null,
   "metadata": {},
   "outputs": [],
   "source": []
  }
 ],
 "metadata": {
  "language_info": {
   "codemirror_mode": {
    "name": "ipython",
    "version": 3
   },
   "file_extension": ".py",
   "mimetype": "text/x-python",
   "name": "python",
   "nbconvert_exporter": "python",
   "pygments_lexer": "ipython3",
   "version": "3.8.1-final"
  },
  "orig_nbformat": 2,
  "kernelspec": {
   "name": "python38164bitvenvvirtualenv74d46f7ac9234b2892c62f8879c63aca",
   "display_name": "Python 3.8.1 64-bit ('.venv': virtualenv)"
  }
 },
 "nbformat": 4,
 "nbformat_minor": 2
}