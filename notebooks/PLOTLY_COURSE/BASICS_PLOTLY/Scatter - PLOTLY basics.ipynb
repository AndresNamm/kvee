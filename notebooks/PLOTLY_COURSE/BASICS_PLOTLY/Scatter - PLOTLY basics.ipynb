{
 "cells": [
  {
   "cell_type": "markdown",
   "metadata": {},
   "source": [
    "# SCATTER PLOTS"
   ]
  },
  {
   "cell_type": "code",
   "execution_count": 1,
   "metadata": {},
   "outputs": [],
   "source": [
    "import numpy as np\n",
    "import plotly.offline as pyo \n",
    "import plotly.graph_objs as go\n",
    "\n",
    "\n"
   ]
  },
  {
   "cell_type": "code",
   "execution_count": 2,
   "metadata": {},
   "outputs": [],
   "source": [
    "np.random.seed(42)"
   ]
  },
  {
   "cell_type": "markdown",
   "metadata": {},
   "source": [
    "# scatter"
   ]
  },
  {
   "cell_type": "code",
   "execution_count": 10,
   "metadata": {},
   "outputs": [
    {
     "data": {
      "application/vnd.plotly.v1+json": {
       "config": {
        "linkText": "Export to plot.ly",
        "plotlyServerURL": "https://plot.ly",
        "showLink": false
       },
       "data": [
        {
         "marker": {
          "color": "rgb(51,204,152)",
          "line": {
           "width": 2
          },
          "size": 12,
          "symbol": "pentagon"
         },
         "mode": "markers",
         "type": "scatter",
         "x": [
          27,
          49,
          77,
          33,
          98,
          99,
          1,
          21,
          55,
          6,
          92,
          81,
          69,
          95,
          5,
          3,
          53,
          23,
          53,
          37,
          74,
          74,
          83,
          17,
          85,
          78,
          73,
          1,
          51,
          45,
          77,
          4,
          62,
          65,
          32,
          34,
          92,
          95,
          72,
          39,
          26,
          34,
          54,
          3,
          50,
          12,
          65,
          54,
          5,
          94,
          94,
          57,
          17,
          47,
          23,
          79,
          85,
          14,
          66,
          75,
          51,
          38,
          64,
          98,
          38,
          50,
          98,
          82,
          30,
          79,
          91,
          51,
          63,
          98,
          52,
          38,
          97,
          88,
          79,
          30,
          51,
          81,
          5,
          29,
          4,
          10,
          56,
          17,
          74,
          17,
          84,
          88,
          69,
          34,
          6,
          53,
          66,
          77,
          43,
          75
         ],
         "y": [
          23,
          55,
          80,
          95,
          75,
          16,
          8,
          4,
          4,
          56,
          25,
          67,
          96,
          67,
          27,
          93,
          32,
          50,
          61,
          51,
          19,
          21,
          5,
          82,
          92,
          42,
          61,
          22,
          21,
          70,
          1,
          5,
          12,
          90,
          46,
          34,
          49,
          78,
          90,
          45,
          27,
          73,
          26,
          47,
          86,
          56,
          94,
          63,
          48,
          61,
          81,
          26,
          36,
          1,
          8,
          99,
          52,
          79,
          47,
          56,
          86,
          14,
          90,
          28,
          87,
          78,
          88,
          2,
          26,
          14,
          59,
          56,
          7,
          3,
          23,
          18,
          38,
          99,
          15,
          64,
          89,
          28,
          74,
          39,
          57,
          17,
          86,
          90,
          44,
          25,
          17,
          13,
          84,
          25,
          68,
          10,
          67,
          18,
          100,
          86
         ]
        }
       ],
       "layout": {
        "hovermode": "closest",
        "template": {
         "data": {
          "bar": [
           {
            "error_x": {
             "color": "#2a3f5f"
            },
            "error_y": {
             "color": "#2a3f5f"
            },
            "marker": {
             "line": {
              "color": "#E5ECF6",
              "width": 0.5
             }
            },
            "type": "bar"
           }
          ],
          "barpolar": [
           {
            "marker": {
             "line": {
              "color": "#E5ECF6",
              "width": 0.5
             }
            },
            "type": "barpolar"
           }
          ],
          "carpet": [
           {
            "aaxis": {
             "endlinecolor": "#2a3f5f",
             "gridcolor": "white",
             "linecolor": "white",
             "minorgridcolor": "white",
             "startlinecolor": "#2a3f5f"
            },
            "baxis": {
             "endlinecolor": "#2a3f5f",
             "gridcolor": "white",
             "linecolor": "white",
             "minorgridcolor": "white",
             "startlinecolor": "#2a3f5f"
            },
            "type": "carpet"
           }
          ],
          "choropleth": [
           {
            "colorbar": {
             "outlinewidth": 0,
             "ticks": ""
            },
            "type": "choropleth"
           }
          ],
          "contour": [
           {
            "colorbar": {
             "outlinewidth": 0,
             "ticks": ""
            },
            "colorscale": [
             [
              0,
              "#0d0887"
             ],
             [
              0.1111111111111111,
              "#46039f"
             ],
             [
              0.2222222222222222,
              "#7201a8"
             ],
             [
              0.3333333333333333,
              "#9c179e"
             ],
             [
              0.4444444444444444,
              "#bd3786"
             ],
             [
              0.5555555555555556,
              "#d8576b"
             ],
             [
              0.6666666666666666,
              "#ed7953"
             ],
             [
              0.7777777777777778,
              "#fb9f3a"
             ],
             [
              0.8888888888888888,
              "#fdca26"
             ],
             [
              1,
              "#f0f921"
             ]
            ],
            "type": "contour"
           }
          ],
          "contourcarpet": [
           {
            "colorbar": {
             "outlinewidth": 0,
             "ticks": ""
            },
            "type": "contourcarpet"
           }
          ],
          "heatmap": [
           {
            "colorbar": {
             "outlinewidth": 0,
             "ticks": ""
            },
            "colorscale": [
             [
              0,
              "#0d0887"
             ],
             [
              0.1111111111111111,
              "#46039f"
             ],
             [
              0.2222222222222222,
              "#7201a8"
             ],
             [
              0.3333333333333333,
              "#9c179e"
             ],
             [
              0.4444444444444444,
              "#bd3786"
             ],
             [
              0.5555555555555556,
              "#d8576b"
             ],
             [
              0.6666666666666666,
              "#ed7953"
             ],
             [
              0.7777777777777778,
              "#fb9f3a"
             ],
             [
              0.8888888888888888,
              "#fdca26"
             ],
             [
              1,
              "#f0f921"
             ]
            ],
            "type": "heatmap"
           }
          ],
          "heatmapgl": [
           {
            "colorbar": {
             "outlinewidth": 0,
             "ticks": ""
            },
            "colorscale": [
             [
              0,
              "#0d0887"
             ],
             [
              0.1111111111111111,
              "#46039f"
             ],
             [
              0.2222222222222222,
              "#7201a8"
             ],
             [
              0.3333333333333333,
              "#9c179e"
             ],
             [
              0.4444444444444444,
              "#bd3786"
             ],
             [
              0.5555555555555556,
              "#d8576b"
             ],
             [
              0.6666666666666666,
              "#ed7953"
             ],
             [
              0.7777777777777778,
              "#fb9f3a"
             ],
             [
              0.8888888888888888,
              "#fdca26"
             ],
             [
              1,
              "#f0f921"
             ]
            ],
            "type": "heatmapgl"
           }
          ],
          "histogram": [
           {
            "marker": {
             "colorbar": {
              "outlinewidth": 0,
              "ticks": ""
             }
            },
            "type": "histogram"
           }
          ],
          "histogram2d": [
           {
            "colorbar": {
             "outlinewidth": 0,
             "ticks": ""
            },
            "colorscale": [
             [
              0,
              "#0d0887"
             ],
             [
              0.1111111111111111,
              "#46039f"
             ],
             [
              0.2222222222222222,
              "#7201a8"
             ],
             [
              0.3333333333333333,
              "#9c179e"
             ],
             [
              0.4444444444444444,
              "#bd3786"
             ],
             [
              0.5555555555555556,
              "#d8576b"
             ],
             [
              0.6666666666666666,
              "#ed7953"
             ],
             [
              0.7777777777777778,
              "#fb9f3a"
             ],
             [
              0.8888888888888888,
              "#fdca26"
             ],
             [
              1,
              "#f0f921"
             ]
            ],
            "type": "histogram2d"
           }
          ],
          "histogram2dcontour": [
           {
            "colorbar": {
             "outlinewidth": 0,
             "ticks": ""
            },
            "colorscale": [
             [
              0,
              "#0d0887"
             ],
             [
              0.1111111111111111,
              "#46039f"
             ],
             [
              0.2222222222222222,
              "#7201a8"
             ],
             [
              0.3333333333333333,
              "#9c179e"
             ],
             [
              0.4444444444444444,
              "#bd3786"
             ],
             [
              0.5555555555555556,
              "#d8576b"
             ],
             [
              0.6666666666666666,
              "#ed7953"
             ],
             [
              0.7777777777777778,
              "#fb9f3a"
             ],
             [
              0.8888888888888888,
              "#fdca26"
             ],
             [
              1,
              "#f0f921"
             ]
            ],
            "type": "histogram2dcontour"
           }
          ],
          "mesh3d": [
           {
            "colorbar": {
             "outlinewidth": 0,
             "ticks": ""
            },
            "type": "mesh3d"
           }
          ],
          "parcoords": [
           {
            "line": {
             "colorbar": {
              "outlinewidth": 0,
              "ticks": ""
             }
            },
            "type": "parcoords"
           }
          ],
          "pie": [
           {
            "automargin": true,
            "type": "pie"
           }
          ],
          "scatter": [
           {
            "marker": {
             "colorbar": {
              "outlinewidth": 0,
              "ticks": ""
             }
            },
            "type": "scatter"
           }
          ],
          "scatter3d": [
           {
            "line": {
             "colorbar": {
              "outlinewidth": 0,
              "ticks": ""
             }
            },
            "marker": {
             "colorbar": {
              "outlinewidth": 0,
              "ticks": ""
             }
            },
            "type": "scatter3d"
           }
          ],
          "scattercarpet": [
           {
            "marker": {
             "colorbar": {
              "outlinewidth": 0,
              "ticks": ""
             }
            },
            "type": "scattercarpet"
           }
          ],
          "scattergeo": [
           {
            "marker": {
             "colorbar": {
              "outlinewidth": 0,
              "ticks": ""
             }
            },
            "type": "scattergeo"
           }
          ],
          "scattergl": [
           {
            "marker": {
             "colorbar": {
              "outlinewidth": 0,
              "ticks": ""
             }
            },
            "type": "scattergl"
           }
          ],
          "scattermapbox": [
           {
            "marker": {
             "colorbar": {
              "outlinewidth": 0,
              "ticks": ""
             }
            },
            "type": "scattermapbox"
           }
          ],
          "scatterpolar": [
           {
            "marker": {
             "colorbar": {
              "outlinewidth": 0,
              "ticks": ""
             }
            },
            "type": "scatterpolar"
           }
          ],
          "scatterpolargl": [
           {
            "marker": {
             "colorbar": {
              "outlinewidth": 0,
              "ticks": ""
             }
            },
            "type": "scatterpolargl"
           }
          ],
          "scatterternary": [
           {
            "marker": {
             "colorbar": {
              "outlinewidth": 0,
              "ticks": ""
             }
            },
            "type": "scatterternary"
           }
          ],
          "surface": [
           {
            "colorbar": {
             "outlinewidth": 0,
             "ticks": ""
            },
            "colorscale": [
             [
              0,
              "#0d0887"
             ],
             [
              0.1111111111111111,
              "#46039f"
             ],
             [
              0.2222222222222222,
              "#7201a8"
             ],
             [
              0.3333333333333333,
              "#9c179e"
             ],
             [
              0.4444444444444444,
              "#bd3786"
             ],
             [
              0.5555555555555556,
              "#d8576b"
             ],
             [
              0.6666666666666666,
              "#ed7953"
             ],
             [
              0.7777777777777778,
              "#fb9f3a"
             ],
             [
              0.8888888888888888,
              "#fdca26"
             ],
             [
              1,
              "#f0f921"
             ]
            ],
            "type": "surface"
           }
          ],
          "table": [
           {
            "cells": {
             "fill": {
              "color": "#EBF0F8"
             },
             "line": {
              "color": "white"
             }
            },
            "header": {
             "fill": {
              "color": "#C8D4E3"
             },
             "line": {
              "color": "white"
             }
            },
            "type": "table"
           }
          ]
         },
         "layout": {
          "annotationdefaults": {
           "arrowcolor": "#2a3f5f",
           "arrowhead": 0,
           "arrowwidth": 1
          },
          "coloraxis": {
           "colorbar": {
            "outlinewidth": 0,
            "ticks": ""
           }
          },
          "colorscale": {
           "diverging": [
            [
             0,
             "#8e0152"
            ],
            [
             0.1,
             "#c51b7d"
            ],
            [
             0.2,
             "#de77ae"
            ],
            [
             0.3,
             "#f1b6da"
            ],
            [
             0.4,
             "#fde0ef"
            ],
            [
             0.5,
             "#f7f7f7"
            ],
            [
             0.6,
             "#e6f5d0"
            ],
            [
             0.7,
             "#b8e186"
            ],
            [
             0.8,
             "#7fbc41"
            ],
            [
             0.9,
             "#4d9221"
            ],
            [
             1,
             "#276419"
            ]
           ],
           "sequential": [
            [
             0,
             "#0d0887"
            ],
            [
             0.1111111111111111,
             "#46039f"
            ],
            [
             0.2222222222222222,
             "#7201a8"
            ],
            [
             0.3333333333333333,
             "#9c179e"
            ],
            [
             0.4444444444444444,
             "#bd3786"
            ],
            [
             0.5555555555555556,
             "#d8576b"
            ],
            [
             0.6666666666666666,
             "#ed7953"
            ],
            [
             0.7777777777777778,
             "#fb9f3a"
            ],
            [
             0.8888888888888888,
             "#fdca26"
            ],
            [
             1,
             "#f0f921"
            ]
           ],
           "sequentialminus": [
            [
             0,
             "#0d0887"
            ],
            [
             0.1111111111111111,
             "#46039f"
            ],
            [
             0.2222222222222222,
             "#7201a8"
            ],
            [
             0.3333333333333333,
             "#9c179e"
            ],
            [
             0.4444444444444444,
             "#bd3786"
            ],
            [
             0.5555555555555556,
             "#d8576b"
            ],
            [
             0.6666666666666666,
             "#ed7953"
            ],
            [
             0.7777777777777778,
             "#fb9f3a"
            ],
            [
             0.8888888888888888,
             "#fdca26"
            ],
            [
             1,
             "#f0f921"
            ]
           ]
          },
          "colorway": [
           "#636efa",
           "#EF553B",
           "#00cc96",
           "#ab63fa",
           "#FFA15A",
           "#19d3f3",
           "#FF6692",
           "#B6E880",
           "#FF97FF",
           "#FECB52"
          ],
          "font": {
           "color": "#2a3f5f"
          },
          "geo": {
           "bgcolor": "white",
           "lakecolor": "white",
           "landcolor": "#E5ECF6",
           "showlakes": true,
           "showland": true,
           "subunitcolor": "white"
          },
          "hoverlabel": {
           "align": "left"
          },
          "hovermode": "closest",
          "mapbox": {
           "style": "light"
          },
          "paper_bgcolor": "white",
          "plot_bgcolor": "#E5ECF6",
          "polar": {
           "angularaxis": {
            "gridcolor": "white",
            "linecolor": "white",
            "ticks": ""
           },
           "bgcolor": "#E5ECF6",
           "radialaxis": {
            "gridcolor": "white",
            "linecolor": "white",
            "ticks": ""
           }
          },
          "scene": {
           "xaxis": {
            "backgroundcolor": "#E5ECF6",
            "gridcolor": "white",
            "gridwidth": 2,
            "linecolor": "white",
            "showbackground": true,
            "ticks": "",
            "zerolinecolor": "white"
           },
           "yaxis": {
            "backgroundcolor": "#E5ECF6",
            "gridcolor": "white",
            "gridwidth": 2,
            "linecolor": "white",
            "showbackground": true,
            "ticks": "",
            "zerolinecolor": "white"
           },
           "zaxis": {
            "backgroundcolor": "#E5ECF6",
            "gridcolor": "white",
            "gridwidth": 2,
            "linecolor": "white",
            "showbackground": true,
            "ticks": "",
            "zerolinecolor": "white"
           }
          },
          "shapedefaults": {
           "line": {
            "color": "#2a3f5f"
           }
          },
          "ternary": {
           "aaxis": {
            "gridcolor": "white",
            "linecolor": "white",
            "ticks": ""
           },
           "baxis": {
            "gridcolor": "white",
            "linecolor": "white",
            "ticks": ""
           },
           "bgcolor": "#E5ECF6",
           "caxis": {
            "gridcolor": "white",
            "linecolor": "white",
            "ticks": ""
           }
          },
          "title": {
           "x": 0.05
          },
          "xaxis": {
           "automargin": true,
           "gridcolor": "white",
           "linecolor": "white",
           "ticks": "",
           "title": {
            "standoff": 15
           },
           "zerolinecolor": "white",
           "zerolinewidth": 2
          },
          "yaxis": {
           "automargin": true,
           "gridcolor": "white",
           "linecolor": "white",
           "ticks": "",
           "title": {
            "standoff": 15
           },
           "zerolinecolor": "white",
           "zerolinewidth": 2
          }
         }
        },
        "title": {
         "text": "Hello,Scatter"
        },
        "xaxis": {
         "title": {
          "text": "X AXIS"
         }
        },
        "yaxis": {
         "title": {
          "text": "MY AXIS"
         }
        }
       }
      },
      "text/html": [
       "<div>\n",
       "        \n",
       "        \n",
       "            <div id=\"6b158fd0-c500-495a-8ad3-c2b499edea11\" class=\"plotly-graph-div\" style=\"height:525px; width:100%;\"></div>\n",
       "            <script type=\"text/javascript\">\n",
       "                require([\"plotly\"], function(Plotly) {\n",
       "                    window.PLOTLYENV=window.PLOTLYENV || {};\n",
       "                    \n",
       "                if (document.getElementById(\"6b158fd0-c500-495a-8ad3-c2b499edea11\")) {\n",
       "                    Plotly.newPlot(\n",
       "                        '6b158fd0-c500-495a-8ad3-c2b499edea11',\n",
       "                        [{\"marker\": {\"color\": \"rgb(51,204,152)\", \"line\": {\"width\": 2}, \"size\": 12, \"symbol\": \"pentagon\"}, \"mode\": \"markers\", \"type\": \"scatter\", \"x\": [27, 49, 77, 33, 98, 99, 1, 21, 55, 6, 92, 81, 69, 95, 5, 3, 53, 23, 53, 37, 74, 74, 83, 17, 85, 78, 73, 1, 51, 45, 77, 4, 62, 65, 32, 34, 92, 95, 72, 39, 26, 34, 54, 3, 50, 12, 65, 54, 5, 94, 94, 57, 17, 47, 23, 79, 85, 14, 66, 75, 51, 38, 64, 98, 38, 50, 98, 82, 30, 79, 91, 51, 63, 98, 52, 38, 97, 88, 79, 30, 51, 81, 5, 29, 4, 10, 56, 17, 74, 17, 84, 88, 69, 34, 6, 53, 66, 77, 43, 75], \"y\": [23, 55, 80, 95, 75, 16, 8, 4, 4, 56, 25, 67, 96, 67, 27, 93, 32, 50, 61, 51, 19, 21, 5, 82, 92, 42, 61, 22, 21, 70, 1, 5, 12, 90, 46, 34, 49, 78, 90, 45, 27, 73, 26, 47, 86, 56, 94, 63, 48, 61, 81, 26, 36, 1, 8, 99, 52, 79, 47, 56, 86, 14, 90, 28, 87, 78, 88, 2, 26, 14, 59, 56, 7, 3, 23, 18, 38, 99, 15, 64, 89, 28, 74, 39, 57, 17, 86, 90, 44, 25, 17, 13, 84, 25, 68, 10, 67, 18, 100, 86]}],\n",
       "                        {\"hovermode\": \"closest\", \"template\": {\"data\": {\"bar\": [{\"error_x\": {\"color\": \"#2a3f5f\"}, \"error_y\": {\"color\": \"#2a3f5f\"}, \"marker\": {\"line\": {\"color\": \"#E5ECF6\", \"width\": 0.5}}, \"type\": \"bar\"}], \"barpolar\": [{\"marker\": {\"line\": {\"color\": \"#E5ECF6\", \"width\": 0.5}}, \"type\": \"barpolar\"}], \"carpet\": [{\"aaxis\": {\"endlinecolor\": \"#2a3f5f\", \"gridcolor\": \"white\", \"linecolor\": \"white\", \"minorgridcolor\": \"white\", \"startlinecolor\": \"#2a3f5f\"}, \"baxis\": {\"endlinecolor\": \"#2a3f5f\", \"gridcolor\": \"white\", \"linecolor\": \"white\", \"minorgridcolor\": \"white\", \"startlinecolor\": \"#2a3f5f\"}, \"type\": \"carpet\"}], \"choropleth\": [{\"colorbar\": {\"outlinewidth\": 0, \"ticks\": \"\"}, \"type\": \"choropleth\"}], \"contour\": [{\"colorbar\": {\"outlinewidth\": 0, \"ticks\": \"\"}, \"colorscale\": [[0.0, \"#0d0887\"], [0.1111111111111111, \"#46039f\"], [0.2222222222222222, \"#7201a8\"], [0.3333333333333333, \"#9c179e\"], [0.4444444444444444, \"#bd3786\"], [0.5555555555555556, \"#d8576b\"], [0.6666666666666666, \"#ed7953\"], [0.7777777777777778, \"#fb9f3a\"], [0.8888888888888888, \"#fdca26\"], [1.0, \"#f0f921\"]], \"type\": \"contour\"}], \"contourcarpet\": [{\"colorbar\": {\"outlinewidth\": 0, \"ticks\": \"\"}, \"type\": \"contourcarpet\"}], \"heatmap\": [{\"colorbar\": {\"outlinewidth\": 0, \"ticks\": \"\"}, \"colorscale\": [[0.0, \"#0d0887\"], [0.1111111111111111, \"#46039f\"], [0.2222222222222222, \"#7201a8\"], [0.3333333333333333, \"#9c179e\"], [0.4444444444444444, \"#bd3786\"], [0.5555555555555556, \"#d8576b\"], [0.6666666666666666, \"#ed7953\"], [0.7777777777777778, \"#fb9f3a\"], [0.8888888888888888, \"#fdca26\"], [1.0, \"#f0f921\"]], \"type\": \"heatmap\"}], \"heatmapgl\": [{\"colorbar\": {\"outlinewidth\": 0, \"ticks\": \"\"}, \"colorscale\": [[0.0, \"#0d0887\"], [0.1111111111111111, \"#46039f\"], [0.2222222222222222, \"#7201a8\"], [0.3333333333333333, \"#9c179e\"], [0.4444444444444444, \"#bd3786\"], [0.5555555555555556, \"#d8576b\"], [0.6666666666666666, \"#ed7953\"], [0.7777777777777778, \"#fb9f3a\"], [0.8888888888888888, \"#fdca26\"], [1.0, \"#f0f921\"]], \"type\": \"heatmapgl\"}], \"histogram\": [{\"marker\": {\"colorbar\": {\"outlinewidth\": 0, \"ticks\": \"\"}}, \"type\": \"histogram\"}], \"histogram2d\": [{\"colorbar\": {\"outlinewidth\": 0, \"ticks\": \"\"}, \"colorscale\": [[0.0, \"#0d0887\"], [0.1111111111111111, \"#46039f\"], [0.2222222222222222, \"#7201a8\"], [0.3333333333333333, \"#9c179e\"], [0.4444444444444444, \"#bd3786\"], [0.5555555555555556, \"#d8576b\"], [0.6666666666666666, \"#ed7953\"], [0.7777777777777778, \"#fb9f3a\"], [0.8888888888888888, \"#fdca26\"], [1.0, \"#f0f921\"]], \"type\": \"histogram2d\"}], \"histogram2dcontour\": [{\"colorbar\": {\"outlinewidth\": 0, \"ticks\": \"\"}, \"colorscale\": [[0.0, \"#0d0887\"], [0.1111111111111111, \"#46039f\"], [0.2222222222222222, \"#7201a8\"], [0.3333333333333333, \"#9c179e\"], [0.4444444444444444, \"#bd3786\"], [0.5555555555555556, \"#d8576b\"], [0.6666666666666666, \"#ed7953\"], [0.7777777777777778, \"#fb9f3a\"], [0.8888888888888888, \"#fdca26\"], [1.0, \"#f0f921\"]], \"type\": \"histogram2dcontour\"}], \"mesh3d\": [{\"colorbar\": {\"outlinewidth\": 0, \"ticks\": \"\"}, \"type\": \"mesh3d\"}], \"parcoords\": [{\"line\": {\"colorbar\": {\"outlinewidth\": 0, \"ticks\": \"\"}}, \"type\": \"parcoords\"}], \"pie\": [{\"automargin\": true, \"type\": \"pie\"}], \"scatter\": [{\"marker\": {\"colorbar\": {\"outlinewidth\": 0, \"ticks\": \"\"}}, \"type\": \"scatter\"}], \"scatter3d\": [{\"line\": {\"colorbar\": {\"outlinewidth\": 0, \"ticks\": \"\"}}, \"marker\": {\"colorbar\": {\"outlinewidth\": 0, \"ticks\": \"\"}}, \"type\": \"scatter3d\"}], \"scattercarpet\": [{\"marker\": {\"colorbar\": {\"outlinewidth\": 0, \"ticks\": \"\"}}, \"type\": \"scattercarpet\"}], \"scattergeo\": [{\"marker\": {\"colorbar\": {\"outlinewidth\": 0, \"ticks\": \"\"}}, \"type\": \"scattergeo\"}], \"scattergl\": [{\"marker\": {\"colorbar\": {\"outlinewidth\": 0, \"ticks\": \"\"}}, \"type\": \"scattergl\"}], \"scattermapbox\": [{\"marker\": {\"colorbar\": {\"outlinewidth\": 0, \"ticks\": \"\"}}, \"type\": \"scattermapbox\"}], \"scatterpolar\": [{\"marker\": {\"colorbar\": {\"outlinewidth\": 0, \"ticks\": \"\"}}, \"type\": \"scatterpolar\"}], \"scatterpolargl\": [{\"marker\": {\"colorbar\": {\"outlinewidth\": 0, \"ticks\": \"\"}}, \"type\": \"scatterpolargl\"}], \"scatterternary\": [{\"marker\": {\"colorbar\": {\"outlinewidth\": 0, \"ticks\": \"\"}}, \"type\": \"scatterternary\"}], \"surface\": [{\"colorbar\": {\"outlinewidth\": 0, \"ticks\": \"\"}, \"colorscale\": [[0.0, \"#0d0887\"], [0.1111111111111111, \"#46039f\"], [0.2222222222222222, \"#7201a8\"], [0.3333333333333333, \"#9c179e\"], [0.4444444444444444, \"#bd3786\"], [0.5555555555555556, \"#d8576b\"], [0.6666666666666666, \"#ed7953\"], [0.7777777777777778, \"#fb9f3a\"], [0.8888888888888888, \"#fdca26\"], [1.0, \"#f0f921\"]], \"type\": \"surface\"}], \"table\": [{\"cells\": {\"fill\": {\"color\": \"#EBF0F8\"}, \"line\": {\"color\": \"white\"}}, \"header\": {\"fill\": {\"color\": \"#C8D4E3\"}, \"line\": {\"color\": \"white\"}}, \"type\": \"table\"}]}, \"layout\": {\"annotationdefaults\": {\"arrowcolor\": \"#2a3f5f\", \"arrowhead\": 0, \"arrowwidth\": 1}, \"coloraxis\": {\"colorbar\": {\"outlinewidth\": 0, \"ticks\": \"\"}}, \"colorscale\": {\"diverging\": [[0, \"#8e0152\"], [0.1, \"#c51b7d\"], [0.2, \"#de77ae\"], [0.3, \"#f1b6da\"], [0.4, \"#fde0ef\"], [0.5, \"#f7f7f7\"], [0.6, \"#e6f5d0\"], [0.7, \"#b8e186\"], [0.8, \"#7fbc41\"], [0.9, \"#4d9221\"], [1, \"#276419\"]], \"sequential\": [[0.0, \"#0d0887\"], [0.1111111111111111, \"#46039f\"], [0.2222222222222222, \"#7201a8\"], [0.3333333333333333, \"#9c179e\"], [0.4444444444444444, \"#bd3786\"], [0.5555555555555556, \"#d8576b\"], [0.6666666666666666, \"#ed7953\"], [0.7777777777777778, \"#fb9f3a\"], [0.8888888888888888, \"#fdca26\"], [1.0, \"#f0f921\"]], \"sequentialminus\": [[0.0, \"#0d0887\"], [0.1111111111111111, \"#46039f\"], [0.2222222222222222, \"#7201a8\"], [0.3333333333333333, \"#9c179e\"], [0.4444444444444444, \"#bd3786\"], [0.5555555555555556, \"#d8576b\"], [0.6666666666666666, \"#ed7953\"], [0.7777777777777778, \"#fb9f3a\"], [0.8888888888888888, \"#fdca26\"], [1.0, \"#f0f921\"]]}, \"colorway\": [\"#636efa\", \"#EF553B\", \"#00cc96\", \"#ab63fa\", \"#FFA15A\", \"#19d3f3\", \"#FF6692\", \"#B6E880\", \"#FF97FF\", \"#FECB52\"], \"font\": {\"color\": \"#2a3f5f\"}, \"geo\": {\"bgcolor\": \"white\", \"lakecolor\": \"white\", \"landcolor\": \"#E5ECF6\", \"showlakes\": true, \"showland\": true, \"subunitcolor\": \"white\"}, \"hoverlabel\": {\"align\": \"left\"}, \"hovermode\": \"closest\", \"mapbox\": {\"style\": \"light\"}, \"paper_bgcolor\": \"white\", \"plot_bgcolor\": \"#E5ECF6\", \"polar\": {\"angularaxis\": {\"gridcolor\": \"white\", \"linecolor\": \"white\", \"ticks\": \"\"}, \"bgcolor\": \"#E5ECF6\", \"radialaxis\": {\"gridcolor\": \"white\", \"linecolor\": \"white\", \"ticks\": \"\"}}, \"scene\": {\"xaxis\": {\"backgroundcolor\": \"#E5ECF6\", \"gridcolor\": \"white\", \"gridwidth\": 2, \"linecolor\": \"white\", \"showbackground\": true, \"ticks\": \"\", \"zerolinecolor\": \"white\"}, \"yaxis\": {\"backgroundcolor\": \"#E5ECF6\", \"gridcolor\": \"white\", \"gridwidth\": 2, \"linecolor\": \"white\", \"showbackground\": true, \"ticks\": \"\", \"zerolinecolor\": \"white\"}, \"zaxis\": {\"backgroundcolor\": \"#E5ECF6\", \"gridcolor\": \"white\", \"gridwidth\": 2, \"linecolor\": \"white\", \"showbackground\": true, \"ticks\": \"\", \"zerolinecolor\": \"white\"}}, \"shapedefaults\": {\"line\": {\"color\": \"#2a3f5f\"}}, \"ternary\": {\"aaxis\": {\"gridcolor\": \"white\", \"linecolor\": \"white\", \"ticks\": \"\"}, \"baxis\": {\"gridcolor\": \"white\", \"linecolor\": \"white\", \"ticks\": \"\"}, \"bgcolor\": \"#E5ECF6\", \"caxis\": {\"gridcolor\": \"white\", \"linecolor\": \"white\", \"ticks\": \"\"}}, \"title\": {\"x\": 0.05}, \"xaxis\": {\"automargin\": true, \"gridcolor\": \"white\", \"linecolor\": \"white\", \"ticks\": \"\", \"title\": {\"standoff\": 15}, \"zerolinecolor\": \"white\", \"zerolinewidth\": 2}, \"yaxis\": {\"automargin\": true, \"gridcolor\": \"white\", \"linecolor\": \"white\", \"ticks\": \"\", \"title\": {\"standoff\": 15}, \"zerolinecolor\": \"white\", \"zerolinewidth\": 2}}}, \"title\": {\"text\": \"Hello,Scatter\"}, \"xaxis\": {\"title\": {\"text\": \"X AXIS\"}}, \"yaxis\": {\"title\": {\"text\": \"MY AXIS\"}}},\n",
       "                        {\"responsive\": true}\n",
       "                    ).then(function(){\n",
       "                            \n",
       "var gd = document.getElementById('6b158fd0-c500-495a-8ad3-c2b499edea11');\n",
       "var x = new MutationObserver(function (mutations, observer) {{\n",
       "        var display = window.getComputedStyle(gd).display;\n",
       "        if (!display || display === 'none') {{\n",
       "            console.log([gd, 'removed!']);\n",
       "            Plotly.purge(gd);\n",
       "            observer.disconnect();\n",
       "        }}\n",
       "}});\n",
       "\n",
       "// Listen for the removal of the full notebook cells\n",
       "var notebookContainer = gd.closest('#notebook-container');\n",
       "if (notebookContainer) {{\n",
       "    x.observe(notebookContainer, {childList: true});\n",
       "}}\n",
       "\n",
       "// Listen for the clearing of the current output cell\n",
       "var outputEl = gd.closest('.output');\n",
       "if (outputEl) {{\n",
       "    x.observe(outputEl, {childList: true});\n",
       "}}\n",
       "\n",
       "                        })\n",
       "                };\n",
       "                });\n",
       "            </script>\n",
       "        </div>"
      ]
     },
     "metadata": {},
     "output_type": "display_data"
    }
   ],
   "source": [
    "random_x = np.random.randint(1,101,100)\n",
    "random_y = np.random.randint(1,101,100)\n",
    "\n",
    "data = [go.Scatter(x=random_x,y=random_y,mode='markers',marker=dict(\n",
    "size=12,\n",
    "color='rgb(51,204,152)',\n",
    "symbol='pentagon',\n",
    "line= {'width':2}\n",
    "))]\n",
    "layout = go.Layout(title=\"Hello,Scatter\",xaxis={'title':\"X AXIS\"},yaxis=dict(title='MY AXIS'),hovermode='closest')\n",
    "fig = go.Figure(data=data,layout=layout)\n",
    "\n",
    "pyo.iplot(fig)\n",
    "\n",
    "\n"
   ]
  },
  {
   "cell_type": "markdown",
   "metadata": {},
   "source": [
    "# line charts"
   ]
  },
  {
   "cell_type": "code",
   "execution_count": 11,
   "metadata": {},
   "outputs": [],
   "source": [
    "np.random.seed(56)"
   ]
  },
  {
   "cell_type": "code",
   "execution_count": 21,
   "metadata": {},
   "outputs": [
    {
     "data": {
      "application/vnd.plotly.v1+json": {
       "config": {
        "linkText": "Export to plot.ly",
        "plotlyServerURL": "https://plot.ly",
        "showLink": false
       },
       "data": [
        {
         "mode": "markers",
         "name": "markers",
         "type": "scatter",
         "x": [
          0,
          0.010101010101010102,
          0.020202020202020204,
          0.030303030303030304,
          0.04040404040404041,
          0.05050505050505051,
          0.06060606060606061,
          0.07070707070707072,
          0.08080808080808081,
          0.09090909090909091,
          0.10101010101010102,
          0.11111111111111112,
          0.12121212121212122,
          0.13131313131313133,
          0.14141414141414144,
          0.15151515151515152,
          0.16161616161616163,
          0.17171717171717174,
          0.18181818181818182,
          0.19191919191919193,
          0.20202020202020204,
          0.21212121212121213,
          0.22222222222222224,
          0.23232323232323235,
          0.24242424242424243,
          0.25252525252525254,
          0.26262626262626265,
          0.27272727272727276,
          0.2828282828282829,
          0.29292929292929293,
          0.30303030303030304,
          0.31313131313131315,
          0.32323232323232326,
          0.33333333333333337,
          0.3434343434343435,
          0.3535353535353536,
          0.36363636363636365,
          0.37373737373737376,
          0.38383838383838387,
          0.393939393939394,
          0.4040404040404041,
          0.4141414141414142,
          0.42424242424242425,
          0.43434343434343436,
          0.4444444444444445,
          0.4545454545454546,
          0.4646464646464647,
          0.4747474747474748,
          0.48484848484848486,
          0.494949494949495,
          0.5050505050505051,
          0.5151515151515152,
          0.5252525252525253,
          0.5353535353535354,
          0.5454545454545455,
          0.5555555555555556,
          0.5656565656565657,
          0.5757575757575758,
          0.5858585858585859,
          0.595959595959596,
          0.6060606060606061,
          0.6161616161616162,
          0.6262626262626263,
          0.6363636363636365,
          0.6464646464646465,
          0.6565656565656566,
          0.6666666666666667,
          0.6767676767676768,
          0.686868686868687,
          0.696969696969697,
          0.7070707070707072,
          0.7171717171717172,
          0.7272727272727273,
          0.7373737373737375,
          0.7474747474747475,
          0.7575757575757577,
          0.7676767676767677,
          0.7777777777777778,
          0.787878787878788,
          0.797979797979798,
          0.8080808080808082,
          0.8181818181818182,
          0.8282828282828284,
          0.8383838383838385,
          0.8484848484848485,
          0.8585858585858587,
          0.8686868686868687,
          0.8787878787878789,
          0.888888888888889,
          0.8989898989898991,
          0.9090909090909092,
          0.9191919191919192,
          0.9292929292929294,
          0.9393939393939394,
          0.9494949494949496,
          0.9595959595959597,
          0.9696969696969697,
          0.9797979797979799,
          0.98989898989899,
          1
         ],
         "y": [
          19,
          46,
          100,
          74,
          10,
          99,
          82,
          93,
          37,
          69,
          27,
          40,
          73,
          38,
          33,
          44,
          43,
          75,
          12,
          29,
          80,
          93,
          16,
          56,
          8,
          87,
          87,
          38,
          95,
          73,
          52,
          86,
          33,
          29,
          16,
          7,
          9,
          19,
          52,
          10,
          15,
          21,
          56,
          94,
          56,
          82,
          48,
          15,
          105,
          53,
          49,
          78,
          32,
          44,
          101,
          86,
          52,
          79,
          27,
          63,
          94,
          77,
          9,
          62,
          76,
          89,
          45,
          97,
          70,
          29,
          88,
          99,
          86,
          39,
          59,
          78,
          27,
          15,
          71,
          39,
          50,
          19,
          38,
          39,
          75,
          46,
          10,
          26,
          81,
          24,
          29,
          10,
          20,
          72,
          80,
          6,
          8,
          7,
          82,
          36
         ]
        },
        {
         "mode": "lines",
         "name": "mylines",
         "type": "scatter",
         "x": [
          0,
          0.010101010101010102,
          0.020202020202020204,
          0.030303030303030304,
          0.04040404040404041,
          0.05050505050505051,
          0.06060606060606061,
          0.07070707070707072,
          0.08080808080808081,
          0.09090909090909091,
          0.10101010101010102,
          0.11111111111111112,
          0.12121212121212122,
          0.13131313131313133,
          0.14141414141414144,
          0.15151515151515152,
          0.16161616161616163,
          0.17171717171717174,
          0.18181818181818182,
          0.19191919191919193,
          0.20202020202020204,
          0.21212121212121213,
          0.22222222222222224,
          0.23232323232323235,
          0.24242424242424243,
          0.25252525252525254,
          0.26262626262626265,
          0.27272727272727276,
          0.2828282828282829,
          0.29292929292929293,
          0.30303030303030304,
          0.31313131313131315,
          0.32323232323232326,
          0.33333333333333337,
          0.3434343434343435,
          0.3535353535353536,
          0.36363636363636365,
          0.37373737373737376,
          0.38383838383838387,
          0.393939393939394,
          0.4040404040404041,
          0.4141414141414142,
          0.42424242424242425,
          0.43434343434343436,
          0.4444444444444445,
          0.4545454545454546,
          0.4646464646464647,
          0.4747474747474748,
          0.48484848484848486,
          0.494949494949495,
          0.5050505050505051,
          0.5151515151515152,
          0.5252525252525253,
          0.5353535353535354,
          0.5454545454545455,
          0.5555555555555556,
          0.5656565656565657,
          0.5757575757575758,
          0.5858585858585859,
          0.595959595959596,
          0.6060606060606061,
          0.6161616161616162,
          0.6262626262626263,
          0.6363636363636365,
          0.6464646464646465,
          0.6565656565656566,
          0.6666666666666667,
          0.6767676767676768,
          0.686868686868687,
          0.696969696969697,
          0.7070707070707072,
          0.7171717171717172,
          0.7272727272727273,
          0.7373737373737375,
          0.7474747474747475,
          0.7575757575757577,
          0.7676767676767677,
          0.7777777777777778,
          0.787878787878788,
          0.797979797979798,
          0.8080808080808082,
          0.8181818181818182,
          0.8282828282828284,
          0.8383838383838385,
          0.8484848484848485,
          0.8585858585858587,
          0.8686868686868687,
          0.8787878787878789,
          0.888888888888889,
          0.8989898989898991,
          0.9090909090909092,
          0.9191919191919192,
          0.9292929292929294,
          0.9393939393939394,
          0.9494949494949496,
          0.9595959595959597,
          0.9696969696969697,
          0.9797979797979799,
          0.98989898989899,
          1
         ],
         "y": [
          14,
          41,
          95,
          69,
          5,
          94,
          77,
          88,
          32,
          64,
          22,
          35,
          68,
          33,
          28,
          39,
          38,
          70,
          7,
          24,
          75,
          88,
          11,
          51,
          3,
          82,
          82,
          33,
          90,
          68,
          47,
          81,
          28,
          24,
          11,
          2,
          4,
          14,
          47,
          5,
          10,
          16,
          51,
          89,
          51,
          77,
          43,
          10,
          100,
          48,
          44,
          73,
          27,
          39,
          96,
          81,
          47,
          74,
          22,
          58,
          89,
          72,
          4,
          57,
          71,
          84,
          40,
          92,
          65,
          24,
          83,
          94,
          81,
          34,
          54,
          73,
          22,
          10,
          66,
          34,
          45,
          14,
          33,
          34,
          70,
          41,
          5,
          21,
          76,
          19,
          24,
          5,
          15,
          67,
          75,
          1,
          3,
          2,
          77,
          31
         ]
        },
        {
         "mode": "lines+markers",
         "name": "myasaslines",
         "type": "scatter",
         "x": [
          0,
          0.010101010101010102,
          0.020202020202020204,
          0.030303030303030304,
          0.04040404040404041,
          0.05050505050505051,
          0.06060606060606061,
          0.07070707070707072,
          0.08080808080808081,
          0.09090909090909091,
          0.10101010101010102,
          0.11111111111111112,
          0.12121212121212122,
          0.13131313131313133,
          0.14141414141414144,
          0.15151515151515152,
          0.16161616161616163,
          0.17171717171717174,
          0.18181818181818182,
          0.19191919191919193,
          0.20202020202020204,
          0.21212121212121213,
          0.22222222222222224,
          0.23232323232323235,
          0.24242424242424243,
          0.25252525252525254,
          0.26262626262626265,
          0.27272727272727276,
          0.2828282828282829,
          0.29292929292929293,
          0.30303030303030304,
          0.31313131313131315,
          0.32323232323232326,
          0.33333333333333337,
          0.3434343434343435,
          0.3535353535353536,
          0.36363636363636365,
          0.37373737373737376,
          0.38383838383838387,
          0.393939393939394,
          0.4040404040404041,
          0.4141414141414142,
          0.42424242424242425,
          0.43434343434343436,
          0.4444444444444445,
          0.4545454545454546,
          0.4646464646464647,
          0.4747474747474748,
          0.48484848484848486,
          0.494949494949495,
          0.5050505050505051,
          0.5151515151515152,
          0.5252525252525253,
          0.5353535353535354,
          0.5454545454545455,
          0.5555555555555556,
          0.5656565656565657,
          0.5757575757575758,
          0.5858585858585859,
          0.595959595959596,
          0.6060606060606061,
          0.6161616161616162,
          0.6262626262626263,
          0.6363636363636365,
          0.6464646464646465,
          0.6565656565656566,
          0.6666666666666667,
          0.6767676767676768,
          0.686868686868687,
          0.696969696969697,
          0.7070707070707072,
          0.7171717171717172,
          0.7272727272727273,
          0.7373737373737375,
          0.7474747474747475,
          0.7575757575757577,
          0.7676767676767677,
          0.7777777777777778,
          0.787878787878788,
          0.797979797979798,
          0.8080808080808082,
          0.8181818181818182,
          0.8282828282828284,
          0.8383838383838385,
          0.8484848484848485,
          0.8585858585858587,
          0.8686868686868687,
          0.8787878787878789,
          0.888888888888889,
          0.8989898989898991,
          0.9090909090909092,
          0.9191919191919192,
          0.9292929292929294,
          0.9393939393939394,
          0.9494949494949496,
          0.9595959595959597,
          0.9696969696969697,
          0.9797979797979799,
          0.98989898989899,
          1
         ],
         "y": [
          -6,
          21,
          75,
          49,
          -15,
          74,
          57,
          68,
          12,
          44,
          2,
          15,
          48,
          13,
          8,
          19,
          18,
          50,
          -13,
          4,
          55,
          68,
          -9,
          31,
          -17,
          62,
          62,
          13,
          70,
          48,
          27,
          61,
          8,
          4,
          -9,
          -18,
          -16,
          -6,
          27,
          -15,
          -10,
          -4,
          31,
          69,
          31,
          57,
          23,
          -10,
          80,
          28,
          24,
          53,
          7,
          19,
          76,
          61,
          27,
          54,
          2,
          38,
          69,
          52,
          -16,
          37,
          51,
          64,
          20,
          72,
          45,
          4,
          63,
          74,
          61,
          14,
          34,
          53,
          2,
          -10,
          46,
          14,
          25,
          -6,
          13,
          14,
          50,
          21,
          -15,
          1,
          56,
          -1,
          4,
          -15,
          -5,
          47,
          55,
          -19,
          -17,
          -18,
          57,
          11
         ]
        }
       ],
       "layout": {
        "template": {
         "data": {
          "bar": [
           {
            "error_x": {
             "color": "#2a3f5f"
            },
            "error_y": {
             "color": "#2a3f5f"
            },
            "marker": {
             "line": {
              "color": "#E5ECF6",
              "width": 0.5
             }
            },
            "type": "bar"
           }
          ],
          "barpolar": [
           {
            "marker": {
             "line": {
              "color": "#E5ECF6",
              "width": 0.5
             }
            },
            "type": "barpolar"
           }
          ],
          "carpet": [
           {
            "aaxis": {
             "endlinecolor": "#2a3f5f",
             "gridcolor": "white",
             "linecolor": "white",
             "minorgridcolor": "white",
             "startlinecolor": "#2a3f5f"
            },
            "baxis": {
             "endlinecolor": "#2a3f5f",
             "gridcolor": "white",
             "linecolor": "white",
             "minorgridcolor": "white",
             "startlinecolor": "#2a3f5f"
            },
            "type": "carpet"
           }
          ],
          "choropleth": [
           {
            "colorbar": {
             "outlinewidth": 0,
             "ticks": ""
            },
            "type": "choropleth"
           }
          ],
          "contour": [
           {
            "colorbar": {
             "outlinewidth": 0,
             "ticks": ""
            },
            "colorscale": [
             [
              0,
              "#0d0887"
             ],
             [
              0.1111111111111111,
              "#46039f"
             ],
             [
              0.2222222222222222,
              "#7201a8"
             ],
             [
              0.3333333333333333,
              "#9c179e"
             ],
             [
              0.4444444444444444,
              "#bd3786"
             ],
             [
              0.5555555555555556,
              "#d8576b"
             ],
             [
              0.6666666666666666,
              "#ed7953"
             ],
             [
              0.7777777777777778,
              "#fb9f3a"
             ],
             [
              0.8888888888888888,
              "#fdca26"
             ],
             [
              1,
              "#f0f921"
             ]
            ],
            "type": "contour"
           }
          ],
          "contourcarpet": [
           {
            "colorbar": {
             "outlinewidth": 0,
             "ticks": ""
            },
            "type": "contourcarpet"
           }
          ],
          "heatmap": [
           {
            "colorbar": {
             "outlinewidth": 0,
             "ticks": ""
            },
            "colorscale": [
             [
              0,
              "#0d0887"
             ],
             [
              0.1111111111111111,
              "#46039f"
             ],
             [
              0.2222222222222222,
              "#7201a8"
             ],
             [
              0.3333333333333333,
              "#9c179e"
             ],
             [
              0.4444444444444444,
              "#bd3786"
             ],
             [
              0.5555555555555556,
              "#d8576b"
             ],
             [
              0.6666666666666666,
              "#ed7953"
             ],
             [
              0.7777777777777778,
              "#fb9f3a"
             ],
             [
              0.8888888888888888,
              "#fdca26"
             ],
             [
              1,
              "#f0f921"
             ]
            ],
            "type": "heatmap"
           }
          ],
          "heatmapgl": [
           {
            "colorbar": {
             "outlinewidth": 0,
             "ticks": ""
            },
            "colorscale": [
             [
              0,
              "#0d0887"
             ],
             [
              0.1111111111111111,
              "#46039f"
             ],
             [
              0.2222222222222222,
              "#7201a8"
             ],
             [
              0.3333333333333333,
              "#9c179e"
             ],
             [
              0.4444444444444444,
              "#bd3786"
             ],
             [
              0.5555555555555556,
              "#d8576b"
             ],
             [
              0.6666666666666666,
              "#ed7953"
             ],
             [
              0.7777777777777778,
              "#fb9f3a"
             ],
             [
              0.8888888888888888,
              "#fdca26"
             ],
             [
              1,
              "#f0f921"
             ]
            ],
            "type": "heatmapgl"
           }
          ],
          "histogram": [
           {
            "marker": {
             "colorbar": {
              "outlinewidth": 0,
              "ticks": ""
             }
            },
            "type": "histogram"
           }
          ],
          "histogram2d": [
           {
            "colorbar": {
             "outlinewidth": 0,
             "ticks": ""
            },
            "colorscale": [
             [
              0,
              "#0d0887"
             ],
             [
              0.1111111111111111,
              "#46039f"
             ],
             [
              0.2222222222222222,
              "#7201a8"
             ],
             [
              0.3333333333333333,
              "#9c179e"
             ],
             [
              0.4444444444444444,
              "#bd3786"
             ],
             [
              0.5555555555555556,
              "#d8576b"
             ],
             [
              0.6666666666666666,
              "#ed7953"
             ],
             [
              0.7777777777777778,
              "#fb9f3a"
             ],
             [
              0.8888888888888888,
              "#fdca26"
             ],
             [
              1,
              "#f0f921"
             ]
            ],
            "type": "histogram2d"
           }
          ],
          "histogram2dcontour": [
           {
            "colorbar": {
             "outlinewidth": 0,
             "ticks": ""
            },
            "colorscale": [
             [
              0,
              "#0d0887"
             ],
             [
              0.1111111111111111,
              "#46039f"
             ],
             [
              0.2222222222222222,
              "#7201a8"
             ],
             [
              0.3333333333333333,
              "#9c179e"
             ],
             [
              0.4444444444444444,
              "#bd3786"
             ],
             [
              0.5555555555555556,
              "#d8576b"
             ],
             [
              0.6666666666666666,
              "#ed7953"
             ],
             [
              0.7777777777777778,
              "#fb9f3a"
             ],
             [
              0.8888888888888888,
              "#fdca26"
             ],
             [
              1,
              "#f0f921"
             ]
            ],
            "type": "histogram2dcontour"
           }
          ],
          "mesh3d": [
           {
            "colorbar": {
             "outlinewidth": 0,
             "ticks": ""
            },
            "type": "mesh3d"
           }
          ],
          "parcoords": [
           {
            "line": {
             "colorbar": {
              "outlinewidth": 0,
              "ticks": ""
             }
            },
            "type": "parcoords"
           }
          ],
          "pie": [
           {
            "automargin": true,
            "type": "pie"
           }
          ],
          "scatter": [
           {
            "marker": {
             "colorbar": {
              "outlinewidth": 0,
              "ticks": ""
             }
            },
            "type": "scatter"
           }
          ],
          "scatter3d": [
           {
            "line": {
             "colorbar": {
              "outlinewidth": 0,
              "ticks": ""
             }
            },
            "marker": {
             "colorbar": {
              "outlinewidth": 0,
              "ticks": ""
             }
            },
            "type": "scatter3d"
           }
          ],
          "scattercarpet": [
           {
            "marker": {
             "colorbar": {
              "outlinewidth": 0,
              "ticks": ""
             }
            },
            "type": "scattercarpet"
           }
          ],
          "scattergeo": [
           {
            "marker": {
             "colorbar": {
              "outlinewidth": 0,
              "ticks": ""
             }
            },
            "type": "scattergeo"
           }
          ],
          "scattergl": [
           {
            "marker": {
             "colorbar": {
              "outlinewidth": 0,
              "ticks": ""
             }
            },
            "type": "scattergl"
           }
          ],
          "scattermapbox": [
           {
            "marker": {
             "colorbar": {
              "outlinewidth": 0,
              "ticks": ""
             }
            },
            "type": "scattermapbox"
           }
          ],
          "scatterpolar": [
           {
            "marker": {
             "colorbar": {
              "outlinewidth": 0,
              "ticks": ""
             }
            },
            "type": "scatterpolar"
           }
          ],
          "scatterpolargl": [
           {
            "marker": {
             "colorbar": {
              "outlinewidth": 0,
              "ticks": ""
             }
            },
            "type": "scatterpolargl"
           }
          ],
          "scatterternary": [
           {
            "marker": {
             "colorbar": {
              "outlinewidth": 0,
              "ticks": ""
             }
            },
            "type": "scatterternary"
           }
          ],
          "surface": [
           {
            "colorbar": {
             "outlinewidth": 0,
             "ticks": ""
            },
            "colorscale": [
             [
              0,
              "#0d0887"
             ],
             [
              0.1111111111111111,
              "#46039f"
             ],
             [
              0.2222222222222222,
              "#7201a8"
             ],
             [
              0.3333333333333333,
              "#9c179e"
             ],
             [
              0.4444444444444444,
              "#bd3786"
             ],
             [
              0.5555555555555556,
              "#d8576b"
             ],
             [
              0.6666666666666666,
              "#ed7953"
             ],
             [
              0.7777777777777778,
              "#fb9f3a"
             ],
             [
              0.8888888888888888,
              "#fdca26"
             ],
             [
              1,
              "#f0f921"
             ]
            ],
            "type": "surface"
           }
          ],
          "table": [
           {
            "cells": {
             "fill": {
              "color": "#EBF0F8"
             },
             "line": {
              "color": "white"
             }
            },
            "header": {
             "fill": {
              "color": "#C8D4E3"
             },
             "line": {
              "color": "white"
             }
            },
            "type": "table"
           }
          ]
         },
         "layout": {
          "annotationdefaults": {
           "arrowcolor": "#2a3f5f",
           "arrowhead": 0,
           "arrowwidth": 1
          },
          "coloraxis": {
           "colorbar": {
            "outlinewidth": 0,
            "ticks": ""
           }
          },
          "colorscale": {
           "diverging": [
            [
             0,
             "#8e0152"
            ],
            [
             0.1,
             "#c51b7d"
            ],
            [
             0.2,
             "#de77ae"
            ],
            [
             0.3,
             "#f1b6da"
            ],
            [
             0.4,
             "#fde0ef"
            ],
            [
             0.5,
             "#f7f7f7"
            ],
            [
             0.6,
             "#e6f5d0"
            ],
            [
             0.7,
             "#b8e186"
            ],
            [
             0.8,
             "#7fbc41"
            ],
            [
             0.9,
             "#4d9221"
            ],
            [
             1,
             "#276419"
            ]
           ],
           "sequential": [
            [
             0,
             "#0d0887"
            ],
            [
             0.1111111111111111,
             "#46039f"
            ],
            [
             0.2222222222222222,
             "#7201a8"
            ],
            [
             0.3333333333333333,
             "#9c179e"
            ],
            [
             0.4444444444444444,
             "#bd3786"
            ],
            [
             0.5555555555555556,
             "#d8576b"
            ],
            [
             0.6666666666666666,
             "#ed7953"
            ],
            [
             0.7777777777777778,
             "#fb9f3a"
            ],
            [
             0.8888888888888888,
             "#fdca26"
            ],
            [
             1,
             "#f0f921"
            ]
           ],
           "sequentialminus": [
            [
             0,
             "#0d0887"
            ],
            [
             0.1111111111111111,
             "#46039f"
            ],
            [
             0.2222222222222222,
             "#7201a8"
            ],
            [
             0.3333333333333333,
             "#9c179e"
            ],
            [
             0.4444444444444444,
             "#bd3786"
            ],
            [
             0.5555555555555556,
             "#d8576b"
            ],
            [
             0.6666666666666666,
             "#ed7953"
            ],
            [
             0.7777777777777778,
             "#fb9f3a"
            ],
            [
             0.8888888888888888,
             "#fdca26"
            ],
            [
             1,
             "#f0f921"
            ]
           ]
          },
          "colorway": [
           "#636efa",
           "#EF553B",
           "#00cc96",
           "#ab63fa",
           "#FFA15A",
           "#19d3f3",
           "#FF6692",
           "#B6E880",
           "#FF97FF",
           "#FECB52"
          ],
          "font": {
           "color": "#2a3f5f"
          },
          "geo": {
           "bgcolor": "white",
           "lakecolor": "white",
           "landcolor": "#E5ECF6",
           "showlakes": true,
           "showland": true,
           "subunitcolor": "white"
          },
          "hoverlabel": {
           "align": "left"
          },
          "hovermode": "closest",
          "mapbox": {
           "style": "light"
          },
          "paper_bgcolor": "white",
          "plot_bgcolor": "#E5ECF6",
          "polar": {
           "angularaxis": {
            "gridcolor": "white",
            "linecolor": "white",
            "ticks": ""
           },
           "bgcolor": "#E5ECF6",
           "radialaxis": {
            "gridcolor": "white",
            "linecolor": "white",
            "ticks": ""
           }
          },
          "scene": {
           "xaxis": {
            "backgroundcolor": "#E5ECF6",
            "gridcolor": "white",
            "gridwidth": 2,
            "linecolor": "white",
            "showbackground": true,
            "ticks": "",
            "zerolinecolor": "white"
           },
           "yaxis": {
            "backgroundcolor": "#E5ECF6",
            "gridcolor": "white",
            "gridwidth": 2,
            "linecolor": "white",
            "showbackground": true,
            "ticks": "",
            "zerolinecolor": "white"
           },
           "zaxis": {
            "backgroundcolor": "#E5ECF6",
            "gridcolor": "white",
            "gridwidth": 2,
            "linecolor": "white",
            "showbackground": true,
            "ticks": "",
            "zerolinecolor": "white"
           }
          },
          "shapedefaults": {
           "line": {
            "color": "#2a3f5f"
           }
          },
          "ternary": {
           "aaxis": {
            "gridcolor": "white",
            "linecolor": "white",
            "ticks": ""
           },
           "baxis": {
            "gridcolor": "white",
            "linecolor": "white",
            "ticks": ""
           },
           "bgcolor": "#E5ECF6",
           "caxis": {
            "gridcolor": "white",
            "linecolor": "white",
            "ticks": ""
           }
          },
          "title": {
           "x": 0.05
          },
          "xaxis": {
           "automargin": true,
           "gridcolor": "white",
           "linecolor": "white",
           "ticks": "",
           "title": {
            "standoff": 15
           },
           "zerolinecolor": "white",
           "zerolinewidth": 2
          },
          "yaxis": {
           "automargin": true,
           "gridcolor": "white",
           "linecolor": "white",
           "ticks": "",
           "title": {
            "standoff": 15
           },
           "zerolinecolor": "white",
           "zerolinewidth": 2
          }
         }
        },
        "title": {
         "text": "Line charts"
        }
       }
      },
      "text/html": [
       "<div>\n",
       "        \n",
       "        \n",
       "            <div id=\"290db640-9779-4209-9077-68ad6c6cdf11\" class=\"plotly-graph-div\" style=\"height:525px; width:100%;\"></div>\n",
       "            <script type=\"text/javascript\">\n",
       "                require([\"plotly\"], function(Plotly) {\n",
       "                    window.PLOTLYENV=window.PLOTLYENV || {};\n",
       "                    \n",
       "                if (document.getElementById(\"290db640-9779-4209-9077-68ad6c6cdf11\")) {\n",
       "                    Plotly.newPlot(\n",
       "                        '290db640-9779-4209-9077-68ad6c6cdf11',\n",
       "                        [{\"mode\": \"markers\", \"name\": \"markers\", \"type\": \"scatter\", \"x\": [0.0, 0.010101010101010102, 0.020202020202020204, 0.030303030303030304, 0.04040404040404041, 0.05050505050505051, 0.06060606060606061, 0.07070707070707072, 0.08080808080808081, 0.09090909090909091, 0.10101010101010102, 0.11111111111111112, 0.12121212121212122, 0.13131313131313133, 0.14141414141414144, 0.15151515151515152, 0.16161616161616163, 0.17171717171717174, 0.18181818181818182, 0.19191919191919193, 0.20202020202020204, 0.21212121212121213, 0.22222222222222224, 0.23232323232323235, 0.24242424242424243, 0.25252525252525254, 0.26262626262626265, 0.27272727272727276, 0.2828282828282829, 0.29292929292929293, 0.30303030303030304, 0.31313131313131315, 0.32323232323232326, 0.33333333333333337, 0.3434343434343435, 0.3535353535353536, 0.36363636363636365, 0.37373737373737376, 0.38383838383838387, 0.393939393939394, 0.4040404040404041, 0.4141414141414142, 0.42424242424242425, 0.43434343434343436, 0.4444444444444445, 0.4545454545454546, 0.4646464646464647, 0.4747474747474748, 0.48484848484848486, 0.494949494949495, 0.5050505050505051, 0.5151515151515152, 0.5252525252525253, 0.5353535353535354, 0.5454545454545455, 0.5555555555555556, 0.5656565656565657, 0.5757575757575758, 0.5858585858585859, 0.595959595959596, 0.6060606060606061, 0.6161616161616162, 0.6262626262626263, 0.6363636363636365, 0.6464646464646465, 0.6565656565656566, 0.6666666666666667, 0.6767676767676768, 0.686868686868687, 0.696969696969697, 0.7070707070707072, 0.7171717171717172, 0.7272727272727273, 0.7373737373737375, 0.7474747474747475, 0.7575757575757577, 0.7676767676767677, 0.7777777777777778, 0.787878787878788, 0.797979797979798, 0.8080808080808082, 0.8181818181818182, 0.8282828282828284, 0.8383838383838385, 0.8484848484848485, 0.8585858585858587, 0.8686868686868687, 0.8787878787878789, 0.888888888888889, 0.8989898989898991, 0.9090909090909092, 0.9191919191919192, 0.9292929292929294, 0.9393939393939394, 0.9494949494949496, 0.9595959595959597, 0.9696969696969697, 0.9797979797979799, 0.98989898989899, 1.0], \"y\": [19, 46, 100, 74, 10, 99, 82, 93, 37, 69, 27, 40, 73, 38, 33, 44, 43, 75, 12, 29, 80, 93, 16, 56, 8, 87, 87, 38, 95, 73, 52, 86, 33, 29, 16, 7, 9, 19, 52, 10, 15, 21, 56, 94, 56, 82, 48, 15, 105, 53, 49, 78, 32, 44, 101, 86, 52, 79, 27, 63, 94, 77, 9, 62, 76, 89, 45, 97, 70, 29, 88, 99, 86, 39, 59, 78, 27, 15, 71, 39, 50, 19, 38, 39, 75, 46, 10, 26, 81, 24, 29, 10, 20, 72, 80, 6, 8, 7, 82, 36]}, {\"mode\": \"lines\", \"name\": \"mylines\", \"type\": \"scatter\", \"x\": [0.0, 0.010101010101010102, 0.020202020202020204, 0.030303030303030304, 0.04040404040404041, 0.05050505050505051, 0.06060606060606061, 0.07070707070707072, 0.08080808080808081, 0.09090909090909091, 0.10101010101010102, 0.11111111111111112, 0.12121212121212122, 0.13131313131313133, 0.14141414141414144, 0.15151515151515152, 0.16161616161616163, 0.17171717171717174, 0.18181818181818182, 0.19191919191919193, 0.20202020202020204, 0.21212121212121213, 0.22222222222222224, 0.23232323232323235, 0.24242424242424243, 0.25252525252525254, 0.26262626262626265, 0.27272727272727276, 0.2828282828282829, 0.29292929292929293, 0.30303030303030304, 0.31313131313131315, 0.32323232323232326, 0.33333333333333337, 0.3434343434343435, 0.3535353535353536, 0.36363636363636365, 0.37373737373737376, 0.38383838383838387, 0.393939393939394, 0.4040404040404041, 0.4141414141414142, 0.42424242424242425, 0.43434343434343436, 0.4444444444444445, 0.4545454545454546, 0.4646464646464647, 0.4747474747474748, 0.48484848484848486, 0.494949494949495, 0.5050505050505051, 0.5151515151515152, 0.5252525252525253, 0.5353535353535354, 0.5454545454545455, 0.5555555555555556, 0.5656565656565657, 0.5757575757575758, 0.5858585858585859, 0.595959595959596, 0.6060606060606061, 0.6161616161616162, 0.6262626262626263, 0.6363636363636365, 0.6464646464646465, 0.6565656565656566, 0.6666666666666667, 0.6767676767676768, 0.686868686868687, 0.696969696969697, 0.7070707070707072, 0.7171717171717172, 0.7272727272727273, 0.7373737373737375, 0.7474747474747475, 0.7575757575757577, 0.7676767676767677, 0.7777777777777778, 0.787878787878788, 0.797979797979798, 0.8080808080808082, 0.8181818181818182, 0.8282828282828284, 0.8383838383838385, 0.8484848484848485, 0.8585858585858587, 0.8686868686868687, 0.8787878787878789, 0.888888888888889, 0.8989898989898991, 0.9090909090909092, 0.9191919191919192, 0.9292929292929294, 0.9393939393939394, 0.9494949494949496, 0.9595959595959597, 0.9696969696969697, 0.9797979797979799, 0.98989898989899, 1.0], \"y\": [14, 41, 95, 69, 5, 94, 77, 88, 32, 64, 22, 35, 68, 33, 28, 39, 38, 70, 7, 24, 75, 88, 11, 51, 3, 82, 82, 33, 90, 68, 47, 81, 28, 24, 11, 2, 4, 14, 47, 5, 10, 16, 51, 89, 51, 77, 43, 10, 100, 48, 44, 73, 27, 39, 96, 81, 47, 74, 22, 58, 89, 72, 4, 57, 71, 84, 40, 92, 65, 24, 83, 94, 81, 34, 54, 73, 22, 10, 66, 34, 45, 14, 33, 34, 70, 41, 5, 21, 76, 19, 24, 5, 15, 67, 75, 1, 3, 2, 77, 31]}, {\"mode\": \"lines+markers\", \"name\": \"myasaslines\", \"type\": \"scatter\", \"x\": [0.0, 0.010101010101010102, 0.020202020202020204, 0.030303030303030304, 0.04040404040404041, 0.05050505050505051, 0.06060606060606061, 0.07070707070707072, 0.08080808080808081, 0.09090909090909091, 0.10101010101010102, 0.11111111111111112, 0.12121212121212122, 0.13131313131313133, 0.14141414141414144, 0.15151515151515152, 0.16161616161616163, 0.17171717171717174, 0.18181818181818182, 0.19191919191919193, 0.20202020202020204, 0.21212121212121213, 0.22222222222222224, 0.23232323232323235, 0.24242424242424243, 0.25252525252525254, 0.26262626262626265, 0.27272727272727276, 0.2828282828282829, 0.29292929292929293, 0.30303030303030304, 0.31313131313131315, 0.32323232323232326, 0.33333333333333337, 0.3434343434343435, 0.3535353535353536, 0.36363636363636365, 0.37373737373737376, 0.38383838383838387, 0.393939393939394, 0.4040404040404041, 0.4141414141414142, 0.42424242424242425, 0.43434343434343436, 0.4444444444444445, 0.4545454545454546, 0.4646464646464647, 0.4747474747474748, 0.48484848484848486, 0.494949494949495, 0.5050505050505051, 0.5151515151515152, 0.5252525252525253, 0.5353535353535354, 0.5454545454545455, 0.5555555555555556, 0.5656565656565657, 0.5757575757575758, 0.5858585858585859, 0.595959595959596, 0.6060606060606061, 0.6161616161616162, 0.6262626262626263, 0.6363636363636365, 0.6464646464646465, 0.6565656565656566, 0.6666666666666667, 0.6767676767676768, 0.686868686868687, 0.696969696969697, 0.7070707070707072, 0.7171717171717172, 0.7272727272727273, 0.7373737373737375, 0.7474747474747475, 0.7575757575757577, 0.7676767676767677, 0.7777777777777778, 0.787878787878788, 0.797979797979798, 0.8080808080808082, 0.8181818181818182, 0.8282828282828284, 0.8383838383838385, 0.8484848484848485, 0.8585858585858587, 0.8686868686868687, 0.8787878787878789, 0.888888888888889, 0.8989898989898991, 0.9090909090909092, 0.9191919191919192, 0.9292929292929294, 0.9393939393939394, 0.9494949494949496, 0.9595959595959597, 0.9696969696969697, 0.9797979797979799, 0.98989898989899, 1.0], \"y\": [-6, 21, 75, 49, -15, 74, 57, 68, 12, 44, 2, 15, 48, 13, 8, 19, 18, 50, -13, 4, 55, 68, -9, 31, -17, 62, 62, 13, 70, 48, 27, 61, 8, 4, -9, -18, -16, -6, 27, -15, -10, -4, 31, 69, 31, 57, 23, -10, 80, 28, 24, 53, 7, 19, 76, 61, 27, 54, 2, 38, 69, 52, -16, 37, 51, 64, 20, 72, 45, 4, 63, 74, 61, 14, 34, 53, 2, -10, 46, 14, 25, -6, 13, 14, 50, 21, -15, 1, 56, -1, 4, -15, -5, 47, 55, -19, -17, -18, 57, 11]}],\n",
       "                        {\"template\": {\"data\": {\"bar\": [{\"error_x\": {\"color\": \"#2a3f5f\"}, \"error_y\": {\"color\": \"#2a3f5f\"}, \"marker\": {\"line\": {\"color\": \"#E5ECF6\", \"width\": 0.5}}, \"type\": \"bar\"}], \"barpolar\": [{\"marker\": {\"line\": {\"color\": \"#E5ECF6\", \"width\": 0.5}}, \"type\": \"barpolar\"}], \"carpet\": [{\"aaxis\": {\"endlinecolor\": \"#2a3f5f\", \"gridcolor\": \"white\", \"linecolor\": \"white\", \"minorgridcolor\": \"white\", \"startlinecolor\": \"#2a3f5f\"}, \"baxis\": {\"endlinecolor\": \"#2a3f5f\", \"gridcolor\": \"white\", \"linecolor\": \"white\", \"minorgridcolor\": \"white\", \"startlinecolor\": \"#2a3f5f\"}, \"type\": \"carpet\"}], \"choropleth\": [{\"colorbar\": {\"outlinewidth\": 0, \"ticks\": \"\"}, \"type\": \"choropleth\"}], \"contour\": [{\"colorbar\": {\"outlinewidth\": 0, \"ticks\": \"\"}, \"colorscale\": [[0.0, \"#0d0887\"], [0.1111111111111111, \"#46039f\"], [0.2222222222222222, \"#7201a8\"], [0.3333333333333333, \"#9c179e\"], [0.4444444444444444, \"#bd3786\"], [0.5555555555555556, \"#d8576b\"], [0.6666666666666666, \"#ed7953\"], [0.7777777777777778, \"#fb9f3a\"], [0.8888888888888888, \"#fdca26\"], [1.0, \"#f0f921\"]], \"type\": \"contour\"}], \"contourcarpet\": [{\"colorbar\": {\"outlinewidth\": 0, \"ticks\": \"\"}, \"type\": \"contourcarpet\"}], \"heatmap\": [{\"colorbar\": {\"outlinewidth\": 0, \"ticks\": \"\"}, \"colorscale\": [[0.0, \"#0d0887\"], [0.1111111111111111, \"#46039f\"], [0.2222222222222222, \"#7201a8\"], [0.3333333333333333, \"#9c179e\"], [0.4444444444444444, \"#bd3786\"], [0.5555555555555556, \"#d8576b\"], [0.6666666666666666, \"#ed7953\"], [0.7777777777777778, \"#fb9f3a\"], [0.8888888888888888, \"#fdca26\"], [1.0, \"#f0f921\"]], \"type\": \"heatmap\"}], \"heatmapgl\": [{\"colorbar\": {\"outlinewidth\": 0, \"ticks\": \"\"}, \"colorscale\": [[0.0, \"#0d0887\"], [0.1111111111111111, \"#46039f\"], [0.2222222222222222, \"#7201a8\"], [0.3333333333333333, \"#9c179e\"], [0.4444444444444444, \"#bd3786\"], [0.5555555555555556, \"#d8576b\"], [0.6666666666666666, \"#ed7953\"], [0.7777777777777778, \"#fb9f3a\"], [0.8888888888888888, \"#fdca26\"], [1.0, \"#f0f921\"]], \"type\": \"heatmapgl\"}], \"histogram\": [{\"marker\": {\"colorbar\": {\"outlinewidth\": 0, \"ticks\": \"\"}}, \"type\": \"histogram\"}], \"histogram2d\": [{\"colorbar\": {\"outlinewidth\": 0, \"ticks\": \"\"}, \"colorscale\": [[0.0, \"#0d0887\"], [0.1111111111111111, \"#46039f\"], [0.2222222222222222, \"#7201a8\"], [0.3333333333333333, \"#9c179e\"], [0.4444444444444444, \"#bd3786\"], [0.5555555555555556, \"#d8576b\"], [0.6666666666666666, \"#ed7953\"], [0.7777777777777778, \"#fb9f3a\"], [0.8888888888888888, \"#fdca26\"], [1.0, \"#f0f921\"]], \"type\": \"histogram2d\"}], \"histogram2dcontour\": [{\"colorbar\": {\"outlinewidth\": 0, \"ticks\": \"\"}, \"colorscale\": [[0.0, \"#0d0887\"], [0.1111111111111111, \"#46039f\"], [0.2222222222222222, \"#7201a8\"], [0.3333333333333333, \"#9c179e\"], [0.4444444444444444, \"#bd3786\"], [0.5555555555555556, \"#d8576b\"], [0.6666666666666666, \"#ed7953\"], [0.7777777777777778, \"#fb9f3a\"], [0.8888888888888888, \"#fdca26\"], [1.0, \"#f0f921\"]], \"type\": \"histogram2dcontour\"}], \"mesh3d\": [{\"colorbar\": {\"outlinewidth\": 0, \"ticks\": \"\"}, \"type\": \"mesh3d\"}], \"parcoords\": [{\"line\": {\"colorbar\": {\"outlinewidth\": 0, \"ticks\": \"\"}}, \"type\": \"parcoords\"}], \"pie\": [{\"automargin\": true, \"type\": \"pie\"}], \"scatter\": [{\"marker\": {\"colorbar\": {\"outlinewidth\": 0, \"ticks\": \"\"}}, \"type\": \"scatter\"}], \"scatter3d\": [{\"line\": {\"colorbar\": {\"outlinewidth\": 0, \"ticks\": \"\"}}, \"marker\": {\"colorbar\": {\"outlinewidth\": 0, \"ticks\": \"\"}}, \"type\": \"scatter3d\"}], \"scattercarpet\": [{\"marker\": {\"colorbar\": {\"outlinewidth\": 0, \"ticks\": \"\"}}, \"type\": \"scattercarpet\"}], \"scattergeo\": [{\"marker\": {\"colorbar\": {\"outlinewidth\": 0, \"ticks\": \"\"}}, \"type\": \"scattergeo\"}], \"scattergl\": [{\"marker\": {\"colorbar\": {\"outlinewidth\": 0, \"ticks\": \"\"}}, \"type\": \"scattergl\"}], \"scattermapbox\": [{\"marker\": {\"colorbar\": {\"outlinewidth\": 0, \"ticks\": \"\"}}, \"type\": \"scattermapbox\"}], \"scatterpolar\": [{\"marker\": {\"colorbar\": {\"outlinewidth\": 0, \"ticks\": \"\"}}, \"type\": \"scatterpolar\"}], \"scatterpolargl\": [{\"marker\": {\"colorbar\": {\"outlinewidth\": 0, \"ticks\": \"\"}}, \"type\": \"scatterpolargl\"}], \"scatterternary\": [{\"marker\": {\"colorbar\": {\"outlinewidth\": 0, \"ticks\": \"\"}}, \"type\": \"scatterternary\"}], \"surface\": [{\"colorbar\": {\"outlinewidth\": 0, \"ticks\": \"\"}, \"colorscale\": [[0.0, \"#0d0887\"], [0.1111111111111111, \"#46039f\"], [0.2222222222222222, \"#7201a8\"], [0.3333333333333333, \"#9c179e\"], [0.4444444444444444, \"#bd3786\"], [0.5555555555555556, \"#d8576b\"], [0.6666666666666666, \"#ed7953\"], [0.7777777777777778, \"#fb9f3a\"], [0.8888888888888888, \"#fdca26\"], [1.0, \"#f0f921\"]], \"type\": \"surface\"}], \"table\": [{\"cells\": {\"fill\": {\"color\": \"#EBF0F8\"}, \"line\": {\"color\": \"white\"}}, \"header\": {\"fill\": {\"color\": \"#C8D4E3\"}, \"line\": {\"color\": \"white\"}}, \"type\": \"table\"}]}, \"layout\": {\"annotationdefaults\": {\"arrowcolor\": \"#2a3f5f\", \"arrowhead\": 0, \"arrowwidth\": 1}, \"coloraxis\": {\"colorbar\": {\"outlinewidth\": 0, \"ticks\": \"\"}}, \"colorscale\": {\"diverging\": [[0, \"#8e0152\"], [0.1, \"#c51b7d\"], [0.2, \"#de77ae\"], [0.3, \"#f1b6da\"], [0.4, \"#fde0ef\"], [0.5, \"#f7f7f7\"], [0.6, \"#e6f5d0\"], [0.7, \"#b8e186\"], [0.8, \"#7fbc41\"], [0.9, \"#4d9221\"], [1, \"#276419\"]], \"sequential\": [[0.0, \"#0d0887\"], [0.1111111111111111, \"#46039f\"], [0.2222222222222222, \"#7201a8\"], [0.3333333333333333, \"#9c179e\"], [0.4444444444444444, \"#bd3786\"], [0.5555555555555556, \"#d8576b\"], [0.6666666666666666, \"#ed7953\"], [0.7777777777777778, \"#fb9f3a\"], [0.8888888888888888, \"#fdca26\"], [1.0, \"#f0f921\"]], \"sequentialminus\": [[0.0, \"#0d0887\"], [0.1111111111111111, \"#46039f\"], [0.2222222222222222, \"#7201a8\"], [0.3333333333333333, \"#9c179e\"], [0.4444444444444444, \"#bd3786\"], [0.5555555555555556, \"#d8576b\"], [0.6666666666666666, \"#ed7953\"], [0.7777777777777778, \"#fb9f3a\"], [0.8888888888888888, \"#fdca26\"], [1.0, \"#f0f921\"]]}, \"colorway\": [\"#636efa\", \"#EF553B\", \"#00cc96\", \"#ab63fa\", \"#FFA15A\", \"#19d3f3\", \"#FF6692\", \"#B6E880\", \"#FF97FF\", \"#FECB52\"], \"font\": {\"color\": \"#2a3f5f\"}, \"geo\": {\"bgcolor\": \"white\", \"lakecolor\": \"white\", \"landcolor\": \"#E5ECF6\", \"showlakes\": true, \"showland\": true, \"subunitcolor\": \"white\"}, \"hoverlabel\": {\"align\": \"left\"}, \"hovermode\": \"closest\", \"mapbox\": {\"style\": \"light\"}, \"paper_bgcolor\": \"white\", \"plot_bgcolor\": \"#E5ECF6\", \"polar\": {\"angularaxis\": {\"gridcolor\": \"white\", \"linecolor\": \"white\", \"ticks\": \"\"}, \"bgcolor\": \"#E5ECF6\", \"radialaxis\": {\"gridcolor\": \"white\", \"linecolor\": \"white\", \"ticks\": \"\"}}, \"scene\": {\"xaxis\": {\"backgroundcolor\": \"#E5ECF6\", \"gridcolor\": \"white\", \"gridwidth\": 2, \"linecolor\": \"white\", \"showbackground\": true, \"ticks\": \"\", \"zerolinecolor\": \"white\"}, \"yaxis\": {\"backgroundcolor\": \"#E5ECF6\", \"gridcolor\": \"white\", \"gridwidth\": 2, \"linecolor\": \"white\", \"showbackground\": true, \"ticks\": \"\", \"zerolinecolor\": \"white\"}, \"zaxis\": {\"backgroundcolor\": \"#E5ECF6\", \"gridcolor\": \"white\", \"gridwidth\": 2, \"linecolor\": \"white\", \"showbackground\": true, \"ticks\": \"\", \"zerolinecolor\": \"white\"}}, \"shapedefaults\": {\"line\": {\"color\": \"#2a3f5f\"}}, \"ternary\": {\"aaxis\": {\"gridcolor\": \"white\", \"linecolor\": \"white\", \"ticks\": \"\"}, \"baxis\": {\"gridcolor\": \"white\", \"linecolor\": \"white\", \"ticks\": \"\"}, \"bgcolor\": \"#E5ECF6\", \"caxis\": {\"gridcolor\": \"white\", \"linecolor\": \"white\", \"ticks\": \"\"}}, \"title\": {\"x\": 0.05}, \"xaxis\": {\"automargin\": true, \"gridcolor\": \"white\", \"linecolor\": \"white\", \"ticks\": \"\", \"title\": {\"standoff\": 15}, \"zerolinecolor\": \"white\", \"zerolinewidth\": 2}, \"yaxis\": {\"automargin\": true, \"gridcolor\": \"white\", \"linecolor\": \"white\", \"ticks\": \"\", \"title\": {\"standoff\": 15}, \"zerolinecolor\": \"white\", \"zerolinewidth\": 2}}}, \"title\": {\"text\": \"Line charts\"}},\n",
       "                        {\"responsive\": true}\n",
       "                    ).then(function(){\n",
       "                            \n",
       "var gd = document.getElementById('290db640-9779-4209-9077-68ad6c6cdf11');\n",
       "var x = new MutationObserver(function (mutations, observer) {{\n",
       "        var display = window.getComputedStyle(gd).display;\n",
       "        if (!display || display === 'none') {{\n",
       "            console.log([gd, 'removed!']);\n",
       "            Plotly.purge(gd);\n",
       "            observer.disconnect();\n",
       "        }}\n",
       "}});\n",
       "\n",
       "// Listen for the removal of the full notebook cells\n",
       "var notebookContainer = gd.closest('#notebook-container');\n",
       "if (notebookContainer) {{\n",
       "    x.observe(notebookContainer, {childList: true});\n",
       "}}\n",
       "\n",
       "// Listen for the clearing of the current output cell\n",
       "var outputEl = gd.closest('.output');\n",
       "if (outputEl) {{\n",
       "    x.observe(outputEl, {childList: true});\n",
       "}}\n",
       "\n",
       "                        })\n",
       "                };\n",
       "                });\n",
       "            </script>\n",
       "        </div>"
      ]
     },
     "metadata": {},
     "output_type": "display_data"
    }
   ],
   "source": [
    "x_values = np.linspace(0,1,100)\n",
    "y_values = np.random.randint(1,101,100)\n",
    "\n",
    "trace0 = go.Scatter(x=x_values,y=y_values+5,mode='markers',name='markers')\n",
    "\n",
    "trace1 = go.Scatter(x=x_values,y=y_values,mode='lines',name='mylines')\n",
    "\n",
    "trace2 = go.Scatter(x=x_values,y=y_values-20,mode='lines+markers',name='myasaslines')\n",
    "\n",
    "\n",
    "\n",
    "data = [trace0,trace1,trace2]\n",
    "\n",
    "layout = go.Layout(title='Line charts')\n",
    "\n",
    "fig = go.Figure(data=data,layout=layout )\n",
    "pyo.iplot(fig)\n"
   ]
  },
  {
   "cell_type": "code",
   "execution_count": 24,
   "metadata": {},
   "outputs": [],
   "source": [
    "import pandas as pd\n",
    "df = pd.read_csv('data/nst-est2017-alldata.csv')"
   ]
  },
  {
   "cell_type": "code",
   "execution_count": 26,
   "metadata": {},
   "outputs": [
    {
     "data": {
      "text/html": [
       "<div>\n",
       "<style scoped>\n",
       "    .dataframe tbody tr th:only-of-type {\n",
       "        vertical-align: middle;\n",
       "    }\n",
       "\n",
       "    .dataframe tbody tr th {\n",
       "        vertical-align: top;\n",
       "    }\n",
       "\n",
       "    .dataframe thead th {\n",
       "        text-align: right;\n",
       "    }\n",
       "</style>\n",
       "<table border=\"1\" class=\"dataframe\">\n",
       "  <thead>\n",
       "    <tr style=\"text-align: right;\">\n",
       "      <th></th>\n",
       "      <th>SUMLEV</th>\n",
       "      <th>REGION</th>\n",
       "      <th>DIVISION</th>\n",
       "      <th>STATE</th>\n",
       "      <th>NAME</th>\n",
       "      <th>CENSUS2010POP</th>\n",
       "      <th>ESTIMATESBASE2010</th>\n",
       "      <th>POPESTIMATE2010</th>\n",
       "      <th>POPESTIMATE2011</th>\n",
       "      <th>POPESTIMATE2012</th>\n",
       "      <th>...</th>\n",
       "      <th>RDOMESTICMIG2015</th>\n",
       "      <th>RDOMESTICMIG2016</th>\n",
       "      <th>RDOMESTICMIG2017</th>\n",
       "      <th>RNETMIG2011</th>\n",
       "      <th>RNETMIG2012</th>\n",
       "      <th>RNETMIG2013</th>\n",
       "      <th>RNETMIG2014</th>\n",
       "      <th>RNETMIG2015</th>\n",
       "      <th>RNETMIG2016</th>\n",
       "      <th>RNETMIG2017</th>\n",
       "    </tr>\n",
       "  </thead>\n",
       "  <tbody>\n",
       "    <tr>\n",
       "      <th>0</th>\n",
       "      <td>10.0</td>\n",
       "      <td>0</td>\n",
       "      <td>0</td>\n",
       "      <td>0.0</td>\n",
       "      <td>United States</td>\n",
       "      <td>308745538.0</td>\n",
       "      <td>308758105.0</td>\n",
       "      <td>309338421.0</td>\n",
       "      <td>311644280.0</td>\n",
       "      <td>313993272.0</td>\n",
       "      <td>...</td>\n",
       "      <td>0.000000</td>\n",
       "      <td>0.000000</td>\n",
       "      <td>0.000000</td>\n",
       "      <td>2.720900</td>\n",
       "      <td>2.920371</td>\n",
       "      <td>2.883643</td>\n",
       "      <td>3.173228</td>\n",
       "      <td>3.516743</td>\n",
       "      <td>3.513394</td>\n",
       "      <td>3.423941</td>\n",
       "    </tr>\n",
       "    <tr>\n",
       "      <th>1</th>\n",
       "      <td>20.0</td>\n",
       "      <td>1</td>\n",
       "      <td>0</td>\n",
       "      <td>0.0</td>\n",
       "      <td>Northeast Region</td>\n",
       "      <td>55317240.0</td>\n",
       "      <td>55318350.0</td>\n",
       "      <td>55388349.0</td>\n",
       "      <td>55642659.0</td>\n",
       "      <td>55860261.0</td>\n",
       "      <td>...</td>\n",
       "      <td>-6.103092</td>\n",
       "      <td>-6.619089</td>\n",
       "      <td>-5.559570</td>\n",
       "      <td>1.467950</td>\n",
       "      <td>0.779137</td>\n",
       "      <td>0.605873</td>\n",
       "      <td>-0.082832</td>\n",
       "      <td>-0.903931</td>\n",
       "      <td>-1.307503</td>\n",
       "      <td>-0.288930</td>\n",
       "    </tr>\n",
       "    <tr>\n",
       "      <th>2</th>\n",
       "      <td>20.0</td>\n",
       "      <td>2</td>\n",
       "      <td>0</td>\n",
       "      <td>0.0</td>\n",
       "      <td>Midwest Region</td>\n",
       "      <td>66927001.0</td>\n",
       "      <td>66929794.0</td>\n",
       "      <td>66973360.0</td>\n",
       "      <td>67141501.0</td>\n",
       "      <td>67318295.0</td>\n",
       "      <td>...</td>\n",
       "      <td>-3.458531</td>\n",
       "      <td>-3.307295</td>\n",
       "      <td>-2.304640</td>\n",
       "      <td>-1.187519</td>\n",
       "      <td>-1.010696</td>\n",
       "      <td>-0.120354</td>\n",
       "      <td>-0.752477</td>\n",
       "      <td>-1.323952</td>\n",
       "      <td>-1.160735</td>\n",
       "      <td>-0.191323</td>\n",
       "    </tr>\n",
       "    <tr>\n",
       "      <th>3</th>\n",
       "      <td>20.0</td>\n",
       "      <td>3</td>\n",
       "      <td>0</td>\n",
       "      <td>0.0</td>\n",
       "      <td>South Region</td>\n",
       "      <td>114555744.0</td>\n",
       "      <td>114563024.0</td>\n",
       "      <td>114869241.0</td>\n",
       "      <td>116060993.0</td>\n",
       "      <td>117291728.0</td>\n",
       "      <td>...</td>\n",
       "      <td>3.788037</td>\n",
       "      <td>3.592695</td>\n",
       "      <td>2.900528</td>\n",
       "      <td>5.544289</td>\n",
       "      <td>5.831747</td>\n",
       "      <td>5.362083</td>\n",
       "      <td>6.317310</td>\n",
       "      <td>7.336162</td>\n",
       "      <td>7.113818</td>\n",
       "      <td>6.304010</td>\n",
       "    </tr>\n",
       "    <tr>\n",
       "      <th>4</th>\n",
       "      <td>20.0</td>\n",
       "      <td>4</td>\n",
       "      <td>0</td>\n",
       "      <td>0.0</td>\n",
       "      <td>West Region</td>\n",
       "      <td>71945553.0</td>\n",
       "      <td>71946937.0</td>\n",
       "      <td>72107471.0</td>\n",
       "      <td>72799127.0</td>\n",
       "      <td>73522988.0</td>\n",
       "      <td>...</td>\n",
       "      <td>1.613450</td>\n",
       "      <td>2.099001</td>\n",
       "      <td>1.475519</td>\n",
       "      <td>2.798796</td>\n",
       "      <td>3.521423</td>\n",
       "      <td>3.396627</td>\n",
       "      <td>4.163576</td>\n",
       "      <td>5.067452</td>\n",
       "      <td>5.488965</td>\n",
       "      <td>4.737979</td>\n",
       "    </tr>\n",
       "  </tbody>\n",
       "</table>\n",
       "<p>5 rows × 121 columns</p>\n",
       "</div>"
      ],
      "text/plain": [
       "   SUMLEV REGION DIVISION  STATE              NAME  CENSUS2010POP  \\\n",
       "0    10.0      0        0    0.0     United States    308745538.0   \n",
       "1    20.0      1        0    0.0  Northeast Region     55317240.0   \n",
       "2    20.0      2        0    0.0    Midwest Region     66927001.0   \n",
       "3    20.0      3        0    0.0      South Region    114555744.0   \n",
       "4    20.0      4        0    0.0       West Region     71945553.0   \n",
       "\n",
       "   ESTIMATESBASE2010  POPESTIMATE2010  POPESTIMATE2011  POPESTIMATE2012  ...  \\\n",
       "0        308758105.0      309338421.0      311644280.0      313993272.0  ...   \n",
       "1         55318350.0       55388349.0       55642659.0       55860261.0  ...   \n",
       "2         66929794.0       66973360.0       67141501.0       67318295.0  ...   \n",
       "3        114563024.0      114869241.0      116060993.0      117291728.0  ...   \n",
       "4         71946937.0       72107471.0       72799127.0       73522988.0  ...   \n",
       "\n",
       "   RDOMESTICMIG2015  RDOMESTICMIG2016  RDOMESTICMIG2017  RNETMIG2011  \\\n",
       "0          0.000000          0.000000          0.000000     2.720900   \n",
       "1         -6.103092         -6.619089         -5.559570     1.467950   \n",
       "2         -3.458531         -3.307295         -2.304640    -1.187519   \n",
       "3          3.788037          3.592695          2.900528     5.544289   \n",
       "4          1.613450          2.099001          1.475519     2.798796   \n",
       "\n",
       "   RNETMIG2012  RNETMIG2013  RNETMIG2014  RNETMIG2015  RNETMIG2016  \\\n",
       "0     2.920371     2.883643     3.173228     3.516743     3.513394   \n",
       "1     0.779137     0.605873    -0.082832    -0.903931    -1.307503   \n",
       "2    -1.010696    -0.120354    -0.752477    -1.323952    -1.160735   \n",
       "3     5.831747     5.362083     6.317310     7.336162     7.113818   \n",
       "4     3.521423     3.396627     4.163576     5.067452     5.488965   \n",
       "\n",
       "   RNETMIG2017  \n",
       "0     3.423941  \n",
       "1    -0.288930  \n",
       "2    -0.191323  \n",
       "3     6.304010  \n",
       "4     4.737979  \n",
       "\n",
       "[5 rows x 121 columns]"
      ]
     },
     "execution_count": 26,
     "metadata": {},
     "output_type": "execute_result"
    }
   ],
   "source": [
    "df.head()"
   ]
  },
  {
   "cell_type": "code",
   "execution_count": 32,
   "metadata": {},
   "outputs": [],
   "source": [
    "df2=df[df['DIVISION']=='1']\n",
    "\n",
    "df2.set_index('NAME', inplace=True)"
   ]
  },
  {
   "cell_type": "code",
   "execution_count": 33,
   "metadata": {},
   "outputs": [],
   "source": [
    "list_of_pop_col = [col for col in df2.columns if col.startswith('POP')]"
   ]
  },
  {
   "cell_type": "code",
   "execution_count": 34,
   "metadata": {},
   "outputs": [],
   "source": [
    "df2 = df2[list_of_pop_col]"
   ]
  },
  {
   "cell_type": "code",
   "execution_count": 38,
   "metadata": {},
   "outputs": [
    {
     "name": "stdout",
     "output_type": "stream",
     "text": [
      "POPESTIMATE2010\n",
      "POPESTIMATE2011\n",
      "POPESTIMATE2012\n",
      "POPESTIMATE2013\n",
      "POPESTIMATE2014\n",
      "POPESTIMATE2015\n",
      "POPESTIMATE2016\n",
      "POPESTIMATE2017\n"
     ]
    }
   ],
   "source": []
  },
  {
   "cell_type": "markdown",
   "metadata": {},
   "source": [
    "## plotting example"
   ]
  },
  {
   "cell_type": "code",
   "execution_count": 43,
   "metadata": {},
   "outputs": [
    {
     "data": {
      "application/vnd.plotly.v1+json": {
       "config": {
        "linkText": "Export to plot.ly",
        "plotlyServerURL": "https://plot.ly",
        "showLink": false
       },
       "data": [
        {
         "mode": "lines",
         "name": "Connecticut",
         "type": "scatter",
         "x": [
          "POPESTIMATE2010",
          "POPESTIMATE2011",
          "POPESTIMATE2012",
          "POPESTIMATE2013",
          "POPESTIMATE2014",
          "POPESTIMATE2015",
          "POPESTIMATE2016",
          "POPESTIMATE2017"
         ],
         "y": [
          3580171,
          3591927,
          3597705,
          3602470,
          3600188,
          3593862,
          3587685,
          3588184
         ]
        },
        {
         "mode": "lines",
         "name": "Maine",
         "type": "scatter",
         "x": [
          "POPESTIMATE2010",
          "POPESTIMATE2011",
          "POPESTIMATE2012",
          "POPESTIMATE2013",
          "POPESTIMATE2014",
          "POPESTIMATE2015",
          "POPESTIMATE2016",
          "POPESTIMATE2017"
         ],
         "y": [
          1327568,
          1327968,
          1328101,
          1327975,
          1328903,
          1327787,
          1330232,
          1335907
         ]
        },
        {
         "mode": "lines",
         "name": "Massachusetts",
         "type": "scatter",
         "x": [
          "POPESTIMATE2010",
          "POPESTIMATE2011",
          "POPESTIMATE2012",
          "POPESTIMATE2013",
          "POPESTIMATE2014",
          "POPESTIMATE2015",
          "POPESTIMATE2016",
          "POPESTIMATE2017"
         ],
         "y": [
          6564943,
          6612178,
          6659627,
          6711138,
          6757925,
          6794002,
          6823721,
          6859819
         ]
        },
        {
         "mode": "lines",
         "name": "New Hampshire",
         "type": "scatter",
         "x": [
          "POPESTIMATE2010",
          "POPESTIMATE2011",
          "POPESTIMATE2012",
          "POPESTIMATE2013",
          "POPESTIMATE2014",
          "POPESTIMATE2015",
          "POPESTIMATE2016",
          "POPESTIMATE2017"
         ],
         "y": [
          1316700,
          1318345,
          1320923,
          1322622,
          1328684,
          1330134,
          1335015,
          1342795
         ]
        },
        {
         "mode": "lines",
         "name": "Rhode Island",
         "type": "scatter",
         "x": [
          "POPESTIMATE2010",
          "POPESTIMATE2011",
          "POPESTIMATE2012",
          "POPESTIMATE2013",
          "POPESTIMATE2014",
          "POPESTIMATE2015",
          "POPESTIMATE2016",
          "POPESTIMATE2017"
         ],
         "y": [
          1053169,
          1052154,
          1052761,
          1052784,
          1054782,
          1055916,
          1057566,
          1059639
         ]
        },
        {
         "mode": "lines",
         "name": "Vermont",
         "type": "scatter",
         "x": [
          "POPESTIMATE2010",
          "POPESTIMATE2011",
          "POPESTIMATE2012",
          "POPESTIMATE2013",
          "POPESTIMATE2014",
          "POPESTIMATE2015",
          "POPESTIMATE2016",
          "POPESTIMATE2017"
         ],
         "y": [
          625842,
          626210,
          625606,
          626044,
          625665,
          624455,
          623354,
          623657
         ]
        }
       ],
       "layout": {
        "template": {
         "data": {
          "bar": [
           {
            "error_x": {
             "color": "#2a3f5f"
            },
            "error_y": {
             "color": "#2a3f5f"
            },
            "marker": {
             "line": {
              "color": "#E5ECF6",
              "width": 0.5
             }
            },
            "type": "bar"
           }
          ],
          "barpolar": [
           {
            "marker": {
             "line": {
              "color": "#E5ECF6",
              "width": 0.5
             }
            },
            "type": "barpolar"
           }
          ],
          "carpet": [
           {
            "aaxis": {
             "endlinecolor": "#2a3f5f",
             "gridcolor": "white",
             "linecolor": "white",
             "minorgridcolor": "white",
             "startlinecolor": "#2a3f5f"
            },
            "baxis": {
             "endlinecolor": "#2a3f5f",
             "gridcolor": "white",
             "linecolor": "white",
             "minorgridcolor": "white",
             "startlinecolor": "#2a3f5f"
            },
            "type": "carpet"
           }
          ],
          "choropleth": [
           {
            "colorbar": {
             "outlinewidth": 0,
             "ticks": ""
            },
            "type": "choropleth"
           }
          ],
          "contour": [
           {
            "colorbar": {
             "outlinewidth": 0,
             "ticks": ""
            },
            "colorscale": [
             [
              0,
              "#0d0887"
             ],
             [
              0.1111111111111111,
              "#46039f"
             ],
             [
              0.2222222222222222,
              "#7201a8"
             ],
             [
              0.3333333333333333,
              "#9c179e"
             ],
             [
              0.4444444444444444,
              "#bd3786"
             ],
             [
              0.5555555555555556,
              "#d8576b"
             ],
             [
              0.6666666666666666,
              "#ed7953"
             ],
             [
              0.7777777777777778,
              "#fb9f3a"
             ],
             [
              0.8888888888888888,
              "#fdca26"
             ],
             [
              1,
              "#f0f921"
             ]
            ],
            "type": "contour"
           }
          ],
          "contourcarpet": [
           {
            "colorbar": {
             "outlinewidth": 0,
             "ticks": ""
            },
            "type": "contourcarpet"
           }
          ],
          "heatmap": [
           {
            "colorbar": {
             "outlinewidth": 0,
             "ticks": ""
            },
            "colorscale": [
             [
              0,
              "#0d0887"
             ],
             [
              0.1111111111111111,
              "#46039f"
             ],
             [
              0.2222222222222222,
              "#7201a8"
             ],
             [
              0.3333333333333333,
              "#9c179e"
             ],
             [
              0.4444444444444444,
              "#bd3786"
             ],
             [
              0.5555555555555556,
              "#d8576b"
             ],
             [
              0.6666666666666666,
              "#ed7953"
             ],
             [
              0.7777777777777778,
              "#fb9f3a"
             ],
             [
              0.8888888888888888,
              "#fdca26"
             ],
             [
              1,
              "#f0f921"
             ]
            ],
            "type": "heatmap"
           }
          ],
          "heatmapgl": [
           {
            "colorbar": {
             "outlinewidth": 0,
             "ticks": ""
            },
            "colorscale": [
             [
              0,
              "#0d0887"
             ],
             [
              0.1111111111111111,
              "#46039f"
             ],
             [
              0.2222222222222222,
              "#7201a8"
             ],
             [
              0.3333333333333333,
              "#9c179e"
             ],
             [
              0.4444444444444444,
              "#bd3786"
             ],
             [
              0.5555555555555556,
              "#d8576b"
             ],
             [
              0.6666666666666666,
              "#ed7953"
             ],
             [
              0.7777777777777778,
              "#fb9f3a"
             ],
             [
              0.8888888888888888,
              "#fdca26"
             ],
             [
              1,
              "#f0f921"
             ]
            ],
            "type": "heatmapgl"
           }
          ],
          "histogram": [
           {
            "marker": {
             "colorbar": {
              "outlinewidth": 0,
              "ticks": ""
             }
            },
            "type": "histogram"
           }
          ],
          "histogram2d": [
           {
            "colorbar": {
             "outlinewidth": 0,
             "ticks": ""
            },
            "colorscale": [
             [
              0,
              "#0d0887"
             ],
             [
              0.1111111111111111,
              "#46039f"
             ],
             [
              0.2222222222222222,
              "#7201a8"
             ],
             [
              0.3333333333333333,
              "#9c179e"
             ],
             [
              0.4444444444444444,
              "#bd3786"
             ],
             [
              0.5555555555555556,
              "#d8576b"
             ],
             [
              0.6666666666666666,
              "#ed7953"
             ],
             [
              0.7777777777777778,
              "#fb9f3a"
             ],
             [
              0.8888888888888888,
              "#fdca26"
             ],
             [
              1,
              "#f0f921"
             ]
            ],
            "type": "histogram2d"
           }
          ],
          "histogram2dcontour": [
           {
            "colorbar": {
             "outlinewidth": 0,
             "ticks": ""
            },
            "colorscale": [
             [
              0,
              "#0d0887"
             ],
             [
              0.1111111111111111,
              "#46039f"
             ],
             [
              0.2222222222222222,
              "#7201a8"
             ],
             [
              0.3333333333333333,
              "#9c179e"
             ],
             [
              0.4444444444444444,
              "#bd3786"
             ],
             [
              0.5555555555555556,
              "#d8576b"
             ],
             [
              0.6666666666666666,
              "#ed7953"
             ],
             [
              0.7777777777777778,
              "#fb9f3a"
             ],
             [
              0.8888888888888888,
              "#fdca26"
             ],
             [
              1,
              "#f0f921"
             ]
            ],
            "type": "histogram2dcontour"
           }
          ],
          "mesh3d": [
           {
            "colorbar": {
             "outlinewidth": 0,
             "ticks": ""
            },
            "type": "mesh3d"
           }
          ],
          "parcoords": [
           {
            "line": {
             "colorbar": {
              "outlinewidth": 0,
              "ticks": ""
             }
            },
            "type": "parcoords"
           }
          ],
          "pie": [
           {
            "automargin": true,
            "type": "pie"
           }
          ],
          "scatter": [
           {
            "marker": {
             "colorbar": {
              "outlinewidth": 0,
              "ticks": ""
             }
            },
            "type": "scatter"
           }
          ],
          "scatter3d": [
           {
            "line": {
             "colorbar": {
              "outlinewidth": 0,
              "ticks": ""
             }
            },
            "marker": {
             "colorbar": {
              "outlinewidth": 0,
              "ticks": ""
             }
            },
            "type": "scatter3d"
           }
          ],
          "scattercarpet": [
           {
            "marker": {
             "colorbar": {
              "outlinewidth": 0,
              "ticks": ""
             }
            },
            "type": "scattercarpet"
           }
          ],
          "scattergeo": [
           {
            "marker": {
             "colorbar": {
              "outlinewidth": 0,
              "ticks": ""
             }
            },
            "type": "scattergeo"
           }
          ],
          "scattergl": [
           {
            "marker": {
             "colorbar": {
              "outlinewidth": 0,
              "ticks": ""
             }
            },
            "type": "scattergl"
           }
          ],
          "scattermapbox": [
           {
            "marker": {
             "colorbar": {
              "outlinewidth": 0,
              "ticks": ""
             }
            },
            "type": "scattermapbox"
           }
          ],
          "scatterpolar": [
           {
            "marker": {
             "colorbar": {
              "outlinewidth": 0,
              "ticks": ""
             }
            },
            "type": "scatterpolar"
           }
          ],
          "scatterpolargl": [
           {
            "marker": {
             "colorbar": {
              "outlinewidth": 0,
              "ticks": ""
             }
            },
            "type": "scatterpolargl"
           }
          ],
          "scatterternary": [
           {
            "marker": {
             "colorbar": {
              "outlinewidth": 0,
              "ticks": ""
             }
            },
            "type": "scatterternary"
           }
          ],
          "surface": [
           {
            "colorbar": {
             "outlinewidth": 0,
             "ticks": ""
            },
            "colorscale": [
             [
              0,
              "#0d0887"
             ],
             [
              0.1111111111111111,
              "#46039f"
             ],
             [
              0.2222222222222222,
              "#7201a8"
             ],
             [
              0.3333333333333333,
              "#9c179e"
             ],
             [
              0.4444444444444444,
              "#bd3786"
             ],
             [
              0.5555555555555556,
              "#d8576b"
             ],
             [
              0.6666666666666666,
              "#ed7953"
             ],
             [
              0.7777777777777778,
              "#fb9f3a"
             ],
             [
              0.8888888888888888,
              "#fdca26"
             ],
             [
              1,
              "#f0f921"
             ]
            ],
            "type": "surface"
           }
          ],
          "table": [
           {
            "cells": {
             "fill": {
              "color": "#EBF0F8"
             },
             "line": {
              "color": "white"
             }
            },
            "header": {
             "fill": {
              "color": "#C8D4E3"
             },
             "line": {
              "color": "white"
             }
            },
            "type": "table"
           }
          ]
         },
         "layout": {
          "annotationdefaults": {
           "arrowcolor": "#2a3f5f",
           "arrowhead": 0,
           "arrowwidth": 1
          },
          "coloraxis": {
           "colorbar": {
            "outlinewidth": 0,
            "ticks": ""
           }
          },
          "colorscale": {
           "diverging": [
            [
             0,
             "#8e0152"
            ],
            [
             0.1,
             "#c51b7d"
            ],
            [
             0.2,
             "#de77ae"
            ],
            [
             0.3,
             "#f1b6da"
            ],
            [
             0.4,
             "#fde0ef"
            ],
            [
             0.5,
             "#f7f7f7"
            ],
            [
             0.6,
             "#e6f5d0"
            ],
            [
             0.7,
             "#b8e186"
            ],
            [
             0.8,
             "#7fbc41"
            ],
            [
             0.9,
             "#4d9221"
            ],
            [
             1,
             "#276419"
            ]
           ],
           "sequential": [
            [
             0,
             "#0d0887"
            ],
            [
             0.1111111111111111,
             "#46039f"
            ],
            [
             0.2222222222222222,
             "#7201a8"
            ],
            [
             0.3333333333333333,
             "#9c179e"
            ],
            [
             0.4444444444444444,
             "#bd3786"
            ],
            [
             0.5555555555555556,
             "#d8576b"
            ],
            [
             0.6666666666666666,
             "#ed7953"
            ],
            [
             0.7777777777777778,
             "#fb9f3a"
            ],
            [
             0.8888888888888888,
             "#fdca26"
            ],
            [
             1,
             "#f0f921"
            ]
           ],
           "sequentialminus": [
            [
             0,
             "#0d0887"
            ],
            [
             0.1111111111111111,
             "#46039f"
            ],
            [
             0.2222222222222222,
             "#7201a8"
            ],
            [
             0.3333333333333333,
             "#9c179e"
            ],
            [
             0.4444444444444444,
             "#bd3786"
            ],
            [
             0.5555555555555556,
             "#d8576b"
            ],
            [
             0.6666666666666666,
             "#ed7953"
            ],
            [
             0.7777777777777778,
             "#fb9f3a"
            ],
            [
             0.8888888888888888,
             "#fdca26"
            ],
            [
             1,
             "#f0f921"
            ]
           ]
          },
          "colorway": [
           "#636efa",
           "#EF553B",
           "#00cc96",
           "#ab63fa",
           "#FFA15A",
           "#19d3f3",
           "#FF6692",
           "#B6E880",
           "#FF97FF",
           "#FECB52"
          ],
          "font": {
           "color": "#2a3f5f"
          },
          "geo": {
           "bgcolor": "white",
           "lakecolor": "white",
           "landcolor": "#E5ECF6",
           "showlakes": true,
           "showland": true,
           "subunitcolor": "white"
          },
          "hoverlabel": {
           "align": "left"
          },
          "hovermode": "closest",
          "mapbox": {
           "style": "light"
          },
          "paper_bgcolor": "white",
          "plot_bgcolor": "#E5ECF6",
          "polar": {
           "angularaxis": {
            "gridcolor": "white",
            "linecolor": "white",
            "ticks": ""
           },
           "bgcolor": "#E5ECF6",
           "radialaxis": {
            "gridcolor": "white",
            "linecolor": "white",
            "ticks": ""
           }
          },
          "scene": {
           "xaxis": {
            "backgroundcolor": "#E5ECF6",
            "gridcolor": "white",
            "gridwidth": 2,
            "linecolor": "white",
            "showbackground": true,
            "ticks": "",
            "zerolinecolor": "white"
           },
           "yaxis": {
            "backgroundcolor": "#E5ECF6",
            "gridcolor": "white",
            "gridwidth": 2,
            "linecolor": "white",
            "showbackground": true,
            "ticks": "",
            "zerolinecolor": "white"
           },
           "zaxis": {
            "backgroundcolor": "#E5ECF6",
            "gridcolor": "white",
            "gridwidth": 2,
            "linecolor": "white",
            "showbackground": true,
            "ticks": "",
            "zerolinecolor": "white"
           }
          },
          "shapedefaults": {
           "line": {
            "color": "#2a3f5f"
           }
          },
          "ternary": {
           "aaxis": {
            "gridcolor": "white",
            "linecolor": "white",
            "ticks": ""
           },
           "baxis": {
            "gridcolor": "white",
            "linecolor": "white",
            "ticks": ""
           },
           "bgcolor": "#E5ECF6",
           "caxis": {
            "gridcolor": "white",
            "linecolor": "white",
            "ticks": ""
           }
          },
          "title": {
           "x": 0.05
          },
          "xaxis": {
           "automargin": true,
           "gridcolor": "white",
           "linecolor": "white",
           "ticks": "",
           "title": {
            "standoff": 15
           },
           "zerolinecolor": "white",
           "zerolinewidth": 2
          },
          "yaxis": {
           "automargin": true,
           "gridcolor": "white",
           "linecolor": "white",
           "ticks": "",
           "title": {
            "standoff": 15
           },
           "zerolinecolor": "white",
           "zerolinewidth": 2
          }
         }
        }
       }
      },
      "text/html": [
       "<div>\n",
       "        \n",
       "        \n",
       "            <div id=\"8fe91eb4-4b75-480b-b62c-879de663185b\" class=\"plotly-graph-div\" style=\"height:525px; width:100%;\"></div>\n",
       "            <script type=\"text/javascript\">\n",
       "                require([\"plotly\"], function(Plotly) {\n",
       "                    window.PLOTLYENV=window.PLOTLYENV || {};\n",
       "                    \n",
       "                if (document.getElementById(\"8fe91eb4-4b75-480b-b62c-879de663185b\")) {\n",
       "                    Plotly.newPlot(\n",
       "                        '8fe91eb4-4b75-480b-b62c-879de663185b',\n",
       "                        [{\"mode\": \"lines\", \"name\": \"Connecticut\", \"type\": \"scatter\", \"x\": [\"POPESTIMATE2010\", \"POPESTIMATE2011\", \"POPESTIMATE2012\", \"POPESTIMATE2013\", \"POPESTIMATE2014\", \"POPESTIMATE2015\", \"POPESTIMATE2016\", \"POPESTIMATE2017\"], \"y\": [3580171.0, 3591927.0, 3597705.0, 3602470.0, 3600188.0, 3593862.0, 3587685.0, 3588184.0]}, {\"mode\": \"lines\", \"name\": \"Maine\", \"type\": \"scatter\", \"x\": [\"POPESTIMATE2010\", \"POPESTIMATE2011\", \"POPESTIMATE2012\", \"POPESTIMATE2013\", \"POPESTIMATE2014\", \"POPESTIMATE2015\", \"POPESTIMATE2016\", \"POPESTIMATE2017\"], \"y\": [1327568.0, 1327968.0, 1328101.0, 1327975.0, 1328903.0, 1327787.0, 1330232.0, 1335907.0]}, {\"mode\": \"lines\", \"name\": \"Massachusetts\", \"type\": \"scatter\", \"x\": [\"POPESTIMATE2010\", \"POPESTIMATE2011\", \"POPESTIMATE2012\", \"POPESTIMATE2013\", \"POPESTIMATE2014\", \"POPESTIMATE2015\", \"POPESTIMATE2016\", \"POPESTIMATE2017\"], \"y\": [6564943.0, 6612178.0, 6659627.0, 6711138.0, 6757925.0, 6794002.0, 6823721.0, 6859819.0]}, {\"mode\": \"lines\", \"name\": \"New Hampshire\", \"type\": \"scatter\", \"x\": [\"POPESTIMATE2010\", \"POPESTIMATE2011\", \"POPESTIMATE2012\", \"POPESTIMATE2013\", \"POPESTIMATE2014\", \"POPESTIMATE2015\", \"POPESTIMATE2016\", \"POPESTIMATE2017\"], \"y\": [1316700.0, 1318345.0, 1320923.0, 1322622.0, 1328684.0, 1330134.0, 1335015.0, 1342795.0]}, {\"mode\": \"lines\", \"name\": \"Rhode Island\", \"type\": \"scatter\", \"x\": [\"POPESTIMATE2010\", \"POPESTIMATE2011\", \"POPESTIMATE2012\", \"POPESTIMATE2013\", \"POPESTIMATE2014\", \"POPESTIMATE2015\", \"POPESTIMATE2016\", \"POPESTIMATE2017\"], \"y\": [1053169.0, 1052154.0, 1052761.0, 1052784.0, 1054782.0, 1055916.0, 1057566.0, 1059639.0]}, {\"mode\": \"lines\", \"name\": \"Vermont\", \"type\": \"scatter\", \"x\": [\"POPESTIMATE2010\", \"POPESTIMATE2011\", \"POPESTIMATE2012\", \"POPESTIMATE2013\", \"POPESTIMATE2014\", \"POPESTIMATE2015\", \"POPESTIMATE2016\", \"POPESTIMATE2017\"], \"y\": [625842.0, 626210.0, 625606.0, 626044.0, 625665.0, 624455.0, 623354.0, 623657.0]}],\n",
       "                        {\"template\": {\"data\": {\"bar\": [{\"error_x\": {\"color\": \"#2a3f5f\"}, \"error_y\": {\"color\": \"#2a3f5f\"}, \"marker\": {\"line\": {\"color\": \"#E5ECF6\", \"width\": 0.5}}, \"type\": \"bar\"}], \"barpolar\": [{\"marker\": {\"line\": {\"color\": \"#E5ECF6\", \"width\": 0.5}}, \"type\": \"barpolar\"}], \"carpet\": [{\"aaxis\": {\"endlinecolor\": \"#2a3f5f\", \"gridcolor\": \"white\", \"linecolor\": \"white\", \"minorgridcolor\": \"white\", \"startlinecolor\": \"#2a3f5f\"}, \"baxis\": {\"endlinecolor\": \"#2a3f5f\", \"gridcolor\": \"white\", \"linecolor\": \"white\", \"minorgridcolor\": \"white\", \"startlinecolor\": \"#2a3f5f\"}, \"type\": \"carpet\"}], \"choropleth\": [{\"colorbar\": {\"outlinewidth\": 0, \"ticks\": \"\"}, \"type\": \"choropleth\"}], \"contour\": [{\"colorbar\": {\"outlinewidth\": 0, \"ticks\": \"\"}, \"colorscale\": [[0.0, \"#0d0887\"], [0.1111111111111111, \"#46039f\"], [0.2222222222222222, \"#7201a8\"], [0.3333333333333333, \"#9c179e\"], [0.4444444444444444, \"#bd3786\"], [0.5555555555555556, \"#d8576b\"], [0.6666666666666666, \"#ed7953\"], [0.7777777777777778, \"#fb9f3a\"], [0.8888888888888888, \"#fdca26\"], [1.0, \"#f0f921\"]], \"type\": \"contour\"}], \"contourcarpet\": [{\"colorbar\": {\"outlinewidth\": 0, \"ticks\": \"\"}, \"type\": \"contourcarpet\"}], \"heatmap\": [{\"colorbar\": {\"outlinewidth\": 0, \"ticks\": \"\"}, \"colorscale\": [[0.0, \"#0d0887\"], [0.1111111111111111, \"#46039f\"], [0.2222222222222222, \"#7201a8\"], [0.3333333333333333, \"#9c179e\"], [0.4444444444444444, \"#bd3786\"], [0.5555555555555556, \"#d8576b\"], [0.6666666666666666, \"#ed7953\"], [0.7777777777777778, \"#fb9f3a\"], [0.8888888888888888, \"#fdca26\"], [1.0, \"#f0f921\"]], \"type\": \"heatmap\"}], \"heatmapgl\": [{\"colorbar\": {\"outlinewidth\": 0, \"ticks\": \"\"}, \"colorscale\": [[0.0, \"#0d0887\"], [0.1111111111111111, \"#46039f\"], [0.2222222222222222, \"#7201a8\"], [0.3333333333333333, \"#9c179e\"], [0.4444444444444444, \"#bd3786\"], [0.5555555555555556, \"#d8576b\"], [0.6666666666666666, \"#ed7953\"], [0.7777777777777778, \"#fb9f3a\"], [0.8888888888888888, \"#fdca26\"], [1.0, \"#f0f921\"]], \"type\": \"heatmapgl\"}], \"histogram\": [{\"marker\": {\"colorbar\": {\"outlinewidth\": 0, \"ticks\": \"\"}}, \"type\": \"histogram\"}], \"histogram2d\": [{\"colorbar\": {\"outlinewidth\": 0, \"ticks\": \"\"}, \"colorscale\": [[0.0, \"#0d0887\"], [0.1111111111111111, \"#46039f\"], [0.2222222222222222, \"#7201a8\"], [0.3333333333333333, \"#9c179e\"], [0.4444444444444444, \"#bd3786\"], [0.5555555555555556, \"#d8576b\"], [0.6666666666666666, \"#ed7953\"], [0.7777777777777778, \"#fb9f3a\"], [0.8888888888888888, \"#fdca26\"], [1.0, \"#f0f921\"]], \"type\": \"histogram2d\"}], \"histogram2dcontour\": [{\"colorbar\": {\"outlinewidth\": 0, \"ticks\": \"\"}, \"colorscale\": [[0.0, \"#0d0887\"], [0.1111111111111111, \"#46039f\"], [0.2222222222222222, \"#7201a8\"], [0.3333333333333333, \"#9c179e\"], [0.4444444444444444, \"#bd3786\"], [0.5555555555555556, \"#d8576b\"], [0.6666666666666666, \"#ed7953\"], [0.7777777777777778, \"#fb9f3a\"], [0.8888888888888888, \"#fdca26\"], [1.0, \"#f0f921\"]], \"type\": \"histogram2dcontour\"}], \"mesh3d\": [{\"colorbar\": {\"outlinewidth\": 0, \"ticks\": \"\"}, \"type\": \"mesh3d\"}], \"parcoords\": [{\"line\": {\"colorbar\": {\"outlinewidth\": 0, \"ticks\": \"\"}}, \"type\": \"parcoords\"}], \"pie\": [{\"automargin\": true, \"type\": \"pie\"}], \"scatter\": [{\"marker\": {\"colorbar\": {\"outlinewidth\": 0, \"ticks\": \"\"}}, \"type\": \"scatter\"}], \"scatter3d\": [{\"line\": {\"colorbar\": {\"outlinewidth\": 0, \"ticks\": \"\"}}, \"marker\": {\"colorbar\": {\"outlinewidth\": 0, \"ticks\": \"\"}}, \"type\": \"scatter3d\"}], \"scattercarpet\": [{\"marker\": {\"colorbar\": {\"outlinewidth\": 0, \"ticks\": \"\"}}, \"type\": \"scattercarpet\"}], \"scattergeo\": [{\"marker\": {\"colorbar\": {\"outlinewidth\": 0, \"ticks\": \"\"}}, \"type\": \"scattergeo\"}], \"scattergl\": [{\"marker\": {\"colorbar\": {\"outlinewidth\": 0, \"ticks\": \"\"}}, \"type\": \"scattergl\"}], \"scattermapbox\": [{\"marker\": {\"colorbar\": {\"outlinewidth\": 0, \"ticks\": \"\"}}, \"type\": \"scattermapbox\"}], \"scatterpolar\": [{\"marker\": {\"colorbar\": {\"outlinewidth\": 0, \"ticks\": \"\"}}, \"type\": \"scatterpolar\"}], \"scatterpolargl\": [{\"marker\": {\"colorbar\": {\"outlinewidth\": 0, \"ticks\": \"\"}}, \"type\": \"scatterpolargl\"}], \"scatterternary\": [{\"marker\": {\"colorbar\": {\"outlinewidth\": 0, \"ticks\": \"\"}}, \"type\": \"scatterternary\"}], \"surface\": [{\"colorbar\": {\"outlinewidth\": 0, \"ticks\": \"\"}, \"colorscale\": [[0.0, \"#0d0887\"], [0.1111111111111111, \"#46039f\"], [0.2222222222222222, \"#7201a8\"], [0.3333333333333333, \"#9c179e\"], [0.4444444444444444, \"#bd3786\"], [0.5555555555555556, \"#d8576b\"], [0.6666666666666666, \"#ed7953\"], [0.7777777777777778, \"#fb9f3a\"], [0.8888888888888888, \"#fdca26\"], [1.0, \"#f0f921\"]], \"type\": \"surface\"}], \"table\": [{\"cells\": {\"fill\": {\"color\": \"#EBF0F8\"}, \"line\": {\"color\": \"white\"}}, \"header\": {\"fill\": {\"color\": \"#C8D4E3\"}, \"line\": {\"color\": \"white\"}}, \"type\": \"table\"}]}, \"layout\": {\"annotationdefaults\": {\"arrowcolor\": \"#2a3f5f\", \"arrowhead\": 0, \"arrowwidth\": 1}, \"coloraxis\": {\"colorbar\": {\"outlinewidth\": 0, \"ticks\": \"\"}}, \"colorscale\": {\"diverging\": [[0, \"#8e0152\"], [0.1, \"#c51b7d\"], [0.2, \"#de77ae\"], [0.3, \"#f1b6da\"], [0.4, \"#fde0ef\"], [0.5, \"#f7f7f7\"], [0.6, \"#e6f5d0\"], [0.7, \"#b8e186\"], [0.8, \"#7fbc41\"], [0.9, \"#4d9221\"], [1, \"#276419\"]], \"sequential\": [[0.0, \"#0d0887\"], [0.1111111111111111, \"#46039f\"], [0.2222222222222222, \"#7201a8\"], [0.3333333333333333, \"#9c179e\"], [0.4444444444444444, \"#bd3786\"], [0.5555555555555556, \"#d8576b\"], [0.6666666666666666, \"#ed7953\"], [0.7777777777777778, \"#fb9f3a\"], [0.8888888888888888, \"#fdca26\"], [1.0, \"#f0f921\"]], \"sequentialminus\": [[0.0, \"#0d0887\"], [0.1111111111111111, \"#46039f\"], [0.2222222222222222, \"#7201a8\"], [0.3333333333333333, \"#9c179e\"], [0.4444444444444444, \"#bd3786\"], [0.5555555555555556, \"#d8576b\"], [0.6666666666666666, \"#ed7953\"], [0.7777777777777778, \"#fb9f3a\"], [0.8888888888888888, \"#fdca26\"], [1.0, \"#f0f921\"]]}, \"colorway\": [\"#636efa\", \"#EF553B\", \"#00cc96\", \"#ab63fa\", \"#FFA15A\", \"#19d3f3\", \"#FF6692\", \"#B6E880\", \"#FF97FF\", \"#FECB52\"], \"font\": {\"color\": \"#2a3f5f\"}, \"geo\": {\"bgcolor\": \"white\", \"lakecolor\": \"white\", \"landcolor\": \"#E5ECF6\", \"showlakes\": true, \"showland\": true, \"subunitcolor\": \"white\"}, \"hoverlabel\": {\"align\": \"left\"}, \"hovermode\": \"closest\", \"mapbox\": {\"style\": \"light\"}, \"paper_bgcolor\": \"white\", \"plot_bgcolor\": \"#E5ECF6\", \"polar\": {\"angularaxis\": {\"gridcolor\": \"white\", \"linecolor\": \"white\", \"ticks\": \"\"}, \"bgcolor\": \"#E5ECF6\", \"radialaxis\": {\"gridcolor\": \"white\", \"linecolor\": \"white\", \"ticks\": \"\"}}, \"scene\": {\"xaxis\": {\"backgroundcolor\": \"#E5ECF6\", \"gridcolor\": \"white\", \"gridwidth\": 2, \"linecolor\": \"white\", \"showbackground\": true, \"ticks\": \"\", \"zerolinecolor\": \"white\"}, \"yaxis\": {\"backgroundcolor\": \"#E5ECF6\", \"gridcolor\": \"white\", \"gridwidth\": 2, \"linecolor\": \"white\", \"showbackground\": true, \"ticks\": \"\", \"zerolinecolor\": \"white\"}, \"zaxis\": {\"backgroundcolor\": \"#E5ECF6\", \"gridcolor\": \"white\", \"gridwidth\": 2, \"linecolor\": \"white\", \"showbackground\": true, \"ticks\": \"\", \"zerolinecolor\": \"white\"}}, \"shapedefaults\": {\"line\": {\"color\": \"#2a3f5f\"}}, \"ternary\": {\"aaxis\": {\"gridcolor\": \"white\", \"linecolor\": \"white\", \"ticks\": \"\"}, \"baxis\": {\"gridcolor\": \"white\", \"linecolor\": \"white\", \"ticks\": \"\"}, \"bgcolor\": \"#E5ECF6\", \"caxis\": {\"gridcolor\": \"white\", \"linecolor\": \"white\", \"ticks\": \"\"}}, \"title\": {\"x\": 0.05}, \"xaxis\": {\"automargin\": true, \"gridcolor\": \"white\", \"linecolor\": \"white\", \"ticks\": \"\", \"title\": {\"standoff\": 15}, \"zerolinecolor\": \"white\", \"zerolinewidth\": 2}, \"yaxis\": {\"automargin\": true, \"gridcolor\": \"white\", \"linecolor\": \"white\", \"ticks\": \"\", \"title\": {\"standoff\": 15}, \"zerolinecolor\": \"white\", \"zerolinewidth\": 2}}}},\n",
       "                        {\"responsive\": true}\n",
       "                    ).then(function(){\n",
       "                            \n",
       "var gd = document.getElementById('8fe91eb4-4b75-480b-b62c-879de663185b');\n",
       "var x = new MutationObserver(function (mutations, observer) {{\n",
       "        var display = window.getComputedStyle(gd).display;\n",
       "        if (!display || display === 'none') {{\n",
       "            console.log([gd, 'removed!']);\n",
       "            Plotly.purge(gd);\n",
       "            observer.disconnect();\n",
       "        }}\n",
       "}});\n",
       "\n",
       "// Listen for the removal of the full notebook cells\n",
       "var notebookContainer = gd.closest('#notebook-container');\n",
       "if (notebookContainer) {{\n",
       "    x.observe(notebookContainer, {childList: true});\n",
       "}}\n",
       "\n",
       "// Listen for the clearing of the current output cell\n",
       "var outputEl = gd.closest('.output');\n",
       "if (outputEl) {{\n",
       "    x.observe(outputEl, {childList: true});\n",
       "}}\n",
       "\n",
       "                        })\n",
       "                };\n",
       "                });\n",
       "            </script>\n",
       "        </div>"
      ]
     },
     "metadata": {},
     "output_type": "display_data"
    }
   ],
   "source": [
    "data = [go.Scatter(x=df2.columns,y=df2.loc[name],mode='lines',name=name) for name in df2.index]\n",
    "pyo.iplot(data)"
   ]
  },
  {
   "cell_type": "code",
   "execution_count": 41,
   "metadata": {},
   "outputs": [
    {
     "data": {
      "text/plain": [
       "POPESTIMATE2010    3580171.0\n",
       "POPESTIMATE2011    3591927.0\n",
       "POPESTIMATE2012    3597705.0\n",
       "POPESTIMATE2013    3602470.0\n",
       "POPESTIMATE2014    3600188.0\n",
       "POPESTIMATE2015    3593862.0\n",
       "POPESTIMATE2016    3587685.0\n",
       "POPESTIMATE2017    3588184.0\n",
       "Name: Connecticut, dtype: float64"
      ]
     },
     "execution_count": 41,
     "metadata": {},
     "output_type": "execute_result"
    }
   ],
   "source": [
    "df2.loc['Connecticut']"
   ]
  },
  {
   "cell_type": "markdown",
   "metadata": {},
   "source": [
    "# EXCERSIZE "
   ]
  },
  {
   "cell_type": "code",
   "execution_count": 45,
   "metadata": {},
   "outputs": [
    {
     "data": {
      "application/vnd.plotly.v1+json": {
       "config": {
        "linkText": "Export to plot.ly",
        "plotlyServerURL": "https://plot.ly",
        "showLink": false
       },
       "data": [
        {
         "mode": "markers",
         "name": "markers",
         "type": "scatter",
         "x": [
          -0.7133202363754223,
          -0.37762073359434206,
          1.330738376091691,
          0.48357913189111407,
          -0.047706013328838254,
          -1.5087318750433119,
          0.20421308356165957,
          -0.661856789888887,
          0.314416464426249,
          -1.267056369145865,
          0.10158367805338647,
          0.7082863928087865,
          1.5188885442739535,
          -0.11777501136271606,
          -0.8359752606243168,
          1.2165957902855393,
          -1.1509562775016067,
          1.1423095820797915,
          -0.011105935043347686,
          1.4547411637556233,
          0.6424527052671827,
          -1.949187867104057,
          0.3262278723197149,
          -0.2737697243901562,
          -0.8353348351583421,
          -1.9519953067189342,
          0.16358183575981947,
          -0.8942974888195887,
          0.3279775791245696,
          0.8405226381557794,
          -2.000752456983949,
          -1.3766099048087752,
          0.34704599323357516,
          -0.004538140336112926,
          0.653106867163699,
          -0.28585204668950664,
          -0.03423701124740663,
          1.1440913205064855,
          -1.7650242126010103,
          1.753075611694397,
          -0.33930227671691104,
          -0.03141575492230064,
          0.46721218163126116,
          0.07080726705438095,
          -0.25944898640221314,
          0.44425061957832795,
          -0.46690150076894826,
          0.18614394637274193,
          0.23551406711714046,
          -2.6771075331701604,
          -0.1364155651075688,
          -0.2149001819310638,
          -1.7535072408438848,
          0.45231022293502304,
          -0.6945003694540067,
          -0.7100094593081131,
          -0.2760640839698353,
          1.1079487881337584,
          -0.893175312660163,
          0.5824824733174755,
          1.0592914987714481,
          -1.754143052582008,
          0.7455556321071979,
          0.9750674545377425,
          0.6925445729227262,
          1.4115006043536915,
          -1.221184953752266,
          1.008090816260854,
          1.6447737598803684,
          0.7853344046358515,
          -0.9243079823767608,
          0.6552417672181934,
          0.09745507738477224,
          -0.38285360592577466,
          0.1678630773459586,
          0.11729841860999674,
          1.1842829166631585,
          -0.38244229774907146,
          -0.47544664368684597,
          -1.7065045747078962,
          1.127248861034794,
          1.8947293774046707,
          1.3240319302401158,
          0.34144237505671915,
          0.2432287807104389,
          -0.6326092321405989,
          -0.7223196968503532,
          2.302377911418113,
          1.5364020786419337,
          1.4986397383212111,
          -0.41095530487517506,
          -0.4045782558277816,
          -0.8713804715185873,
          1.6717016020054012,
          -0.638784914346455,
          -0.5628636823386426,
          1.0108079943375825,
          1.6710784576484756,
          0.015677586774353658,
          -2.208737933197752,
          0.02151774348854601,
          -0.6316701595061707,
          0.25451072452343304,
          0.6241506189856214,
          0.37292926828326295,
          0.3780285160902898,
          0.59302006247612,
          -1.1288249654962847,
          0.7217512548593482,
          -0.19697289443412702,
          -0.19384659708547033,
          -0.5425083822300121,
          -0.1504231619923426,
          0.09473326909991323,
          -0.41645974351678106,
          -0.6937212101867811,
          -0.487280789342567,
          -0.5715202805260474,
          0.5465296553610901,
          0.9149082050205672,
          0.4174238099219028,
          -0.3693857022251719,
          -0.7103523364834029,
          -1.5516234973719503,
          0.40987380123186756,
          1.6050794137806619,
          -0.08550249571529728,
          -1.4316996382699736,
          0.7113551186744498,
          0.771390773528735,
          0.14659683276750535,
          0.2595191674680299,
          -0.3733446053066009,
          1.9202818752687394,
          -0.9301468839684457,
          -1.2896819079139008,
          1.897531567987369,
          -0.30505479101608934,
          1.242552256728284,
          1.2563696949015024,
          0.4724108798700077,
          1.4779842691075746,
          1.5693906133546418,
          -0.24077506910916266,
          -0.7531954683848252,
          1.032654573590549,
          0.8438418981801805,
          -0.353241759988013,
          -0.828052899915575,
          1.1949464302393151,
          -0.24187362239347826,
          -0.9818692461685858,
          -0.5934436572593439,
          1.1323761264038186,
          -0.6786989544236527,
          0.3211528789495921,
          1.6213820233597036,
          0.5241772378916629,
          1.316642848989081,
          -1.6132765229213273,
          -0.06049435165885836,
          -0.4506416654390258,
          -0.8832523300296766,
          0.9136148230677492,
          -0.33559279842917483,
          0.44881866595936787,
          -0.8089392622430372,
          1.4162483576626643,
          1.843482586324618,
          0.7101424349971194,
          0.5959514058794794,
          -1.9045436878148234,
          -0.45635840338427297,
          -0.41638165236456104,
          0.6020267556621802,
          2.3190844470514955,
          -1.798900954758642,
          0.32600932412062106,
          -1.602515524708855,
          0.05504247775612269,
          0.4925555794077983,
          -0.42294474276417426,
          -0.6411536634750093,
          0.7826408732146317,
          0.4399910329851185,
          -0.5626071611530831,
          -0.14309398532254267,
          -0.2756173125564038,
          -0.2384185316424419,
          -0.039132535317347034,
          -2.095542313667409,
          -0.6520793940762842,
          0.7339291798824998,
          1.5091963528779064,
          1.4267097108548872,
          -0.3721942605480614,
          1.6904252389528394,
          0.7112238228695416,
          -0.7196612550205543,
          2.0736997998999906,
          -0.298337039650888,
          0.4897588176254028,
          0.04931395536053952,
          -0.9216912578832823,
          -0.10701622438306063,
          0.7328871555449794,
          -1.601489922975722,
          1.587820986876367,
          1.666947618774518,
          1.5655272295831535,
          0.4542317369142831,
          -0.19502143763609703,
          -0.8715277488883122,
          -1.1044126391375784,
          -0.6708654063646552,
          1.385893406964898,
          -0.5936982188726885,
          0.22287226314891975,
          0.5101231020202813,
          0.9098908248036542,
          -1.4572719374653635,
          1.4832254760993455,
          0.5709470570023399,
          -0.6144711655710223,
          0.6336600231240092,
          0.12142793707614051,
          1.1993339854281364,
          1.3304862824852643,
          -0.3027691260867966,
          -0.12819771613653433,
          0.04368282952498349,
          -0.2633765820841339,
          0.11417232883108323,
          0.3724593458724246,
          1.2038614846196674,
          0.11810446604516969,
          0.14351305821028945,
          0.13177915570191728,
          0.22326707250991323,
          1.2512861467013983,
          -0.36616454440316343,
          -0.27413723737154866,
          0.9818059778967266,
          -0.5680825087008279,
          1.1039276753024796,
          0.626814611526168,
          -0.32969411710242663,
          -1.0664011016209327,
          -0.36116052329951226,
          0.11657639606058173,
          -0.6637452986916785,
          0.5032040071936063,
          -0.8640081398395121,
          -0.003390372142780433,
          -0.21153187671317453,
          -0.13536639755432794,
          -2.078306778214088,
          -0.4822135194545086,
          1.881187947308164,
          -0.5022343795396792,
          -1.434286245506775,
          -1.2296639953651083,
          -0.9118433281785283,
          -0.7536172017343837,
          -2.1113659953099235,
          -1.0806205090109895,
          -0.5004457617605503,
          -1.5805015344635471,
          2.2936295519104823,
          0.20240583974115675,
          -1.07534815952142,
          -1.8492905323688031,
          -1.0456545693493307,
          -0.4072402332472626,
          -0.3019220648393064,
          -0.35135932559692257,
          -0.3288324374707206,
          0.92672934330737,
          -0.824549665092616,
          0.05879144017691339,
          0.33418717878394727,
          -0.2115204720044299,
          1.1219881770241875,
          0.7680647808472634,
          -0.6588818606933847,
          0.18937466551158366,
          -1.5351426443546732,
          0.4775587809255816,
          0.5623731676842673,
          -1.8191719587318298,
          -0.5240337467805954,
          -0.6631717094110016,
          0.856402904776776,
          1.3776839946440202,
          -0.964758308310612,
          -0.32745750326582707,
          0.18291155029580256,
          0.7478832799877946,
          -1.2519701996840014,
          0.43338675169218654,
          0.6622965324125217,
          -0.035636676962986044,
          1.0027456277042248,
          0.757785160882042,
          0.3625829233798706,
          0.25347304712714,
          -0.47150101993479304,
          -1.6983323330128708,
          -0.26236102642091613,
          0.9378818276951307,
          -0.7785764362510283,
          -1.0218639633460793,
          1.8958442990291162,
          -1.1161752371444962,
          0.46633039376042223,
          -0.5849454349756087,
          0.7120784074103318,
          -1.573997030859225,
          -0.4772738231582241,
          0.8391750202075124,
          0.6464233703650278,
          0.4847399282565123,
          -0.4584084403270483,
          -0.6439885989511995,
          0.6329325619884368,
          -0.13481765199698503,
          0.5303709157550753,
          1.216915530481463,
          1.1755306530847907,
          1.9570611605088475,
          -0.8664870789486276,
          -0.46659778019223364,
          1.8138754017447494,
          0.3894224906319479,
          -1.356228859062624,
          -0.5770853095450901,
          0.561095787032196,
          -0.562214405385332,
          -0.9771679482016433,
          -1.5573939816739868,
          0.4656079042561888,
          0.04784741386352193,
          -0.735700102872564,
          -0.45214101802103396,
          -0.5651691077901612,
          0.4958644827178499,
          1.527741634474065,
          -0.13478870615582172,
          1.691379031848499,
          -0.8954276471529878,
          0.5597618835820178,
          0.9177175824708317,
          0.5380992359007077,
          -0.5420993066447787,
          -0.4474865709992327,
          0.27082416143388377,
          0.562532267590954,
          0.09022721734485913,
          -0.7559935930065412,
          1.107331672798382,
          0.9348862714725729,
          1.5666140698242397,
          1.2084328072200665,
          1.5721159495574708,
          1.6470283442768994,
          0.2890759943837696,
          0.08994548648836735,
          -1.445768075069576,
          -0.629939827657865,
          -0.6321188059639892,
          -1.3011520511166434,
          -0.6364356784231241,
          1.1083625445228296,
          -0.16625587459003358,
          -0.053671811706659064,
          0.03336354806173399,
          -1.47756183775618,
          -0.5941016877853883,
          -0.08163626894163509,
          -1.5348841006320475,
          0.39384191509878,
          -0.6484936508202284,
          -1.7588540582732897,
          -0.12659448036422247,
          -0.23231282594832794,
          1.3070740463988437,
          1.6748812366869517,
          -0.5512267915299404,
          1.0144592292944599,
          0.33706019174949203,
          0.013596621867890091,
          1.0334556005558029,
          0.8388308435143059,
          0.10261646179025963,
          -1.9609505131157774,
          -0.06267744893524282,
          0.689170896217355,
          -0.5007583255487692,
          -0.8419313553506664,
          0.3751566999418814,
          -0.7792159903337168,
          -0.29364027815721017,
          -0.3816329961344956,
          -0.2585300707198807,
          -0.24714550609295122,
          -0.9646845787651919,
          -1.27927962485906,
          -0.8404239374463741,
          1.1336722745097167,
          0.41081805991432874,
          -0.1930039787693877,
          -0.4559630201263412,
          -0.5852479347538653,
          -1.8860604667374168,
          -1.0163393301429715,
          -0.2659634322754032,
          0.6633785204712543,
          -0.4382639157360795,
          -0.6469297803280623,
          -1.1854445844594557,
          -0.05217781348729047,
          0.5820544850110527,
          -0.9761286549539033,
          -0.1485255550730899,
          0.0812178592787294,
          0.8626849939739023,
          -0.5820120534575913,
          -0.9404129125840908,
          1.440517987898207,
          -0.9525353079780201,
          0.30400487490473616,
          1.324317011380694,
          0.2957054391208649,
          0.7774490907600008,
          0.12931863811592706,
          -0.39142402335127086,
          -0.36239143683928043,
          -0.8801948708769476,
          -0.05716836795009424,
          0.012710590747223449,
          0.0929898972326358,
          0.48569107020488095,
          1.3481930997893532,
          0.493191388049377,
          -0.5055489545527079,
          0.5018996750196962,
          -0.14173169724264353,
          0.6036950995818787,
          -0.31003419984317515,
          -0.15796671823033662,
          -0.8695339383307731,
          0.5909155508451571,
          -0.9207595454961487,
          1.714377671397451,
          -1.588147500536601,
          0.5224493172232965,
          1.2512896569792118,
          -0.23933824938879783,
          0.8395933739926614,
          -0.5172502098861849,
          -0.27920355980062733,
          1.7146299260527245,
          -0.1956575959024906,
          -1.5924750215522472,
          0.045692997481100235,
          -1.0255813295780136,
          0.10067753539114208,
          -1.0297362857349368,
          0.05654146054617331,
          -2.052569154055173,
          0.0006218253086768192,
          -0.8171270191169868,
          0.17373388174081625,
          0.18652934991922662,
          -0.49996248254008335,
          1.660186136524236,
          -1.4715871004653596,
          -0.5515159203575147,
          -0.5092896965041958,
          -1.632437374949951,
          1.6630139117427005,
          -0.8810020052728404,
          -0.5925218350678264,
          0.1171568556787256,
          -0.8558389380747006,
          1.5652078778967367,
          0.4144228157060303,
          -0.38688195280094473,
          0.3491404897042228,
          -2.9176566034793536,
          -0.25474695370760586,
          1.217970549082048,
          0.2506655767446504,
          2.784234115797812,
          -0.6740119900288991,
          1.741147561330467,
          -0.2713148501326508,
          -0.7935181779811777,
          -1.3895401250832355,
          0.508346637546104,
          -0.41586888493507357,
          0.929974551022221,
          0.23054066545683424,
          -0.25272760548062334,
          -0.06027197668066208,
          -1.6355303410264685,
          0.35763632917514526,
          1.8356674796433623,
          0.8717275406957541,
          0.35700749225372586,
          0.31333961279492595,
          1.4685598705059897,
          0.11923017741537757,
          -0.7563922100272974,
          1.0900498620836663,
          0.027086057010473882,
          0.8804235890328329,
          1.5118017862702386,
          -1.2657669259839865,
          -1.4851578954849058,
          0.8382382523692904,
          -0.9628904433059975,
          -1.2421725840009434,
          0.07772201318588676,
          -1.2189748115300278,
          0.9693077968631656,
          0.7933905534875464,
          1.0381238881547283,
          -0.2370158885606222,
          -0.7549870873415909,
          -1.1514953412468603,
          0.21950361883396033,
          0.5204397562768309,
          -0.3171827083802929,
          -0.5869856317993389,
          -0.01640431780535551,
          -0.35935793200434163,
          -0.19387535849285012,
          0.9521009521520967,
          0.24226770984608842,
          2.067814720249727,
          -0.25415789353728124,
          1.9515101605505443,
          2.231170848981005,
          1.1630280790546519,
          1.0370813908450298,
          1.1477951847597678,
          0.7511987028037671,
          -1.734480671055193,
          0.4065503435663474,
          -0.38013991048114537,
          0.6709495496310164,
          1.1281340755289613,
          1.4088962343343818,
          -0.8368054474731964,
          0.8565592704377463,
          -1.7059699967400033,
          1.324473043457475,
          1.153427882200198,
          -0.940923356150726,
          -0.0545555130595833,
          0.439912759890548,
          0.7977100488670679,
          -0.7765588034601295,
          -0.5624313939848383,
          -1.1421423847689742,
          0.3949341450336091,
          0.22963039759431608,
          -0.1530645599605647,
          0.7781240484518546,
          -0.36669939158682857,
          1.815858732756309,
          0.4288094222556292,
          0.029845346300677006,
          2.513169819110409,
          0.28506967711536296,
          -0.8830223111298182,
          0.5755800986808622,
          0.6371934357713138,
          -0.6263496908699434,
          0.590615900083026,
          1.1386357056463263,
          0.9759229039413638,
          -2.2602323755360323,
          0.9687293314048593,
          0.8721944035325001,
          1.0643395873958135,
          0.7383013047135017,
          0.45200432098400306,
          1.08310600056989,
          2.1308670430901655,
          -0.9759196117413328,
          -1.0174290294648043,
          -0.7186068372548227,
          0.7125871910284707,
          -0.6335415876474723,
          -0.4185534045688989,
          1.879500291517226,
          0.6595642532896256,
          -0.0615339309886784,
          -0.3673989676701554,
          1.0923681594235752,
          0.9631942133756266,
          0.11231708808722683,
          0.44964136554126694,
          0.12780748658321028,
          1.9006101638360366,
          1.0085253108073522,
          0.6543976554553285,
          -1.559717895130265,
          -0.06124349598486321,
          -0.9559249774118111,
          -0.8142618745535797,
          -0.3387351044568538,
          2.1839413661724048,
          -0.7325702074654761,
          0.01591949026702194,
          -0.11792144443736927,
          -0.17178788164086728,
          0.5083335473459359,
          -0.021742997022141913,
          -0.5854785769827522,
          0.8444194673535401,
          -0.9843715941248825,
          -0.6499981077776859,
          0.9983141237170837,
          0.725160806471521,
          2.119799618917384,
          -1.084998716543706,
          -0.31110536145091533,
          -0.9174281317432463,
          1.3902327557631426,
          1.090754400304725,
          0.6423049697272362,
          -0.8698597210927386,
          -0.17769721012947778,
          -1.0161678649704071,
          0.10646477203610517,
          -0.46771663950282477,
          0.7054356735810291,
          -1.0498405353368585,
          0.7372582999169018,
          0.10109466953963263,
          0.6830480455737641,
          0.3499015907602079,
          0.32881063869023935,
          -1.7390180352159674,
          0.15205446286604005,
          -1.9856621556179057,
          0.06069276469158735,
          0.555643817540143,
          -0.8250362809203297,
          0.18450459145732417,
          -0.19686006360672037,
          0.043830477369468684,
          -0.2749644661140655,
          0.2381382888014774,
          0.1719726761718952,
          -0.07891524820563219,
          0.11819598773638924,
          -0.3370089479690899,
          -1.2324496088098125,
          1.5303505880992005,
          -0.5541555165506312,
          -0.5251273961517327,
          -0.0026382226572497984,
          0.4698017306376381,
          -1.5063923592744792,
          -0.46725050497895226,
          0.24215373074434615,
          0.761201725468951,
          -0.5079401578291458,
          -1.270553315871626,
          -2.6726275212011443,
          0.8216757306935776,
          0.983296808625209,
          0.3580427933589824,
          -1.7588372841705753,
          1.6839626157232415,
          -0.23387157173008524,
          0.6682127454844574,
          -1.4795380735092,
          -0.5834995260966616,
          -1.1476276929808427,
          0.1824058377069506,
          -0.7935056333904017,
          0.22606953118818549,
          1.014458334693106,
          0.054327462864010016,
          -0.7354481296587654,
          0.8797950687950706,
          -0.29892215279917195,
          -2.6306950257455917,
          0.6215524863829137,
          -0.731646891555903,
          -0.1300484751993322,
          -0.7365143485229906,
          0.5433380808479243,
          0.9148306778409329,
          0.2805504761494498,
          -1.72934200723968,
          0.024100565705833,
          1.330754136406109,
          -1.2206518213474968,
          3.3482960570938083,
          -0.6167867054915256,
          0.3964182756194674,
          -0.6484088808251349,
          -1.229841656063787,
          0.7716984608090581,
          -0.6875506548838191,
          -0.11023969960870567,
          -0.7334936772421475,
          -0.4419454466885646,
          -0.6956790572819255,
          0.3301605594443028,
          0.9001969163693379,
          3.11711645863719,
          -0.13897644293240405,
          -0.4169802546902932,
          -1.0087212358233446,
          -0.19709419341135587,
          0.19575422936828057,
          -1.4388473331907503,
          1.6721199738336485,
          -1.5557355921622398,
          -0.8214675904480723,
          0.2590999652585066,
          0.40921263108442946,
          -1.0892065670560036,
          0.6552430717805844,
          -0.18233386851658245,
          -1.2950634674873038,
          0.14058472051286142,
          -1.6914547335715233,
          -1.2982800483767796,
          1.7939620891037227,
          -0.08529868037803652,
          -0.66432672546645,
          -0.14129271639250007,
          0.7590870833682385,
          0.017578868469691363,
          -1.1270373422123188,
          -0.292562522180544,
          1.0140900680035267,
          1.809997718420234,
          0.6151274578093029,
          1.2071484384430677,
          -0.2599588311602942,
          0.9558025205363834,
          -0.745374572361013,
          -0.5238575053837822,
          2.324957971791056,
          -1.186567472478049,
          1.94496946168336,
          -0.8071492584355764,
          0.10018560185163296,
          1.856000615306661,
          1.1102090546532843,
          -1.16451516128457,
          -2.8109170506757377,
          0.45173604916919263,
          -0.5585212876081863,
          0.3497652889044149,
          -0.4015324379729114,
          -0.21586010594445346,
          0.9885196634224662,
          -1.3662032456671103,
          1.0244780087126286,
          0.8616064694634497,
          0.41376043276267677,
          0.8177372074108387,
          0.6675937884350418,
          0.0863880768695965,
          -0.24634663780746796,
          -0.5798350694856895,
          0.21166288619214174,
          0.6760786160215556,
          -0.8238463024386432,
          -0.56951992060316,
          0.3067848023722806,
          -0.545834749862905,
          -0.833059658787789,
          1.5924134066448885,
          -0.28613928297911634,
          -1.0323202078390163,
          -0.2913802365952767,
          -1.8419701171621663,
          -2.3919352185286047,
          -0.6224619383035573,
          -1.7689776651348825,
          -2.264377177559763,
          -1.0599329091787206,
          -0.08911065595467638,
          0.9722084136501229,
          -0.7654088449626556,
          -0.41091047956402754,
          1.387328512150462,
          0.3393455226675933,
          0.18972742640955054,
          1.9791046490331123,
          0.05866356606250003,
          1.2560346111706668,
          -0.25864069574823406,
          0.013795339125411152,
          1.359718376805132,
          0.09117615907629556,
          0.4402061819671902,
          0.2393635994408437,
          -0.548787338765901,
          0.6264697272667267,
          0.43686032709779904,
          -0.05322654692777305,
          -0.01784904151450883,
          -0.46537141374912844,
          -0.12311421612019609,
          -0.22210015541532946,
          -1.2809653985355764,
          0.7823628060624822,
          0.8042254016427746,
          -1.6220538933592255,
          -0.6793173008181322,
          0.6171067538588999,
          -0.10794944249965302,
          1.334262690375974,
          0.8145263587529321,
          -0.2918508125660611,
          -1.9841997815370644,
          1.154064971554459,
          0.593589092491816,
          0.6566010794724249,
          0.908787077335337,
          0.5683798490031472,
          -1.54155736793304,
          -0.034313258043601774,
          -0.11653650086422664,
          0.4628298789120291,
          0.2917982602184129,
          -0.5564215691802672,
          -0.1681857042229236,
          -0.06572629991021621,
          -0.6136098761735209,
          -0.1985748010170721,
          0.8859024711738823,
          -0.7679338805552754,
          -0.5527254700774165,
          -1.0397915363577497,
          0.6007335775104392,
          0.5810135324319714,
          -0.08927364239992903,
          -0.06707727560771184,
          -1.3037311694441633,
          0.40603670819666055,
          -0.7351896004319883,
          0.43909366653959736,
          -0.9565916687669463,
          2.52931224580047,
          1.5185624821971375,
          -0.29539951826917393,
          1.4139168780799074,
          1.087818608022342,
          1.0869496558207261,
          -1.084018357700131,
          -1.7854392225086322,
          1.1913964576674347,
          0.7380999623119692,
          -0.7884427330594019,
          1.9136809399659582,
          -0.16369496375796172,
          -1.576123329465956,
          0.037633392184762464,
          0.7290176043533616,
          0.7274640802278607,
          -1.625263445939557,
          -0.29550579768971424,
          0.5670125567778083,
          -1.020320236997533,
          0.0030799856413329446,
          -1.7951179874155252,
          1.6382521274127095,
          -0.5880683021779355,
          0.8063784714760406,
          -0.47447773094246354,
          1.7928203738265978,
          0.33936332212010295,
          -1.7308024339211783,
          0.1270424710490595,
          -0.41609655466283973,
          0.2342035406891911,
          0.18683960085682433,
          -0.5134090902676377,
          1.166723562919743,
          1.2705860371600204,
          1.7431402117035153,
          0.87717485636793,
          -1.1457609961130262,
          2.0924599684166383,
          0.6360460265635163,
          -0.3064675911896466,
          1.8373529337614516,
          -1.6216784748580004,
          0.5959249459173043,
          1.8379531183681135,
          -0.7892408030814357,
          -1.0135625535913537,
          0.4375781043561656,
          0.09417879662960128,
          2.307343631375626,
          -0.5380394322050901,
          -0.5322253966020061,
          -0.29965320230770326,
          0.5917267697599136,
          -0.6010022980909147,
          0.9918408974494082,
          -0.16891280604186898,
          0.7365731574987407,
          0.6293554494928632,
          1.605080629842701,
          0.6132456091966755,
          0.0021835462574010846,
          2.542222000099865,
          0.16279808627113615,
          -2.3784014252479606,
          0.2556304468878602,
          0.7713732185013571,
          0.34596265563888695,
          -0.904442412450571,
          -0.11671180982878217,
          0.20732727814939705,
          -0.4382139402149119,
          0.5767765953273146,
          -0.4562808484908044,
          2.8288149585115376,
          0.7801720638347307,
          0.14251001228458535,
          2.1579902670775133,
          -0.6464968000069734,
          -0.8735643880527383,
          -0.3607585379023479,
          -0.22023351099006627,
          0.0027882514611912053,
          1.6779964469126478,
          -0.30499353853909617,
          -0.2872924267727271,
          0.1053113705084682,
          0.039331492477122414,
          -0.44868532028358404,
          -0.29380014128013027,
          -0.7029650022294931,
          1.8050300193303221,
          -0.09271960829954291,
          -0.8286307966727315,
          0.9576063384676763,
          1.09080174266617,
          -2.46833258810426,
          0.21461972339406932,
          -1.039954583076396,
          -0.23817452812250584,
          -1.192915330687067,
          0.5561807598100097,
          -2.0234033098627777,
          -0.14491809561278748,
          -0.15499462892091226,
          1.312823656571076,
          -0.37227158715437214,
          -0.1453660589050448,
          0.007261841623434728,
          0.31529518543885876,
          -0.7006538923848215,
          -0.9590492082251046,
          0.7920406126009544,
          0.3041017376618744,
          -0.5537581112505943,
          1.7509828680809598,
          1.318133538400152,
          1.336267713607918,
          -0.00897786426250788,
          1.5663432804563755,
          1.359405247068598,
          1.286364447485208,
          -2.5206031421836324,
          -0.7300923639263848,
          1.5763889600058423,
          0.25087723869348044,
          -1.4294196316253232,
          0.749336491896212,
          1.8326745914164202,
          -0.9141217687741323,
          1.0296841990142196,
          -0.2234346566960602,
          0.6670825385792165,
          1.2243043414596348,
          -0.8462862498897957,
          -0.412491574707475,
          -0.5923620147998769,
          -0.6518508169387804,
          -0.6298412494202681,
          -0.2336207763215044,
          -0.29822163157972836,
          0.9876175354990498
         ],
         "y": [
          -0.7266540438285067,
          -1.724865593824065,
          1.612736425177434,
          -2.7956336722795125,
          -0.21919698343920463,
          1.819631818673343,
          0.6054410357760698,
          0.5816319669900318,
          0.1505169841693039,
          -0.9868971432440506,
          0.7841459792160907,
          -0.1374880956422927,
          1.3906063106035857,
          1.9005728408325668,
          1.1953954412826056,
          0.17848880240836382,
          2.0968162314041683,
          -0.4295921121509641,
          -0.5507997172484884,
          -1.350278315552237,
          0.6815541540349795,
          -0.5946904562082038,
          0.6380205654091216,
          -0.15549094460903054,
          0.7224025359660586,
          1.4604296216537556,
          -0.9419654942024425,
          -1.5215144064235666,
          0.5610852720110834,
          1.146891417497774,
          0.3649100251200145,
          1.4407325124657142,
          0.32444819351277987,
          0.46037631416048885,
          -1.9938236909041385,
          1.3691964677374937,
          1.4213939304582466,
          -1.7575946081637703,
          0.06914326206915442,
          0.15788037183168283,
          -0.9318393779843919,
          -0.6706498481715346,
          1.1934548449612281,
          -1.2383541842905734,
          0.6065976522857689,
          0.7274515341943469,
          -0.9935161631761968,
          0.8366521807599008,
          0.23595356720924596,
          0.47608815898775114,
          0.2704468907390887,
          -0.3694217769040253,
          1.1848536533848941,
          1.4884510643472826,
          -0.541391269618756,
          -0.8735252696151222,
          1.7349840813105923,
          0.8936234818862542,
          -0.9548756814804418,
          0.26098819572033694,
          -0.8568955907777579,
          0.13798515096931221,
          -1.9589870730076528,
          -0.3317829294338891,
          0.4824001784232258,
          0.09605192114630991,
          -0.4890751016457784,
          0.2946395654545407,
          0.38975752343166353,
          -0.9555405045758791,
          -1.1378680107651122,
          -0.3519883155468047,
          0.3871932652482864,
          -1.9132615109748068,
          0.6920716679505561,
          -1.5982809066904358,
          0.42131136043207457,
          1.630172803827427,
          0.6847279330071344,
          -1.524921485154599,
          1.6085210121078317,
          0.49423734144250026,
          -0.7342540400778343,
          -1.3079992891692873,
          0.047250695453492586,
          -0.2601406392837887,
          0.680869546359744,
          -0.1486325053234733,
          -0.9347317526072765,
          -0.34014831261036665,
          -0.408822712638218,
          0.09811370902266839,
          -1.010732596608627,
          1.3477335631478895,
          -0.01907577007143081,
          0.19828233956383465,
          0.678043368182504,
          0.7288786412779874,
          -1.9572954383448853,
          -0.8893140362424132,
          1.3314803599821405,
          0.14776619662795387,
          0.48265335463019665,
          -0.5502507345087724,
          0.45328520691558943,
          0.8686206717451289,
          -1.2180983113191213,
          1.073109137777803,
          -1.1294578110596512,
          2.553982072420683,
          -0.043001450690697086,
          -0.08421838284794826,
          0.39910298648934756,
          -0.8053715770654281,
          -0.9061732058106365,
          -0.018819192778985645,
          -0.4865907309478722,
          1.4332033329402725,
          -0.5320666811935443,
          -1.3971907558418653,
          0.7036055509915246,
          0.6701814760846411,
          -0.326924399113645,
          -2.694265461143128,
          -2.2720582298102587,
          1.4323690041106496,
          1.1131928828724154,
          1.1554758521126525,
          0.12860876278677486,
          -0.6335258331836682,
          1.5058281457738878,
          -0.1508559976715125,
          -1.2552925758351838,
          0.695808306225457,
          -0.5012588156081323,
          -0.7653471581735809,
          0.5109680687133206,
          -0.5214350098727757,
          -0.5244007008390758,
          -0.7612271587409376,
          0.24177214743465336,
          -0.9500024997006509,
          0.7463186657438104,
          0.38559660593893197,
          0.9651281789729677,
          0.5224515440024221,
          0.5356103599511399,
          1.5186961127495335,
          -0.57977808467568,
          -0.42173340589055824,
          -0.8567821005174455,
          1.7839285442402026,
          0.8546497263191994,
          -2.1826813713546085,
          1.318703771503377,
          -1.3331029589282828,
          1.80195304132317,
          0.7634220332179316,
          -1.3721462586965294,
          -0.40009960162227337,
          0.5817160404375692,
          0.6448341078219096,
          -1.594495633768738,
          -1.0312195524245213,
          -1.0101204376166761,
          -2.0553714608989258,
          0.6775732582710237,
          0.5941155245927605,
          -2.2059288038897296,
          2.21498909469429,
          0.5394256160866101,
          -0.5875693000183764,
          1.3965780370780918,
          0.4197016911537326,
          0.4748235208492982,
          -0.43670707949536697,
          -0.057546784628368056,
          -1.73274156023555,
          0.30279660977048106,
          -0.2610714126378433,
          0.3988947889657538,
          1.7150451678495342,
          1.0154109965664704,
          -1.0001964487368604,
          -0.7250231094338531,
          0.0787304852530911,
          0.31600941636957536,
          -0.3738182557696291,
          -0.04166063545629305,
          -0.2426487964306245,
          0.8076781538907427,
          -1.3649799084187229,
          -0.6259526959109143,
          0.6268961739666205,
          0.6903484079532954,
          2.3526634980235213,
          -0.18598210552749472,
          -1.3389854138571058,
          1.2637198077516423,
          0.09425494437616576,
          0.5301609420205214,
          -0.2091954686770957,
          -0.2295177412390719,
          0.6150228846773428,
          0.3226349215616127,
          -0.5743359663408857,
          0.33792216352471294,
          0.8943254481565699,
          0.5347829521845655,
          -1.431275529939937,
          -1.1828863182414793,
          -0.5852741490138775,
          1.1954985598864065,
          -0.0847265963633044,
          1.6445965059629304,
          -0.3926069892027932,
          -0.46426570314793825,
          0.2185972214599907,
          -1.0233326206607474,
          0.0297468381220168,
          0.2485741338491897,
          0.2590456766895022,
          -0.6183412480640211,
          -0.47765917265596597,
          -1.9992946951098916,
          -1.3924060222371277,
          0.9481669051801086,
          -1.5734437779900479,
          0.09331930552062427,
          -1.2929283174511186,
          1.0215885191770342,
          -0.4563761771583946,
          -0.02780710641435282,
          0.6274255040468389,
          -0.7176362259644492,
          1.448900024900756,
          -0.24416002734949732,
          -0.3036244560523085,
          1.8907271106141934,
          -1.3490878848251635,
          0.1621006213333814,
          0.732806720563023,
          1.4355879171300667,
          1.1660404140661873,
          -1.455973709123388,
          -0.38627004040279844,
          -0.3469680294127794,
          0.7743696041599836,
          -1.867267347669244,
          0.37751725976182066,
          1.5454108302663125,
          0.22125703578442388,
          -0.7160191905311172,
          -1.5912325934275344,
          0.5029703258960246,
          -0.7793724432239162,
          0.30470397797123655,
          1.2174587797496241,
          1.6826209211909513,
          -0.05582628908685944,
          0.09291818089708223,
          0.5542571955468855,
          -1.1667486184074944,
          -0.12440847912087549,
          -0.8636397794982614,
          1.2858498926259574,
          0.5563719926415971,
          0.13520041117418372,
          0.1342845730793461,
          -0.59914864711908,
          1.0714086138994008,
          -1.7765377377086795,
          -0.0801454677482025,
          0.20925644058379342,
          1.192952330246634,
          0.9122128344052917,
          1.059260418794779,
          -1.0892372816282838,
          -0.00660977122710534,
          1.2236834625442659,
          -0.8521658081685274,
          0.3579589041580482,
          -0.44058676504950656,
          0.8316923947121164,
          -1.9396928258705763,
          0.7671526164718331,
          0.16845154456865316,
          -0.19710649658744947,
          0.702923439952051,
          1.4564767700506491,
          -0.6380210503953262,
          -0.12375076947532161,
          -2.0585203580035634,
          0.25916296111685855,
          0.23952282547267506,
          0.18147757919343388,
          1.0864193842000782,
          -1.760748846412406,
          1.20840713486501,
          0.8655187075861834,
          0.05513871736609701,
          0.855940025858922,
          0.15983562071833785,
          -1.659498707506777,
          -1.7461888519982076,
          1.2352167589899927,
          -1.1677433866204536,
          -0.797863479267529,
          0.2774121373492744,
          0.7706652713720831,
          -0.9655159280264904,
          1.484567530852582,
          -0.510883846900408,
          0.0889595362306647,
          -1.7378698870428098,
          -0.7130529668666341,
          -1.5030151820895055,
          0.047381612539042384,
          0.5472350901338684,
          -0.6127642068942468,
          0.10183341085279185,
          0.8240609114111425,
          -0.037712792512314186,
          0.7550051521148076,
          -0.4152693400848592,
          -0.6349019877452947,
          -0.07695309606324463,
          1.2746838928915614,
          -0.44022442931169503,
          0.9526730350050341,
          0.9148956493873615,
          -0.6677348419992619,
          -0.6770546942438033,
          -1.5840949186326763,
          -1.003513682419676,
          -0.06387286559183321,
          -0.7364336397851351,
          -0.5777691469764227,
          1.9710360908433606,
          0.6768269886201325,
          0.18775526866364686,
          -2.1969220705166803,
          1.6383889603046256,
          1.272786796841957,
          2.1437177059560586,
          0.7281081899681271,
          -0.33286486564612855,
          -1.002769499441025,
          -1.099124715022183,
          -1.4475793862449369,
          -0.9010503716446991,
          -0.6658536792038658,
          1.3592715072097488,
          -0.5456620982359648,
          -1.2482349350055304,
          0.3696323276783522,
          0.544406619396399,
          -0.3912149493895812,
          0.9986907598203411,
          1.9694520214408038,
          0.6726538479997826,
          -0.3485026401992097,
          -0.9674883675539442,
          -0.07305967489003776,
          -0.45764970478566996,
          -0.9321115390133269,
          1.969590868395203,
          -2.414897417726043,
          0.6280853251240146,
          -0.22663082557855016,
          0.16767792321941563,
          -1.2579853683347653,
          -1.4695010414898149,
          0.4527900689589747,
          1.1180646461138215,
          -2.139177686765028,
          -1.0548849901090904,
          -0.28023523796989236,
          -0.4494514294196575,
          -2.5311858505217897,
          -0.14346735231244756,
          -0.5923194734104705,
          -1.9735792450691074,
          -0.6025666294873485,
          1.6589384567608416,
          0.06162419410690804,
          0.43417152100550116,
          0.244637325964827,
          0.07707740517041278,
          0.8321328244208842,
          -1.5119380600327437,
          -2.4448768618700907,
          -0.884110702364311,
          1.3679037441766044,
          0.12468162567893365,
          0.770757380543802,
          -0.03484610078909155,
          1.1927728009273186,
          0.007739514066867314,
          -0.026545534337791703,
          2.713620105117277,
          -2.2337644491334694,
          -0.018562830601896046,
          -0.9959321536709531,
          -1.1489828916368792,
          -0.14170826754117097,
          -2.0728168156683755,
          1.2275688217119471,
          1.6393264197013548,
          0.4080042203603121,
          0.08255763474198358,
          0.8903585654022096,
          0.4523079575929993,
          1.0416127012656478,
          1.5176510628311974,
          1.315248647784247,
          0.7829586035947582,
          2.227028480503362,
          0.89030327470057,
          1.166662571199024,
          -1.9556031424229947,
          2.2488301383105394,
          -0.6159687836951144,
          1.0209715439005385,
          2.0685699616597755,
          2.794581119927553,
          -0.12725508087949622,
          -0.08538110928938812,
          0.8829911165040651,
          0.2898087070889804,
          0.11708510589833421,
          1.5251476729424633,
          0.05390759989262505,
          -0.1502874377030311,
          -0.22951773815960994,
          -0.5581767718184512,
          1.154360110992071,
          -0.5986038158211708,
          -0.23033725563918325,
          -0.44666402705729863,
          -0.5504671829955089,
          0.738513824601398,
          0.8788643387003772,
          -0.11512390344506035,
          0.4202011481383491,
          -0.016454579918944806,
          1.1189974021675424,
          -0.1564888661360205,
          1.233077236981586,
          -2.29361185378137,
          -0.5551304287819595,
          0.9041334778466129,
          -2.1828530320672117,
          0.2339670979636003,
          -0.9086773735974178,
          -1.4165407943978585,
          1.045509365337473,
          -0.09184621779790969,
          1.4776121541191132,
          1.4634397963006682,
          -1.3269954854257973,
          -1.4888305410010325,
          -0.613064410573803,
          0.909580014375141,
          1.457380253747798,
          0.830612029939963,
          1.4714188273208066,
          -0.31006482182149836,
          -1.1240021452423794,
          -0.19327507538681962,
          -0.36533017135095136,
          -1.3921757057841244,
          -0.5932843420435886,
          -0.7620079260095237,
          -0.8143640092290869,
          -0.48643081452885983,
          -0.23722055541061166,
          -1.0775948084762057,
          -1.3674160172974983,
          -0.8349656201769236,
          -0.1698910282021768,
          -0.5654424290258634,
          1.0519862656871461,
          2.300491460869172,
          -1.331827532911363,
          0.43173717542591994,
          -0.8238074421101926,
          -0.08853779603799511,
          1.036307938769363,
          -2.2918135457130027,
          -0.8586822666209003,
          0.46006515442121154,
          -0.9351767444065578,
          0.12868571883369453,
          -0.8750211539516629,
          0.19068724672576368,
          0.8162378801727442,
          -1.0991031241806497,
          -0.0718055871371235,
          -0.2964850680531412,
          -1.173653732156397,
          -0.11081996095328764,
          0.37762151119647297,
          0.9637844651417912,
          0.44683369381495,
          -0.17078167611636896,
          0.1838134660607474,
          -0.6060489934924801,
          1.7564520608898255,
          0.5510659121922521,
          2.3736116394035465,
          -0.55213724980513,
          0.8970966724395752,
          -1.156877691391955,
          0.17652954305677468,
          2.9735669916706406,
          0.7981852896033147,
          -0.47392772679976364,
          0.6796250148149988,
          -0.16029668726683052,
          -1.0072308107230286,
          1.10509183372425,
          0.1779825221881255,
          0.34471134102920636,
          -0.617010300304429,
          0.5208547497664944,
          0.022860410863070453,
          -0.542019312335347,
          -1.1519728420249606,
          -1.8254571819483572,
          1.1932792564115668,
          -0.6636060837884322,
          -1.7289886675978479,
          -0.31948319856974716,
          1.049117317184232,
          -0.44777096038887154,
          -0.049531442955059894,
          -1.5569815585898108,
          -0.2490992493052051,
          -0.37496252404337443,
          -0.9474318555513697,
          -1.2282819823581805,
          -1.2351994860051014,
          -0.0694669574424272,
          0.7895145285098731,
          -0.5196337822165168,
          0.292874717793732,
          -0.332054242236978,
          -0.2959869266672183,
          -1.2007851522323805,
          -0.7305542415856415,
          -0.8750890144041997,
          0.2660142807890351,
          -0.25599853140460355,
          1.7681569612821613,
          1.3484820257653765,
          0.6799342776496451,
          -1.091139570731825,
          -0.8912975770805361,
          1.2179395453170798,
          -1.6586129662932367,
          0.6805307145898803,
          0.31558478629896236,
          -0.06358241906532422,
          -0.2818808770033032,
          -0.5553775945722057,
          -1.3743598415201936,
          0.4952501121957825,
          0.09522467238251565,
          -2.966207186700128,
          -0.4864839609487837,
          1.2960496069313907,
          1.0464936297431942,
          -0.11055530088066352,
          0.6376687699805826,
          0.7199617808073159,
          -0.7774702030950009,
          -0.2734180942703385,
          0.41932036156418917,
          0.553635456037207,
          0.05129951228597931,
          0.5754182264427071,
          1.2690472664611074,
          0.7422111897880849,
          -1.1908557565904947,
          1.4745936659631151,
          -0.7789136477971331,
          -0.06561574464810704,
          -0.24997831851626845,
          -0.21378442994573668,
          -0.7079635068642312,
          -0.0997260678039151,
          -1.8262634903523811,
          -1.2574444844187214,
          -0.7554165795657201,
          0.8380586704672988,
          0.21993422457089715,
          0.014760703018222921,
          1.5140770914651929,
          0.6306222488168705,
          -0.39226552176335167,
          0.5318402624937353,
          -1.3589725587150328,
          1.065220932074643,
          -0.3865224238966595,
          0.6524795841403925,
          0.2571254403606831,
          0.8332575712106596,
          1.3092762705007182,
          0.25990212660733714,
          2.80929275065669,
          0.21287154324801366,
          0.13313602226552423,
          0.9098197436793645,
          -1.524045518982891,
          -1.635464349640843,
          -0.24452671533536322,
          -1.072689499356599,
          0.7091460361367018,
          0.9939634827568068,
          -0.6084946978561417,
          1.0567840879883728,
          -0.36166617595063383,
          -1.4621500631558204,
          -0.8185345582327922,
          -1.2360514786351269,
          -0.9799161122681728,
          0.3600286011476089,
          -1.484355200440858,
          1.2161777137562415,
          1.094374282556678,
          -0.35486544809592463,
          0.49969280533438937,
          0.9682116464898387,
          -0.06955615899221688,
          0.041865001322231706,
          -0.3366698764071875,
          1.3986912544539878,
          -0.04911880518242185,
          -2.069641546794633,
          -0.6427306867853282,
          -1.5303341734182847,
          -1.9521728341199827,
          -1.0598688710011035,
          0.7678700691392452,
          0.6161990802831002,
          1.4018286980785601,
          0.37644680919377627,
          0.6437278859811686,
          0.4529605794885544,
          -0.4434202131975711,
          1.157701618232006,
          -0.12430097191807317,
          -0.2150162448640844,
          0.05051188285748446,
          1.5990323811932814,
          -0.5890010007381783,
          0.5341961241329535,
          0.16839151106245567,
          0.13308388484224565,
          -0.49740198741171004,
          0.09920236198273855,
          0.6080928208006235,
          0.5442718145870145,
          -0.3431709479757462,
          -0.5245104299346666,
          -0.5468774268706657,
          0.6535258193209978,
          -0.7137638610330788,
          0.35945504065468414,
          0.1628157457448529,
          -0.902672248232184,
          -0.7234782810415664,
          -1.2852308602537883,
          -0.2795016933180176,
          -0.9511610812574535,
          0.3285831562196539,
          0.8153106663389535,
          -0.39111612861387196,
          -0.24967205458470063,
          0.5372777574206764,
          -0.8178821617263154,
          0.2998920010129967,
          1.8092761623104219,
          -1.3043231722316775,
          0.4885275327200282,
          -1.5065792640655644,
          0.11121000195291517,
          1.1233139744400733,
          -0.5161174535964658,
          0.026719386686710495,
          -0.08364729653370598,
          -0.8458360113091021,
          -1.312602185768503,
          -2.1140070949796765,
          -0.06328179335196306,
          1.037406673293942,
          1.1562242690967501,
          -0.32477591671932965,
          -0.13421289438160985,
          -0.9265940786835104,
          1.3442154790935197,
          -0.955844232428236,
          0.06430971214304565,
          -1.0846724122325875,
          -0.9717282100332032,
          1.0025510448623265,
          0.8143468692497622,
          1.8743736666492965,
          0.799699896024134,
          -0.6986065674277213,
          -1.0743682029266584,
          -0.6212008790931127,
          0.28550428090256064,
          -0.8819361168218115,
          0.9864919927340663,
          -0.08178618628065705,
          0.40950979629144163,
          1.1651621085533943,
          1.652483839598522,
          0.7765926951811883,
          -0.4057501274484432,
          -0.26502887827705895,
          0.1276234713183617,
          -1.8009227030324966,
          0.16300662936865465,
          0.12232259911386253,
          -1.6468836195224734,
          0.11813692085116718,
          -0.6334425806186132,
          0.9031534932386679,
          0.14552319407779374,
          2.0778144373948515,
          1.3787142330746789,
          0.1410848816844973,
          -1.3781012686363174,
          -0.6664798214702584,
          0.3848283988033949,
          -0.4072631392635304,
          -0.661607504893543,
          -1.113114449745973,
          1.2769056559926433,
          1.0414513399886716,
          -0.0974106082443599,
          -0.4383638179856363,
          0.8094791283627216,
          0.44222030810703455,
          -0.47770986700520174,
          2.0170785048871966,
          1.0722183738330489,
          -0.5831746921670584,
          0.041336221648703646,
          0.07697332171825699,
          2.186705846709411,
          0.6456419497398416,
          -2.281960681671927,
          -1.106054086491998,
          0.4268079125418884,
          -1.0392568258643469,
          -0.35732779472650733,
          0.2855244319692989,
          -1.2979311654515027,
          -0.4901118081630212,
          0.47900798196846356,
          -1.1801099991252924,
          -2.125831291528129,
          -0.6934046363108477,
          -0.9124614258932253,
          0.6517267900374628,
          0.15219749354487797,
          -1.5497245595600382,
          1.7451653034481756,
          1.7136457408994168,
          1.4979020528143887,
          -1.3751240470503638,
          0.29858329908989345,
          -0.6537085625946911,
          -0.6516426290412968,
          0.14054082886028857,
          1.023135979789578,
          -1.3300283559910961,
          0.45389387358509936,
          0.4271329390492837,
          0.6857812421105961,
          -0.2765888062448607,
          0.47574187705852894,
          -0.07119477695199833,
          -0.6974715625398006,
          0.26012579850679357,
          1.1295551611787622,
          -0.5137315719566609,
          -0.9344254039136242,
          -0.12015451659999232,
          0.7897342797192649,
          -1.2998710393247335,
          -2.06350766665256,
          0.04580640410858515,
          0.011536315859749858,
          0.4537501438139305,
          -1.3903269693384062,
          -0.42477715405983607,
          1.269015733623069,
          0.7158345821306752,
          -0.6646827259762067,
          -0.25895504685185833,
          1.4391778210905959,
          -0.10461500532610496,
          0.25368850424461586,
          -1.3445617054472998,
          -0.13788576463394384,
          0.13452922958746177,
          1.3936369596522684,
          -0.09641090462455164,
          -0.9745883134132503,
          0.1331942785039976,
          -0.7711562969161084,
          0.08734433127099087,
          -0.7606497678403129,
          0.6208323280542342,
          1.0531134299086533,
          -0.6435691933159219,
          -1.1620995725040002,
          1.6154059614267595,
          -0.18912777772530961,
          -0.48798487557165476,
          0.1573557012021246,
          0.871232235570205,
          -0.6792003305106004,
          0.14514401724900683,
          0.521464516790773,
          -0.40109593707417807,
          0.8729023106743086,
          2.246216903962021,
          -0.19776225304143105,
          -1.3329977757032487,
          -1.4343308095800535,
          -1.6845139537151388,
          0.12835080616635852,
          0.9708311280522788,
          -1.7062205795779577,
          0.4276886719267355,
          0.18184356102785498,
          0.7830567745138585,
          0.9284431073967588,
          -1.6379297873317809,
          -0.2394942544623343,
          -0.8074964517756846,
          0.1920865238309692,
          0.18021879077587252,
          -0.09897376011169287,
          1.839692716265122,
          -0.34175549571307434,
          3.6857784401166143,
          0.8639300248536569,
          -0.8148914438326817,
          1.0959081293554758,
          0.9673452030120945,
          -1.2391340759416838,
          0.5517274537678194,
          -0.20647759151046652,
          0.667360272774745,
          1.3616438959082655,
          0.29969525667656755,
          -1.2120906458508736,
          -0.6252675084325614,
          -0.002874787062123699,
          0.33855663944983694,
          -0.6601050116397322,
          1.911530139593789,
          0.3408818671207285,
          -0.49581451859833514,
          -1.124205570570076,
          0.4999746714396447,
          -0.9695377756286483,
          -0.871436767842307,
          0.7356878907450972,
          0.08076743038368042,
          1.3049921966838802,
          0.8812990658339082,
          0.03589642171898041,
          -0.6306079526166455,
          1.2192260897916565,
          0.41621392437050075,
          -0.3087854856193774,
          -2.2450976654267274,
          -1.2660932261624926,
          0.4727289895431235,
          0.28958351233911755,
          -0.23519521615887476,
          0.3786266932922944,
          -0.9070814863246103,
          0.19778389321740014,
          1.436963377411611,
          -0.8764026395072588,
          -0.604958849470599,
          -0.016625354528095517,
          -0.04228926980595178,
          -1.195802444743868,
          -1.44246097627108,
          0.9582767458875692,
          -0.18708430275549928,
          0.8232170426548701,
          1.2476012270867793,
          -0.14198289982264337,
          1.323560081901897,
          -0.560788256551191,
          -1.570723557326117,
          -1.000669993911053,
          -1.1480643274298103,
          0.7826531086579923,
          -0.12603196843018105,
          0.20370539317877753,
          -0.6374289915577661,
          -0.7642203038973158,
          0.1280561508083895,
          0.25825004634642534,
          0.9859619966112362,
          -0.45798692000487623,
          1.3628349861894917,
          1.7608870803681747,
          -0.051127829046639324,
          -0.35908787450409535,
          -1.5461910645694108,
          -0.24713244606597687,
          0.8164967927013518,
          -0.4759731765103321,
          0.07017833546292473,
          0.48631438897531676,
          0.06275114684443044,
          0.794948736337935,
          -1.5801002848169379,
          -0.69182957638584,
          -0.584182283231622,
          0.6533521411125092,
          -1.2965236976379706,
          -0.37656918767936043,
          -2.7748166578317615,
          -0.06795384182507157,
          0.18033983878697032,
          -0.9246946636251926,
          -0.6957286244906673,
          0.007989200293370234,
          1.2863383109179196,
          -0.47512032803356935,
          -1.8338698680486671,
          -0.58113987341278,
          0.3760424649204297,
          -0.019180524577428013,
          -1.2294552672857557,
          0.9824960957559332,
          0.7966474432369699,
          0.1526906866034626,
          -0.8531498398793401,
          0.6209350754161069,
          0.906503140082767,
          -0.5348697870447695,
          -3.0830684013454746,
          -0.017815062655836395,
          1.162422849551282,
          1.7296217385353037,
          0.9544443259895562,
          -0.6979508854173962,
          1.172024998205628,
          -0.2136130337994696,
          1.2538516854548378,
          2.161223471146297,
          0.04812922240993681,
          -0.8866242014866578,
          -0.40203002821973877,
          -1.460194625917049,
          -0.2574583495217678,
          0.827955968539781,
          0.6727776432881627,
          -0.6967391380775704,
          0.752529625248557,
          -0.8748226843651146,
          -0.3278939877358992,
          0.5392786671566626,
          2.5590683031407937,
          0.21296233725981248,
          -0.9373758561533592,
          -1.3735684574938727,
          0.1290863519322174,
          1.1172557676493788,
          -0.9635114575064211,
          1.6243751309407395,
          -0.1972657149523433,
          0.8092074277136372,
          0.7667881931600722,
          -1.0682206531012293,
          -1.0075478537168796,
          -0.16918526834858938,
          1.4192630258191041,
          -0.7925520473976078,
          0.8756297637889352,
          0.4597050061117839,
          -1.6692166574019227,
          -0.18279068180863287,
          -0.7069591748752195,
          1.3115783924423259
         ]
        }
       ],
       "layout": {
        "template": {
         "data": {
          "bar": [
           {
            "error_x": {
             "color": "#2a3f5f"
            },
            "error_y": {
             "color": "#2a3f5f"
            },
            "marker": {
             "line": {
              "color": "#E5ECF6",
              "width": 0.5
             }
            },
            "type": "bar"
           }
          ],
          "barpolar": [
           {
            "marker": {
             "line": {
              "color": "#E5ECF6",
              "width": 0.5
             }
            },
            "type": "barpolar"
           }
          ],
          "carpet": [
           {
            "aaxis": {
             "endlinecolor": "#2a3f5f",
             "gridcolor": "white",
             "linecolor": "white",
             "minorgridcolor": "white",
             "startlinecolor": "#2a3f5f"
            },
            "baxis": {
             "endlinecolor": "#2a3f5f",
             "gridcolor": "white",
             "linecolor": "white",
             "minorgridcolor": "white",
             "startlinecolor": "#2a3f5f"
            },
            "type": "carpet"
           }
          ],
          "choropleth": [
           {
            "colorbar": {
             "outlinewidth": 0,
             "ticks": ""
            },
            "type": "choropleth"
           }
          ],
          "contour": [
           {
            "colorbar": {
             "outlinewidth": 0,
             "ticks": ""
            },
            "colorscale": [
             [
              0,
              "#0d0887"
             ],
             [
              0.1111111111111111,
              "#46039f"
             ],
             [
              0.2222222222222222,
              "#7201a8"
             ],
             [
              0.3333333333333333,
              "#9c179e"
             ],
             [
              0.4444444444444444,
              "#bd3786"
             ],
             [
              0.5555555555555556,
              "#d8576b"
             ],
             [
              0.6666666666666666,
              "#ed7953"
             ],
             [
              0.7777777777777778,
              "#fb9f3a"
             ],
             [
              0.8888888888888888,
              "#fdca26"
             ],
             [
              1,
              "#f0f921"
             ]
            ],
            "type": "contour"
           }
          ],
          "contourcarpet": [
           {
            "colorbar": {
             "outlinewidth": 0,
             "ticks": ""
            },
            "type": "contourcarpet"
           }
          ],
          "heatmap": [
           {
            "colorbar": {
             "outlinewidth": 0,
             "ticks": ""
            },
            "colorscale": [
             [
              0,
              "#0d0887"
             ],
             [
              0.1111111111111111,
              "#46039f"
             ],
             [
              0.2222222222222222,
              "#7201a8"
             ],
             [
              0.3333333333333333,
              "#9c179e"
             ],
             [
              0.4444444444444444,
              "#bd3786"
             ],
             [
              0.5555555555555556,
              "#d8576b"
             ],
             [
              0.6666666666666666,
              "#ed7953"
             ],
             [
              0.7777777777777778,
              "#fb9f3a"
             ],
             [
              0.8888888888888888,
              "#fdca26"
             ],
             [
              1,
              "#f0f921"
             ]
            ],
            "type": "heatmap"
           }
          ],
          "heatmapgl": [
           {
            "colorbar": {
             "outlinewidth": 0,
             "ticks": ""
            },
            "colorscale": [
             [
              0,
              "#0d0887"
             ],
             [
              0.1111111111111111,
              "#46039f"
             ],
             [
              0.2222222222222222,
              "#7201a8"
             ],
             [
              0.3333333333333333,
              "#9c179e"
             ],
             [
              0.4444444444444444,
              "#bd3786"
             ],
             [
              0.5555555555555556,
              "#d8576b"
             ],
             [
              0.6666666666666666,
              "#ed7953"
             ],
             [
              0.7777777777777778,
              "#fb9f3a"
             ],
             [
              0.8888888888888888,
              "#fdca26"
             ],
             [
              1,
              "#f0f921"
             ]
            ],
            "type": "heatmapgl"
           }
          ],
          "histogram": [
           {
            "marker": {
             "colorbar": {
              "outlinewidth": 0,
              "ticks": ""
             }
            },
            "type": "histogram"
           }
          ],
          "histogram2d": [
           {
            "colorbar": {
             "outlinewidth": 0,
             "ticks": ""
            },
            "colorscale": [
             [
              0,
              "#0d0887"
             ],
             [
              0.1111111111111111,
              "#46039f"
             ],
             [
              0.2222222222222222,
              "#7201a8"
             ],
             [
              0.3333333333333333,
              "#9c179e"
             ],
             [
              0.4444444444444444,
              "#bd3786"
             ],
             [
              0.5555555555555556,
              "#d8576b"
             ],
             [
              0.6666666666666666,
              "#ed7953"
             ],
             [
              0.7777777777777778,
              "#fb9f3a"
             ],
             [
              0.8888888888888888,
              "#fdca26"
             ],
             [
              1,
              "#f0f921"
             ]
            ],
            "type": "histogram2d"
           }
          ],
          "histogram2dcontour": [
           {
            "colorbar": {
             "outlinewidth": 0,
             "ticks": ""
            },
            "colorscale": [
             [
              0,
              "#0d0887"
             ],
             [
              0.1111111111111111,
              "#46039f"
             ],
             [
              0.2222222222222222,
              "#7201a8"
             ],
             [
              0.3333333333333333,
              "#9c179e"
             ],
             [
              0.4444444444444444,
              "#bd3786"
             ],
             [
              0.5555555555555556,
              "#d8576b"
             ],
             [
              0.6666666666666666,
              "#ed7953"
             ],
             [
              0.7777777777777778,
              "#fb9f3a"
             ],
             [
              0.8888888888888888,
              "#fdca26"
             ],
             [
              1,
              "#f0f921"
             ]
            ],
            "type": "histogram2dcontour"
           }
          ],
          "mesh3d": [
           {
            "colorbar": {
             "outlinewidth": 0,
             "ticks": ""
            },
            "type": "mesh3d"
           }
          ],
          "parcoords": [
           {
            "line": {
             "colorbar": {
              "outlinewidth": 0,
              "ticks": ""
             }
            },
            "type": "parcoords"
           }
          ],
          "pie": [
           {
            "automargin": true,
            "type": "pie"
           }
          ],
          "scatter": [
           {
            "marker": {
             "colorbar": {
              "outlinewidth": 0,
              "ticks": ""
             }
            },
            "type": "scatter"
           }
          ],
          "scatter3d": [
           {
            "line": {
             "colorbar": {
              "outlinewidth": 0,
              "ticks": ""
             }
            },
            "marker": {
             "colorbar": {
              "outlinewidth": 0,
              "ticks": ""
             }
            },
            "type": "scatter3d"
           }
          ],
          "scattercarpet": [
           {
            "marker": {
             "colorbar": {
              "outlinewidth": 0,
              "ticks": ""
             }
            },
            "type": "scattercarpet"
           }
          ],
          "scattergeo": [
           {
            "marker": {
             "colorbar": {
              "outlinewidth": 0,
              "ticks": ""
             }
            },
            "type": "scattergeo"
           }
          ],
          "scattergl": [
           {
            "marker": {
             "colorbar": {
              "outlinewidth": 0,
              "ticks": ""
             }
            },
            "type": "scattergl"
           }
          ],
          "scattermapbox": [
           {
            "marker": {
             "colorbar": {
              "outlinewidth": 0,
              "ticks": ""
             }
            },
            "type": "scattermapbox"
           }
          ],
          "scatterpolar": [
           {
            "marker": {
             "colorbar": {
              "outlinewidth": 0,
              "ticks": ""
             }
            },
            "type": "scatterpolar"
           }
          ],
          "scatterpolargl": [
           {
            "marker": {
             "colorbar": {
              "outlinewidth": 0,
              "ticks": ""
             }
            },
            "type": "scatterpolargl"
           }
          ],
          "scatterternary": [
           {
            "marker": {
             "colorbar": {
              "outlinewidth": 0,
              "ticks": ""
             }
            },
            "type": "scatterternary"
           }
          ],
          "surface": [
           {
            "colorbar": {
             "outlinewidth": 0,
             "ticks": ""
            },
            "colorscale": [
             [
              0,
              "#0d0887"
             ],
             [
              0.1111111111111111,
              "#46039f"
             ],
             [
              0.2222222222222222,
              "#7201a8"
             ],
             [
              0.3333333333333333,
              "#9c179e"
             ],
             [
              0.4444444444444444,
              "#bd3786"
             ],
             [
              0.5555555555555556,
              "#d8576b"
             ],
             [
              0.6666666666666666,
              "#ed7953"
             ],
             [
              0.7777777777777778,
              "#fb9f3a"
             ],
             [
              0.8888888888888888,
              "#fdca26"
             ],
             [
              1,
              "#f0f921"
             ]
            ],
            "type": "surface"
           }
          ],
          "table": [
           {
            "cells": {
             "fill": {
              "color": "#EBF0F8"
             },
             "line": {
              "color": "white"
             }
            },
            "header": {
             "fill": {
              "color": "#C8D4E3"
             },
             "line": {
              "color": "white"
             }
            },
            "type": "table"
           }
          ]
         },
         "layout": {
          "annotationdefaults": {
           "arrowcolor": "#2a3f5f",
           "arrowhead": 0,
           "arrowwidth": 1
          },
          "coloraxis": {
           "colorbar": {
            "outlinewidth": 0,
            "ticks": ""
           }
          },
          "colorscale": {
           "diverging": [
            [
             0,
             "#8e0152"
            ],
            [
             0.1,
             "#c51b7d"
            ],
            [
             0.2,
             "#de77ae"
            ],
            [
             0.3,
             "#f1b6da"
            ],
            [
             0.4,
             "#fde0ef"
            ],
            [
             0.5,
             "#f7f7f7"
            ],
            [
             0.6,
             "#e6f5d0"
            ],
            [
             0.7,
             "#b8e186"
            ],
            [
             0.8,
             "#7fbc41"
            ],
            [
             0.9,
             "#4d9221"
            ],
            [
             1,
             "#276419"
            ]
           ],
           "sequential": [
            [
             0,
             "#0d0887"
            ],
            [
             0.1111111111111111,
             "#46039f"
            ],
            [
             0.2222222222222222,
             "#7201a8"
            ],
            [
             0.3333333333333333,
             "#9c179e"
            ],
            [
             0.4444444444444444,
             "#bd3786"
            ],
            [
             0.5555555555555556,
             "#d8576b"
            ],
            [
             0.6666666666666666,
             "#ed7953"
            ],
            [
             0.7777777777777778,
             "#fb9f3a"
            ],
            [
             0.8888888888888888,
             "#fdca26"
            ],
            [
             1,
             "#f0f921"
            ]
           ],
           "sequentialminus": [
            [
             0,
             "#0d0887"
            ],
            [
             0.1111111111111111,
             "#46039f"
            ],
            [
             0.2222222222222222,
             "#7201a8"
            ],
            [
             0.3333333333333333,
             "#9c179e"
            ],
            [
             0.4444444444444444,
             "#bd3786"
            ],
            [
             0.5555555555555556,
             "#d8576b"
            ],
            [
             0.6666666666666666,
             "#ed7953"
            ],
            [
             0.7777777777777778,
             "#fb9f3a"
            ],
            [
             0.8888888888888888,
             "#fdca26"
            ],
            [
             1,
             "#f0f921"
            ]
           ]
          },
          "colorway": [
           "#636efa",
           "#EF553B",
           "#00cc96",
           "#ab63fa",
           "#FFA15A",
           "#19d3f3",
           "#FF6692",
           "#B6E880",
           "#FF97FF",
           "#FECB52"
          ],
          "font": {
           "color": "#2a3f5f"
          },
          "geo": {
           "bgcolor": "white",
           "lakecolor": "white",
           "landcolor": "#E5ECF6",
           "showlakes": true,
           "showland": true,
           "subunitcolor": "white"
          },
          "hoverlabel": {
           "align": "left"
          },
          "hovermode": "closest",
          "mapbox": {
           "style": "light"
          },
          "paper_bgcolor": "white",
          "plot_bgcolor": "#E5ECF6",
          "polar": {
           "angularaxis": {
            "gridcolor": "white",
            "linecolor": "white",
            "ticks": ""
           },
           "bgcolor": "#E5ECF6",
           "radialaxis": {
            "gridcolor": "white",
            "linecolor": "white",
            "ticks": ""
           }
          },
          "scene": {
           "xaxis": {
            "backgroundcolor": "#E5ECF6",
            "gridcolor": "white",
            "gridwidth": 2,
            "linecolor": "white",
            "showbackground": true,
            "ticks": "",
            "zerolinecolor": "white"
           },
           "yaxis": {
            "backgroundcolor": "#E5ECF6",
            "gridcolor": "white",
            "gridwidth": 2,
            "linecolor": "white",
            "showbackground": true,
            "ticks": "",
            "zerolinecolor": "white"
           },
           "zaxis": {
            "backgroundcolor": "#E5ECF6",
            "gridcolor": "white",
            "gridwidth": 2,
            "linecolor": "white",
            "showbackground": true,
            "ticks": "",
            "zerolinecolor": "white"
           }
          },
          "shapedefaults": {
           "line": {
            "color": "#2a3f5f"
           }
          },
          "ternary": {
           "aaxis": {
            "gridcolor": "white",
            "linecolor": "white",
            "ticks": ""
           },
           "baxis": {
            "gridcolor": "white",
            "linecolor": "white",
            "ticks": ""
           },
           "bgcolor": "#E5ECF6",
           "caxis": {
            "gridcolor": "white",
            "linecolor": "white",
            "ticks": ""
           }
          },
          "title": {
           "x": 0.05
          },
          "xaxis": {
           "automargin": true,
           "gridcolor": "white",
           "linecolor": "white",
           "ticks": "",
           "title": {
            "standoff": 15
           },
           "zerolinecolor": "white",
           "zerolinewidth": 2
          },
          "yaxis": {
           "automargin": true,
           "gridcolor": "white",
           "linecolor": "white",
           "ticks": "",
           "title": {
            "standoff": 15
           },
           "zerolinecolor": "white",
           "zerolinewidth": 2
          }
         }
        },
        "title": {
         "text": "Exercise"
        }
       }
      },
      "text/html": [
       "<div>\n",
       "        \n",
       "        \n",
       "            <div id=\"cc2ae401-575b-47c0-b5b5-7eac7123d469\" class=\"plotly-graph-div\" style=\"height:525px; width:100%;\"></div>\n",
       "            <script type=\"text/javascript\">\n",
       "                require([\"plotly\"], function(Plotly) {\n",
       "                    window.PLOTLYENV=window.PLOTLYENV || {};\n",
       "                    \n",
       "                if (document.getElementById(\"cc2ae401-575b-47c0-b5b5-7eac7123d469\")) {\n",
       "                    Plotly.newPlot(\n",
       "                        'cc2ae401-575b-47c0-b5b5-7eac7123d469',\n",
       "                        [{\"mode\": \"markers\", \"name\": \"markers\", \"type\": \"scatter\", \"x\": [-0.7133202363754223, -0.37762073359434206, 1.330738376091691, 0.48357913189111407, -0.047706013328838254, -1.5087318750433119, 0.20421308356165957, -0.661856789888887, 0.314416464426249, -1.267056369145865, 0.10158367805338647, 0.7082863928087865, 1.5188885442739535, -0.11777501136271606, -0.8359752606243168, 1.2165957902855393, -1.1509562775016067, 1.1423095820797915, -0.011105935043347686, 1.4547411637556233, 0.6424527052671827, -1.949187867104057, 0.3262278723197149, -0.2737697243901562, -0.8353348351583421, -1.9519953067189342, 0.16358183575981947, -0.8942974888195887, 0.3279775791245696, 0.8405226381557794, -2.000752456983949, -1.3766099048087752, 0.34704599323357516, -0.004538140336112926, 0.653106867163699, -0.28585204668950664, -0.03423701124740663, 1.1440913205064855, -1.7650242126010103, 1.753075611694397, -0.33930227671691104, -0.03141575492230064, 0.46721218163126116, 0.07080726705438095, -0.25944898640221314, 0.44425061957832795, -0.46690150076894826, 0.18614394637274193, 0.23551406711714046, -2.6771075331701604, -0.1364155651075688, -0.2149001819310638, -1.7535072408438848, 0.45231022293502304, -0.6945003694540067, -0.7100094593081131, -0.2760640839698353, 1.1079487881337584, -0.893175312660163, 0.5824824733174755, 1.0592914987714481, -1.754143052582008, 0.7455556321071979, 0.9750674545377425, 0.6925445729227262, 1.4115006043536915, -1.221184953752266, 1.008090816260854, 1.6447737598803684, 0.7853344046358515, -0.9243079823767608, 0.6552417672181934, 0.09745507738477224, -0.38285360592577466, 0.1678630773459586, 0.11729841860999674, 1.1842829166631585, -0.38244229774907146, -0.47544664368684597, -1.7065045747078962, 1.127248861034794, 1.8947293774046707, 1.3240319302401158, 0.34144237505671915, 0.2432287807104389, -0.6326092321405989, -0.7223196968503532, 2.302377911418113, 1.5364020786419337, 1.4986397383212111, -0.41095530487517506, -0.4045782558277816, -0.8713804715185873, 1.6717016020054012, -0.638784914346455, -0.5628636823386426, 1.0108079943375825, 1.6710784576484756, 0.015677586774353658, -2.208737933197752, 0.02151774348854601, -0.6316701595061707, 0.25451072452343304, 0.6241506189856214, 0.37292926828326295, 0.3780285160902898, 0.59302006247612, -1.1288249654962847, 0.7217512548593482, -0.19697289443412702, -0.19384659708547033, -0.5425083822300121, -0.1504231619923426, 0.09473326909991323, -0.41645974351678106, -0.6937212101867811, -0.487280789342567, -0.5715202805260474, 0.5465296553610901, 0.9149082050205672, 0.4174238099219028, -0.3693857022251719, -0.7103523364834029, -1.5516234973719503, 0.40987380123186756, 1.6050794137806619, -0.08550249571529728, -1.4316996382699736, 0.7113551186744498, 0.771390773528735, 0.14659683276750535, 0.2595191674680299, -0.3733446053066009, 1.9202818752687394, -0.9301468839684457, -1.2896819079139008, 1.897531567987369, -0.30505479101608934, 1.242552256728284, 1.2563696949015024, 0.4724108798700077, 1.4779842691075746, 1.5693906133546418, -0.24077506910916266, -0.7531954683848252, 1.032654573590549, 0.8438418981801805, -0.353241759988013, -0.828052899915575, 1.1949464302393151, -0.24187362239347826, -0.9818692461685858, -0.5934436572593439, 1.1323761264038186, -0.6786989544236527, 0.3211528789495921, 1.6213820233597036, 0.5241772378916629, 1.316642848989081, -1.6132765229213273, -0.06049435165885836, -0.4506416654390258, -0.8832523300296766, 0.9136148230677492, -0.33559279842917483, 0.44881866595936787, -0.8089392622430372, 1.4162483576626643, 1.843482586324618, 0.7101424349971194, 0.5959514058794794, -1.9045436878148234, -0.45635840338427297, -0.41638165236456104, 0.6020267556621802, 2.3190844470514955, -1.798900954758642, 0.32600932412062106, -1.602515524708855, 0.05504247775612269, 0.4925555794077983, -0.42294474276417426, -0.6411536634750093, 0.7826408732146317, 0.4399910329851185, -0.5626071611530831, -0.14309398532254267, -0.2756173125564038, -0.2384185316424419, -0.039132535317347034, -2.095542313667409, -0.6520793940762842, 0.7339291798824998, 1.5091963528779064, 1.4267097108548872, -0.3721942605480614, 1.6904252389528394, 0.7112238228695416, -0.7196612550205543, 2.0736997998999906, -0.298337039650888, 0.4897588176254028, 0.04931395536053952, -0.9216912578832823, -0.10701622438306063, 0.7328871555449794, -1.601489922975722, 1.587820986876367, 1.666947618774518, 1.5655272295831535, 0.4542317369142831, -0.19502143763609703, -0.8715277488883122, -1.1044126391375784, -0.6708654063646552, 1.385893406964898, -0.5936982188726885, 0.22287226314891975, 0.5101231020202813, 0.9098908248036542, -1.4572719374653635, 1.4832254760993455, 0.5709470570023399, -0.6144711655710223, 0.6336600231240092, 0.12142793707614051, 1.1993339854281364, 1.3304862824852643, -0.3027691260867966, -0.12819771613653433, 0.04368282952498349, -0.2633765820841339, 0.11417232883108323, 0.3724593458724246, 1.2038614846196674, 0.11810446604516969, 0.14351305821028945, 0.13177915570191728, 0.22326707250991323, 1.2512861467013983, -0.36616454440316343, -0.27413723737154866, 0.9818059778967266, -0.5680825087008279, 1.1039276753024796, 0.626814611526168, -0.32969411710242663, -1.0664011016209327, -0.36116052329951226, 0.11657639606058173, -0.6637452986916785, 0.5032040071936063, -0.8640081398395121, -0.003390372142780433, -0.21153187671317453, -0.13536639755432794, -2.078306778214088, -0.4822135194545086, 1.881187947308164, -0.5022343795396792, -1.434286245506775, -1.2296639953651083, -0.9118433281785283, -0.7536172017343837, -2.1113659953099235, -1.0806205090109895, -0.5004457617605503, -1.5805015344635471, 2.2936295519104823, 0.20240583974115675, -1.07534815952142, -1.8492905323688031, -1.0456545693493307, -0.4072402332472626, -0.3019220648393064, -0.35135932559692257, -0.3288324374707206, 0.92672934330737, -0.824549665092616, 0.05879144017691339, 0.33418717878394727, -0.2115204720044299, 1.1219881770241875, 0.7680647808472634, -0.6588818606933847, 0.18937466551158366, -1.5351426443546732, 0.4775587809255816, 0.5623731676842673, -1.8191719587318298, -0.5240337467805954, -0.6631717094110016, 0.856402904776776, 1.3776839946440202, -0.964758308310612, -0.32745750326582707, 0.18291155029580256, 0.7478832799877946, -1.2519701996840014, 0.43338675169218654, 0.6622965324125217, -0.035636676962986044, 1.0027456277042248, 0.757785160882042, 0.3625829233798706, 0.25347304712714, -0.47150101993479304, -1.6983323330128708, -0.26236102642091613, 0.9378818276951307, -0.7785764362510283, -1.0218639633460793, 1.8958442990291162, -1.1161752371444962, 0.46633039376042223, -0.5849454349756087, 0.7120784074103318, -1.573997030859225, -0.4772738231582241, 0.8391750202075124, 0.6464233703650278, 0.4847399282565123, -0.4584084403270483, -0.6439885989511995, 0.6329325619884368, -0.13481765199698503, 0.5303709157550753, 1.216915530481463, 1.1755306530847907, 1.9570611605088475, -0.8664870789486276, -0.46659778019223364, 1.8138754017447494, 0.3894224906319479, -1.356228859062624, -0.5770853095450901, 0.561095787032196, -0.562214405385332, -0.9771679482016433, -1.5573939816739868, 0.4656079042561888, 0.04784741386352193, -0.735700102872564, -0.45214101802103396, -0.5651691077901612, 0.4958644827178499, 1.527741634474065, -0.13478870615582172, 1.691379031848499, -0.8954276471529878, 0.5597618835820178, 0.9177175824708317, 0.5380992359007077, -0.5420993066447787, -0.4474865709992327, 0.27082416143388377, 0.562532267590954, 0.09022721734485913, -0.7559935930065412, 1.107331672798382, 0.9348862714725729, 1.5666140698242397, 1.2084328072200665, 1.5721159495574708, 1.6470283442768994, 0.2890759943837696, 0.08994548648836735, -1.445768075069576, -0.629939827657865, -0.6321188059639892, -1.3011520511166434, -0.6364356784231241, 1.1083625445228296, -0.16625587459003358, -0.053671811706659064, 0.03336354806173399, -1.47756183775618, -0.5941016877853883, -0.08163626894163509, -1.5348841006320475, 0.39384191509878, -0.6484936508202284, -1.7588540582732897, -0.12659448036422247, -0.23231282594832794, 1.3070740463988437, 1.6748812366869517, -0.5512267915299404, 1.0144592292944599, 0.33706019174949203, 0.013596621867890091, 1.0334556005558029, 0.8388308435143059, 0.10261646179025963, -1.9609505131157774, -0.06267744893524282, 0.689170896217355, -0.5007583255487692, -0.8419313553506664, 0.3751566999418814, -0.7792159903337168, -0.29364027815721017, -0.3816329961344956, -0.2585300707198807, -0.24714550609295122, -0.9646845787651919, -1.27927962485906, -0.8404239374463741, 1.1336722745097167, 0.41081805991432874, -0.1930039787693877, -0.4559630201263412, -0.5852479347538653, -1.8860604667374168, -1.0163393301429715, -0.2659634322754032, 0.6633785204712543, -0.4382639157360795, -0.6469297803280623, -1.1854445844594557, -0.05217781348729047, 0.5820544850110527, -0.9761286549539033, -0.1485255550730899, 0.0812178592787294, 0.8626849939739023, -0.5820120534575913, -0.9404129125840908, 1.440517987898207, -0.9525353079780201, 0.30400487490473616, 1.324317011380694, 0.2957054391208649, 0.7774490907600008, 0.12931863811592706, -0.39142402335127086, -0.36239143683928043, -0.8801948708769476, -0.05716836795009424, 0.012710590747223449, 0.0929898972326358, 0.48569107020488095, 1.3481930997893532, 0.493191388049377, -0.5055489545527079, 0.5018996750196962, -0.14173169724264353, 0.6036950995818787, -0.31003419984317515, -0.15796671823033662, -0.8695339383307731, 0.5909155508451571, -0.9207595454961487, 1.714377671397451, -1.588147500536601, 0.5224493172232965, 1.2512896569792118, -0.23933824938879783, 0.8395933739926614, -0.5172502098861849, -0.27920355980062733, 1.7146299260527245, -0.1956575959024906, -1.5924750215522472, 0.045692997481100235, -1.0255813295780136, 0.10067753539114208, -1.0297362857349368, 0.05654146054617331, -2.052569154055173, 0.0006218253086768192, -0.8171270191169868, 0.17373388174081625, 0.18652934991922662, -0.49996248254008335, 1.660186136524236, -1.4715871004653596, -0.5515159203575147, -0.5092896965041958, -1.632437374949951, 1.6630139117427005, -0.8810020052728404, -0.5925218350678264, 0.1171568556787256, -0.8558389380747006, 1.5652078778967367, 0.4144228157060303, -0.38688195280094473, 0.3491404897042228, -2.9176566034793536, -0.25474695370760586, 1.217970549082048, 0.2506655767446504, 2.784234115797812, -0.6740119900288991, 1.741147561330467, -0.2713148501326508, -0.7935181779811777, -1.3895401250832355, 0.508346637546104, -0.41586888493507357, 0.929974551022221, 0.23054066545683424, -0.25272760548062334, -0.06027197668066208, -1.6355303410264685, 0.35763632917514526, 1.8356674796433623, 0.8717275406957541, 0.35700749225372586, 0.31333961279492595, 1.4685598705059897, 0.11923017741537757, -0.7563922100272974, 1.0900498620836663, 0.027086057010473882, 0.8804235890328329, 1.5118017862702386, -1.2657669259839865, -1.4851578954849058, 0.8382382523692904, -0.9628904433059975, -1.2421725840009434, 0.07772201318588676, -1.2189748115300278, 0.9693077968631656, 0.7933905534875464, 1.0381238881547283, -0.2370158885606222, -0.7549870873415909, -1.1514953412468603, 0.21950361883396033, 0.5204397562768309, -0.3171827083802929, -0.5869856317993389, -0.01640431780535551, -0.35935793200434163, -0.19387535849285012, 0.9521009521520967, 0.24226770984608842, 2.067814720249727, -0.25415789353728124, 1.9515101605505443, 2.231170848981005, 1.1630280790546519, 1.0370813908450298, 1.1477951847597678, 0.7511987028037671, -1.734480671055193, 0.4065503435663474, -0.38013991048114537, 0.6709495496310164, 1.1281340755289613, 1.4088962343343818, -0.8368054474731964, 0.8565592704377463, -1.7059699967400033, 1.324473043457475, 1.153427882200198, -0.940923356150726, -0.0545555130595833, 0.439912759890548, 0.7977100488670679, -0.7765588034601295, -0.5624313939848383, -1.1421423847689742, 0.3949341450336091, 0.22963039759431608, -0.1530645599605647, 0.7781240484518546, -0.36669939158682857, 1.815858732756309, 0.4288094222556292, 0.029845346300677006, 2.513169819110409, 0.28506967711536296, -0.8830223111298182, 0.5755800986808622, 0.6371934357713138, -0.6263496908699434, 0.590615900083026, 1.1386357056463263, 0.9759229039413638, -2.2602323755360323, 0.9687293314048593, 0.8721944035325001, 1.0643395873958135, 0.7383013047135017, 0.45200432098400306, 1.08310600056989, 2.1308670430901655, -0.9759196117413328, -1.0174290294648043, -0.7186068372548227, 0.7125871910284707, -0.6335415876474723, -0.4185534045688989, 1.879500291517226, 0.6595642532896256, -0.0615339309886784, -0.3673989676701554, 1.0923681594235752, 0.9631942133756266, 0.11231708808722683, 0.44964136554126694, 0.12780748658321028, 1.9006101638360366, 1.0085253108073522, 0.6543976554553285, -1.559717895130265, -0.06124349598486321, -0.9559249774118111, -0.8142618745535797, -0.3387351044568538, 2.1839413661724048, -0.7325702074654761, 0.01591949026702194, -0.11792144443736927, -0.17178788164086728, 0.5083335473459359, -0.021742997022141913, -0.5854785769827522, 0.8444194673535401, -0.9843715941248825, -0.6499981077776859, 0.9983141237170837, 0.725160806471521, 2.119799618917384, -1.084998716543706, -0.31110536145091533, -0.9174281317432463, 1.3902327557631426, 1.090754400304725, 0.6423049697272362, -0.8698597210927386, -0.17769721012947778, -1.0161678649704071, 0.10646477203610517, -0.46771663950282477, 0.7054356735810291, -1.0498405353368585, 0.7372582999169018, 0.10109466953963263, 0.6830480455737641, 0.3499015907602079, 0.32881063869023935, -1.7390180352159674, 0.15205446286604005, -1.9856621556179057, 0.06069276469158735, 0.555643817540143, -0.8250362809203297, 0.18450459145732417, -0.19686006360672037, 0.043830477369468684, -0.2749644661140655, 0.2381382888014774, 0.1719726761718952, -0.07891524820563219, 0.11819598773638924, -0.3370089479690899, -1.2324496088098125, 1.5303505880992005, -0.5541555165506312, -0.5251273961517327, -0.0026382226572497984, 0.4698017306376381, -1.5063923592744792, -0.46725050497895226, 0.24215373074434615, 0.761201725468951, -0.5079401578291458, -1.270553315871626, -2.6726275212011443, 0.8216757306935776, 0.983296808625209, 0.3580427933589824, -1.7588372841705753, 1.6839626157232415, -0.23387157173008524, 0.6682127454844574, -1.4795380735092, -0.5834995260966616, -1.1476276929808427, 0.1824058377069506, -0.7935056333904017, 0.22606953118818549, 1.014458334693106, 0.054327462864010016, -0.7354481296587654, 0.8797950687950706, -0.29892215279917195, -2.6306950257455917, 0.6215524863829137, -0.731646891555903, -0.1300484751993322, -0.7365143485229906, 0.5433380808479243, 0.9148306778409329, 0.2805504761494498, -1.72934200723968, 0.024100565705833, 1.330754136406109, -1.2206518213474968, 3.3482960570938083, -0.6167867054915256, 0.3964182756194674, -0.6484088808251349, -1.229841656063787, 0.7716984608090581, -0.6875506548838191, -0.11023969960870567, -0.7334936772421475, -0.4419454466885646, -0.6956790572819255, 0.3301605594443028, 0.9001969163693379, 3.11711645863719, -0.13897644293240405, -0.4169802546902932, -1.0087212358233446, -0.19709419341135587, 0.19575422936828057, -1.4388473331907503, 1.6721199738336485, -1.5557355921622398, -0.8214675904480723, 0.2590999652585066, 0.40921263108442946, -1.0892065670560036, 0.6552430717805844, -0.18233386851658245, -1.2950634674873038, 0.14058472051286142, -1.6914547335715233, -1.2982800483767796, 1.7939620891037227, -0.08529868037803652, -0.66432672546645, -0.14129271639250007, 0.7590870833682385, 0.017578868469691363, -1.1270373422123188, -0.292562522180544, 1.0140900680035267, 1.809997718420234, 0.6151274578093029, 1.2071484384430677, -0.2599588311602942, 0.9558025205363834, -0.745374572361013, -0.5238575053837822, 2.324957971791056, -1.186567472478049, 1.94496946168336, -0.8071492584355764, 0.10018560185163296, 1.856000615306661, 1.1102090546532843, -1.16451516128457, -2.8109170506757377, 0.45173604916919263, -0.5585212876081863, 0.3497652889044149, -0.4015324379729114, -0.21586010594445346, 0.9885196634224662, -1.3662032456671103, 1.0244780087126286, 0.8616064694634497, 0.41376043276267677, 0.8177372074108387, 0.6675937884350418, 0.0863880768695965, -0.24634663780746796, -0.5798350694856895, 0.21166288619214174, 0.6760786160215556, -0.8238463024386432, -0.56951992060316, 0.3067848023722806, -0.545834749862905, -0.833059658787789, 1.5924134066448885, -0.28613928297911634, -1.0323202078390163, -0.2913802365952767, -1.8419701171621663, -2.3919352185286047, -0.6224619383035573, -1.7689776651348825, -2.264377177559763, -1.0599329091787206, -0.08911065595467638, 0.9722084136501229, -0.7654088449626556, -0.41091047956402754, 1.387328512150462, 0.3393455226675933, 0.18972742640955054, 1.9791046490331123, 0.05866356606250003, 1.2560346111706668, -0.25864069574823406, 0.013795339125411152, 1.359718376805132, 0.09117615907629556, 0.4402061819671902, 0.2393635994408437, -0.548787338765901, 0.6264697272667267, 0.43686032709779904, -0.05322654692777305, -0.01784904151450883, -0.46537141374912844, -0.12311421612019609, -0.22210015541532946, -1.2809653985355764, 0.7823628060624822, 0.8042254016427746, -1.6220538933592255, -0.6793173008181322, 0.6171067538588999, -0.10794944249965302, 1.334262690375974, 0.8145263587529321, -0.2918508125660611, -1.9841997815370644, 1.154064971554459, 0.593589092491816, 0.6566010794724249, 0.908787077335337, 0.5683798490031472, -1.54155736793304, -0.034313258043601774, -0.11653650086422664, 0.4628298789120291, 0.2917982602184129, -0.5564215691802672, -0.1681857042229236, -0.06572629991021621, -0.6136098761735209, -0.1985748010170721, 0.8859024711738823, -0.7679338805552754, -0.5527254700774165, -1.0397915363577497, 0.6007335775104392, 0.5810135324319714, -0.08927364239992903, -0.06707727560771184, -1.3037311694441633, 0.40603670819666055, -0.7351896004319883, 0.43909366653959736, -0.9565916687669463, 2.52931224580047, 1.5185624821971375, -0.29539951826917393, 1.4139168780799074, 1.087818608022342, 1.0869496558207261, -1.084018357700131, -1.7854392225086322, 1.1913964576674347, 0.7380999623119692, -0.7884427330594019, 1.9136809399659582, -0.16369496375796172, -1.576123329465956, 0.037633392184762464, 0.7290176043533616, 0.7274640802278607, -1.625263445939557, -0.29550579768971424, 0.5670125567778083, -1.020320236997533, 0.0030799856413329446, -1.7951179874155252, 1.6382521274127095, -0.5880683021779355, 0.8063784714760406, -0.47447773094246354, 1.7928203738265978, 0.33936332212010295, -1.7308024339211783, 0.1270424710490595, -0.41609655466283973, 0.2342035406891911, 0.18683960085682433, -0.5134090902676377, 1.166723562919743, 1.2705860371600204, 1.7431402117035153, 0.87717485636793, -1.1457609961130262, 2.0924599684166383, 0.6360460265635163, -0.3064675911896466, 1.8373529337614516, -1.6216784748580004, 0.5959249459173043, 1.8379531183681135, -0.7892408030814357, -1.0135625535913537, 0.4375781043561656, 0.09417879662960128, 2.307343631375626, -0.5380394322050901, -0.5322253966020061, -0.29965320230770326, 0.5917267697599136, -0.6010022980909147, 0.9918408974494082, -0.16891280604186898, 0.7365731574987407, 0.6293554494928632, 1.605080629842701, 0.6132456091966755, 0.0021835462574010846, 2.542222000099865, 0.16279808627113615, -2.3784014252479606, 0.2556304468878602, 0.7713732185013571, 0.34596265563888695, -0.904442412450571, -0.11671180982878217, 0.20732727814939705, -0.4382139402149119, 0.5767765953273146, -0.4562808484908044, 2.8288149585115376, 0.7801720638347307, 0.14251001228458535, 2.1579902670775133, -0.6464968000069734, -0.8735643880527383, -0.3607585379023479, -0.22023351099006627, 0.0027882514611912053, 1.6779964469126478, -0.30499353853909617, -0.2872924267727271, 0.1053113705084682, 0.039331492477122414, -0.44868532028358404, -0.29380014128013027, -0.7029650022294931, 1.8050300193303221, -0.09271960829954291, -0.8286307966727315, 0.9576063384676763, 1.09080174266617, -2.46833258810426, 0.21461972339406932, -1.039954583076396, -0.23817452812250584, -1.192915330687067, 0.5561807598100097, -2.0234033098627777, -0.14491809561278748, -0.15499462892091226, 1.312823656571076, -0.37227158715437214, -0.1453660589050448, 0.007261841623434728, 0.31529518543885876, -0.7006538923848215, -0.9590492082251046, 0.7920406126009544, 0.3041017376618744, -0.5537581112505943, 1.7509828680809598, 1.318133538400152, 1.336267713607918, -0.00897786426250788, 1.5663432804563755, 1.359405247068598, 1.286364447485208, -2.5206031421836324, -0.7300923639263848, 1.5763889600058423, 0.25087723869348044, -1.4294196316253232, 0.749336491896212, 1.8326745914164202, -0.9141217687741323, 1.0296841990142196, -0.2234346566960602, 0.6670825385792165, 1.2243043414596348, -0.8462862498897957, -0.412491574707475, -0.5923620147998769, -0.6518508169387804, -0.6298412494202681, -0.2336207763215044, -0.29822163157972836, 0.9876175354990498], \"y\": [-0.7266540438285067, -1.724865593824065, 1.612736425177434, -2.7956336722795125, -0.21919698343920463, 1.819631818673343, 0.6054410357760698, 0.5816319669900318, 0.1505169841693039, -0.9868971432440506, 0.7841459792160907, -0.1374880956422927, 1.3906063106035857, 1.9005728408325668, 1.1953954412826056, 0.17848880240836382, 2.0968162314041683, -0.4295921121509641, -0.5507997172484884, -1.350278315552237, 0.6815541540349795, -0.5946904562082038, 0.6380205654091216, -0.15549094460903054, 0.7224025359660586, 1.4604296216537556, -0.9419654942024425, -1.5215144064235666, 0.5610852720110834, 1.146891417497774, 0.3649100251200145, 1.4407325124657142, 0.32444819351277987, 0.46037631416048885, -1.9938236909041385, 1.3691964677374937, 1.4213939304582466, -1.7575946081637703, 0.06914326206915442, 0.15788037183168283, -0.9318393779843919, -0.6706498481715346, 1.1934548449612281, -1.2383541842905734, 0.6065976522857689, 0.7274515341943469, -0.9935161631761968, 0.8366521807599008, 0.23595356720924596, 0.47608815898775114, 0.2704468907390887, -0.3694217769040253, 1.1848536533848941, 1.4884510643472826, -0.541391269618756, -0.8735252696151222, 1.7349840813105923, 0.8936234818862542, -0.9548756814804418, 0.26098819572033694, -0.8568955907777579, 0.13798515096931221, -1.9589870730076528, -0.3317829294338891, 0.4824001784232258, 0.09605192114630991, -0.4890751016457784, 0.2946395654545407, 0.38975752343166353, -0.9555405045758791, -1.1378680107651122, -0.3519883155468047, 0.3871932652482864, -1.9132615109748068, 0.6920716679505561, -1.5982809066904358, 0.42131136043207457, 1.630172803827427, 0.6847279330071344, -1.524921485154599, 1.6085210121078317, 0.49423734144250026, -0.7342540400778343, -1.3079992891692873, 0.047250695453492586, -0.2601406392837887, 0.680869546359744, -0.1486325053234733, -0.9347317526072765, -0.34014831261036665, -0.408822712638218, 0.09811370902266839, -1.010732596608627, 1.3477335631478895, -0.01907577007143081, 0.19828233956383465, 0.678043368182504, 0.7288786412779874, -1.9572954383448853, -0.8893140362424132, 1.3314803599821405, 0.14776619662795387, 0.48265335463019665, -0.5502507345087724, 0.45328520691558943, 0.8686206717451289, -1.2180983113191213, 1.073109137777803, -1.1294578110596512, 2.553982072420683, -0.043001450690697086, -0.08421838284794826, 0.39910298648934756, -0.8053715770654281, -0.9061732058106365, -0.018819192778985645, -0.4865907309478722, 1.4332033329402725, -0.5320666811935443, -1.3971907558418653, 0.7036055509915246, 0.6701814760846411, -0.326924399113645, -2.694265461143128, -2.2720582298102587, 1.4323690041106496, 1.1131928828724154, 1.1554758521126525, 0.12860876278677486, -0.6335258331836682, 1.5058281457738878, -0.1508559976715125, -1.2552925758351838, 0.695808306225457, -0.5012588156081323, -0.7653471581735809, 0.5109680687133206, -0.5214350098727757, -0.5244007008390758, -0.7612271587409376, 0.24177214743465336, -0.9500024997006509, 0.7463186657438104, 0.38559660593893197, 0.9651281789729677, 0.5224515440024221, 0.5356103599511399, 1.5186961127495335, -0.57977808467568, -0.42173340589055824, -0.8567821005174455, 1.7839285442402026, 0.8546497263191994, -2.1826813713546085, 1.318703771503377, -1.3331029589282828, 1.80195304132317, 0.7634220332179316, -1.3721462586965294, -0.40009960162227337, 0.5817160404375692, 0.6448341078219096, -1.594495633768738, -1.0312195524245213, -1.0101204376166761, -2.0553714608989258, 0.6775732582710237, 0.5941155245927605, -2.2059288038897296, 2.21498909469429, 0.5394256160866101, -0.5875693000183764, 1.3965780370780918, 0.4197016911537326, 0.4748235208492982, -0.43670707949536697, -0.057546784628368056, -1.73274156023555, 0.30279660977048106, -0.2610714126378433, 0.3988947889657538, 1.7150451678495342, 1.0154109965664704, -1.0001964487368604, -0.7250231094338531, 0.0787304852530911, 0.31600941636957536, -0.3738182557696291, -0.04166063545629305, -0.2426487964306245, 0.8076781538907427, -1.3649799084187229, -0.6259526959109143, 0.6268961739666205, 0.6903484079532954, 2.3526634980235213, -0.18598210552749472, -1.3389854138571058, 1.2637198077516423, 0.09425494437616576, 0.5301609420205214, -0.2091954686770957, -0.2295177412390719, 0.6150228846773428, 0.3226349215616127, -0.5743359663408857, 0.33792216352471294, 0.8943254481565699, 0.5347829521845655, -1.431275529939937, -1.1828863182414793, -0.5852741490138775, 1.1954985598864065, -0.0847265963633044, 1.6445965059629304, -0.3926069892027932, -0.46426570314793825, 0.2185972214599907, -1.0233326206607474, 0.0297468381220168, 0.2485741338491897, 0.2590456766895022, -0.6183412480640211, -0.47765917265596597, -1.9992946951098916, -1.3924060222371277, 0.9481669051801086, -1.5734437779900479, 0.09331930552062427, -1.2929283174511186, 1.0215885191770342, -0.4563761771583946, -0.02780710641435282, 0.6274255040468389, -0.7176362259644492, 1.448900024900756, -0.24416002734949732, -0.3036244560523085, 1.8907271106141934, -1.3490878848251635, 0.1621006213333814, 0.732806720563023, 1.4355879171300667, 1.1660404140661873, -1.455973709123388, -0.38627004040279844, -0.3469680294127794, 0.7743696041599836, -1.867267347669244, 0.37751725976182066, 1.5454108302663125, 0.22125703578442388, -0.7160191905311172, -1.5912325934275344, 0.5029703258960246, -0.7793724432239162, 0.30470397797123655, 1.2174587797496241, 1.6826209211909513, -0.05582628908685944, 0.09291818089708223, 0.5542571955468855, -1.1667486184074944, -0.12440847912087549, -0.8636397794982614, 1.2858498926259574, 0.5563719926415971, 0.13520041117418372, 0.1342845730793461, -0.59914864711908, 1.0714086138994008, -1.7765377377086795, -0.0801454677482025, 0.20925644058379342, 1.192952330246634, 0.9122128344052917, 1.059260418794779, -1.0892372816282838, -0.00660977122710534, 1.2236834625442659, -0.8521658081685274, 0.3579589041580482, -0.44058676504950656, 0.8316923947121164, -1.9396928258705763, 0.7671526164718331, 0.16845154456865316, -0.19710649658744947, 0.702923439952051, 1.4564767700506491, -0.6380210503953262, -0.12375076947532161, -2.0585203580035634, 0.25916296111685855, 0.23952282547267506, 0.18147757919343388, 1.0864193842000782, -1.760748846412406, 1.20840713486501, 0.8655187075861834, 0.05513871736609701, 0.855940025858922, 0.15983562071833785, -1.659498707506777, -1.7461888519982076, 1.2352167589899927, -1.1677433866204536, -0.797863479267529, 0.2774121373492744, 0.7706652713720831, -0.9655159280264904, 1.484567530852582, -0.510883846900408, 0.0889595362306647, -1.7378698870428098, -0.7130529668666341, -1.5030151820895055, 0.047381612539042384, 0.5472350901338684, -0.6127642068942468, 0.10183341085279185, 0.8240609114111425, -0.037712792512314186, 0.7550051521148076, -0.4152693400848592, -0.6349019877452947, -0.07695309606324463, 1.2746838928915614, -0.44022442931169503, 0.9526730350050341, 0.9148956493873615, -0.6677348419992619, -0.6770546942438033, -1.5840949186326763, -1.003513682419676, -0.06387286559183321, -0.7364336397851351, -0.5777691469764227, 1.9710360908433606, 0.6768269886201325, 0.18775526866364686, -2.1969220705166803, 1.6383889603046256, 1.272786796841957, 2.1437177059560586, 0.7281081899681271, -0.33286486564612855, -1.002769499441025, -1.099124715022183, -1.4475793862449369, -0.9010503716446991, -0.6658536792038658, 1.3592715072097488, -0.5456620982359648, -1.2482349350055304, 0.3696323276783522, 0.544406619396399, -0.3912149493895812, 0.9986907598203411, 1.9694520214408038, 0.6726538479997826, -0.3485026401992097, -0.9674883675539442, -0.07305967489003776, -0.45764970478566996, -0.9321115390133269, 1.969590868395203, -2.414897417726043, 0.6280853251240146, -0.22663082557855016, 0.16767792321941563, -1.2579853683347653, -1.4695010414898149, 0.4527900689589747, 1.1180646461138215, -2.139177686765028, -1.0548849901090904, -0.28023523796989236, -0.4494514294196575, -2.5311858505217897, -0.14346735231244756, -0.5923194734104705, -1.9735792450691074, -0.6025666294873485, 1.6589384567608416, 0.06162419410690804, 0.43417152100550116, 0.244637325964827, 0.07707740517041278, 0.8321328244208842, -1.5119380600327437, -2.4448768618700907, -0.884110702364311, 1.3679037441766044, 0.12468162567893365, 0.770757380543802, -0.03484610078909155, 1.1927728009273186, 0.007739514066867314, -0.026545534337791703, 2.713620105117277, -2.2337644491334694, -0.018562830601896046, -0.9959321536709531, -1.1489828916368792, -0.14170826754117097, -2.0728168156683755, 1.2275688217119471, 1.6393264197013548, 0.4080042203603121, 0.08255763474198358, 0.8903585654022096, 0.4523079575929993, 1.0416127012656478, 1.5176510628311974, 1.315248647784247, 0.7829586035947582, 2.227028480503362, 0.89030327470057, 1.166662571199024, -1.9556031424229947, 2.2488301383105394, -0.6159687836951144, 1.0209715439005385, 2.0685699616597755, 2.794581119927553, -0.12725508087949622, -0.08538110928938812, 0.8829911165040651, 0.2898087070889804, 0.11708510589833421, 1.5251476729424633, 0.05390759989262505, -0.1502874377030311, -0.22951773815960994, -0.5581767718184512, 1.154360110992071, -0.5986038158211708, -0.23033725563918325, -0.44666402705729863, -0.5504671829955089, 0.738513824601398, 0.8788643387003772, -0.11512390344506035, 0.4202011481383491, -0.016454579918944806, 1.1189974021675424, -0.1564888661360205, 1.233077236981586, -2.29361185378137, -0.5551304287819595, 0.9041334778466129, -2.1828530320672117, 0.2339670979636003, -0.9086773735974178, -1.4165407943978585, 1.045509365337473, -0.09184621779790969, 1.4776121541191132, 1.4634397963006682, -1.3269954854257973, -1.4888305410010325, -0.613064410573803, 0.909580014375141, 1.457380253747798, 0.830612029939963, 1.4714188273208066, -0.31006482182149836, -1.1240021452423794, -0.19327507538681962, -0.36533017135095136, -1.3921757057841244, -0.5932843420435886, -0.7620079260095237, -0.8143640092290869, -0.48643081452885983, -0.23722055541061166, -1.0775948084762057, -1.3674160172974983, -0.8349656201769236, -0.1698910282021768, -0.5654424290258634, 1.0519862656871461, 2.300491460869172, -1.331827532911363, 0.43173717542591994, -0.8238074421101926, -0.08853779603799511, 1.036307938769363, -2.2918135457130027, -0.8586822666209003, 0.46006515442121154, -0.9351767444065578, 0.12868571883369453, -0.8750211539516629, 0.19068724672576368, 0.8162378801727442, -1.0991031241806497, -0.0718055871371235, -0.2964850680531412, -1.173653732156397, -0.11081996095328764, 0.37762151119647297, 0.9637844651417912, 0.44683369381495, -0.17078167611636896, 0.1838134660607474, -0.6060489934924801, 1.7564520608898255, 0.5510659121922521, 2.3736116394035465, -0.55213724980513, 0.8970966724395752, -1.156877691391955, 0.17652954305677468, 2.9735669916706406, 0.7981852896033147, -0.47392772679976364, 0.6796250148149988, -0.16029668726683052, -1.0072308107230286, 1.10509183372425, 0.1779825221881255, 0.34471134102920636, -0.617010300304429, 0.5208547497664944, 0.022860410863070453, -0.542019312335347, -1.1519728420249606, -1.8254571819483572, 1.1932792564115668, -0.6636060837884322, -1.7289886675978479, -0.31948319856974716, 1.049117317184232, -0.44777096038887154, -0.049531442955059894, -1.5569815585898108, -0.2490992493052051, -0.37496252404337443, -0.9474318555513697, -1.2282819823581805, -1.2351994860051014, -0.0694669574424272, 0.7895145285098731, -0.5196337822165168, 0.292874717793732, -0.332054242236978, -0.2959869266672183, -1.2007851522323805, -0.7305542415856415, -0.8750890144041997, 0.2660142807890351, -0.25599853140460355, 1.7681569612821613, 1.3484820257653765, 0.6799342776496451, -1.091139570731825, -0.8912975770805361, 1.2179395453170798, -1.6586129662932367, 0.6805307145898803, 0.31558478629896236, -0.06358241906532422, -0.2818808770033032, -0.5553775945722057, -1.3743598415201936, 0.4952501121957825, 0.09522467238251565, -2.966207186700128, -0.4864839609487837, 1.2960496069313907, 1.0464936297431942, -0.11055530088066352, 0.6376687699805826, 0.7199617808073159, -0.7774702030950009, -0.2734180942703385, 0.41932036156418917, 0.553635456037207, 0.05129951228597931, 0.5754182264427071, 1.2690472664611074, 0.7422111897880849, -1.1908557565904947, 1.4745936659631151, -0.7789136477971331, -0.06561574464810704, -0.24997831851626845, -0.21378442994573668, -0.7079635068642312, -0.0997260678039151, -1.8262634903523811, -1.2574444844187214, -0.7554165795657201, 0.8380586704672988, 0.21993422457089715, 0.014760703018222921, 1.5140770914651929, 0.6306222488168705, -0.39226552176335167, 0.5318402624937353, -1.3589725587150328, 1.065220932074643, -0.3865224238966595, 0.6524795841403925, 0.2571254403606831, 0.8332575712106596, 1.3092762705007182, 0.25990212660733714, 2.80929275065669, 0.21287154324801366, 0.13313602226552423, 0.9098197436793645, -1.524045518982891, -1.635464349640843, -0.24452671533536322, -1.072689499356599, 0.7091460361367018, 0.9939634827568068, -0.6084946978561417, 1.0567840879883728, -0.36166617595063383, -1.4621500631558204, -0.8185345582327922, -1.2360514786351269, -0.9799161122681728, 0.3600286011476089, -1.484355200440858, 1.2161777137562415, 1.094374282556678, -0.35486544809592463, 0.49969280533438937, 0.9682116464898387, -0.06955615899221688, 0.041865001322231706, -0.3366698764071875, 1.3986912544539878, -0.04911880518242185, -2.069641546794633, -0.6427306867853282, -1.5303341734182847, -1.9521728341199827, -1.0598688710011035, 0.7678700691392452, 0.6161990802831002, 1.4018286980785601, 0.37644680919377627, 0.6437278859811686, 0.4529605794885544, -0.4434202131975711, 1.157701618232006, -0.12430097191807317, -0.2150162448640844, 0.05051188285748446, 1.5990323811932814, -0.5890010007381783, 0.5341961241329535, 0.16839151106245567, 0.13308388484224565, -0.49740198741171004, 0.09920236198273855, 0.6080928208006235, 0.5442718145870145, -0.3431709479757462, -0.5245104299346666, -0.5468774268706657, 0.6535258193209978, -0.7137638610330788, 0.35945504065468414, 0.1628157457448529, -0.902672248232184, -0.7234782810415664, -1.2852308602537883, -0.2795016933180176, -0.9511610812574535, 0.3285831562196539, 0.8153106663389535, -0.39111612861387196, -0.24967205458470063, 0.5372777574206764, -0.8178821617263154, 0.2998920010129967, 1.8092761623104219, -1.3043231722316775, 0.4885275327200282, -1.5065792640655644, 0.11121000195291517, 1.1233139744400733, -0.5161174535964658, 0.026719386686710495, -0.08364729653370598, -0.8458360113091021, -1.312602185768503, -2.1140070949796765, -0.06328179335196306, 1.037406673293942, 1.1562242690967501, -0.32477591671932965, -0.13421289438160985, -0.9265940786835104, 1.3442154790935197, -0.955844232428236, 0.06430971214304565, -1.0846724122325875, -0.9717282100332032, 1.0025510448623265, 0.8143468692497622, 1.8743736666492965, 0.799699896024134, -0.6986065674277213, -1.0743682029266584, -0.6212008790931127, 0.28550428090256064, -0.8819361168218115, 0.9864919927340663, -0.08178618628065705, 0.40950979629144163, 1.1651621085533943, 1.652483839598522, 0.7765926951811883, -0.4057501274484432, -0.26502887827705895, 0.1276234713183617, -1.8009227030324966, 0.16300662936865465, 0.12232259911386253, -1.6468836195224734, 0.11813692085116718, -0.6334425806186132, 0.9031534932386679, 0.14552319407779374, 2.0778144373948515, 1.3787142330746789, 0.1410848816844973, -1.3781012686363174, -0.6664798214702584, 0.3848283988033949, -0.4072631392635304, -0.661607504893543, -1.113114449745973, 1.2769056559926433, 1.0414513399886716, -0.0974106082443599, -0.4383638179856363, 0.8094791283627216, 0.44222030810703455, -0.47770986700520174, 2.0170785048871966, 1.0722183738330489, -0.5831746921670584, 0.041336221648703646, 0.07697332171825699, 2.186705846709411, 0.6456419497398416, -2.281960681671927, -1.106054086491998, 0.4268079125418884, -1.0392568258643469, -0.35732779472650733, 0.2855244319692989, -1.2979311654515027, -0.4901118081630212, 0.47900798196846356, -1.1801099991252924, -2.125831291528129, -0.6934046363108477, -0.9124614258932253, 0.6517267900374628, 0.15219749354487797, -1.5497245595600382, 1.7451653034481756, 1.7136457408994168, 1.4979020528143887, -1.3751240470503638, 0.29858329908989345, -0.6537085625946911, -0.6516426290412968, 0.14054082886028857, 1.023135979789578, -1.3300283559910961, 0.45389387358509936, 0.4271329390492837, 0.6857812421105961, -0.2765888062448607, 0.47574187705852894, -0.07119477695199833, -0.6974715625398006, 0.26012579850679357, 1.1295551611787622, -0.5137315719566609, -0.9344254039136242, -0.12015451659999232, 0.7897342797192649, -1.2998710393247335, -2.06350766665256, 0.04580640410858515, 0.011536315859749858, 0.4537501438139305, -1.3903269693384062, -0.42477715405983607, 1.269015733623069, 0.7158345821306752, -0.6646827259762067, -0.25895504685185833, 1.4391778210905959, -0.10461500532610496, 0.25368850424461586, -1.3445617054472998, -0.13788576463394384, 0.13452922958746177, 1.3936369596522684, -0.09641090462455164, -0.9745883134132503, 0.1331942785039976, -0.7711562969161084, 0.08734433127099087, -0.7606497678403129, 0.6208323280542342, 1.0531134299086533, -0.6435691933159219, -1.1620995725040002, 1.6154059614267595, -0.18912777772530961, -0.48798487557165476, 0.1573557012021246, 0.871232235570205, -0.6792003305106004, 0.14514401724900683, 0.521464516790773, -0.40109593707417807, 0.8729023106743086, 2.246216903962021, -0.19776225304143105, -1.3329977757032487, -1.4343308095800535, -1.6845139537151388, 0.12835080616635852, 0.9708311280522788, -1.7062205795779577, 0.4276886719267355, 0.18184356102785498, 0.7830567745138585, 0.9284431073967588, -1.6379297873317809, -0.2394942544623343, -0.8074964517756846, 0.1920865238309692, 0.18021879077587252, -0.09897376011169287, 1.839692716265122, -0.34175549571307434, 3.6857784401166143, 0.8639300248536569, -0.8148914438326817, 1.0959081293554758, 0.9673452030120945, -1.2391340759416838, 0.5517274537678194, -0.20647759151046652, 0.667360272774745, 1.3616438959082655, 0.29969525667656755, -1.2120906458508736, -0.6252675084325614, -0.002874787062123699, 0.33855663944983694, -0.6601050116397322, 1.911530139593789, 0.3408818671207285, -0.49581451859833514, -1.124205570570076, 0.4999746714396447, -0.9695377756286483, -0.871436767842307, 0.7356878907450972, 0.08076743038368042, 1.3049921966838802, 0.8812990658339082, 0.03589642171898041, -0.6306079526166455, 1.2192260897916565, 0.41621392437050075, -0.3087854856193774, -2.2450976654267274, -1.2660932261624926, 0.4727289895431235, 0.28958351233911755, -0.23519521615887476, 0.3786266932922944, -0.9070814863246103, 0.19778389321740014, 1.436963377411611, -0.8764026395072588, -0.604958849470599, -0.016625354528095517, -0.04228926980595178, -1.195802444743868, -1.44246097627108, 0.9582767458875692, -0.18708430275549928, 0.8232170426548701, 1.2476012270867793, -0.14198289982264337, 1.323560081901897, -0.560788256551191, -1.570723557326117, -1.000669993911053, -1.1480643274298103, 0.7826531086579923, -0.12603196843018105, 0.20370539317877753, -0.6374289915577661, -0.7642203038973158, 0.1280561508083895, 0.25825004634642534, 0.9859619966112362, -0.45798692000487623, 1.3628349861894917, 1.7608870803681747, -0.051127829046639324, -0.35908787450409535, -1.5461910645694108, -0.24713244606597687, 0.8164967927013518, -0.4759731765103321, 0.07017833546292473, 0.48631438897531676, 0.06275114684443044, 0.794948736337935, -1.5801002848169379, -0.69182957638584, -0.584182283231622, 0.6533521411125092, -1.2965236976379706, -0.37656918767936043, -2.7748166578317615, -0.06795384182507157, 0.18033983878697032, -0.9246946636251926, -0.6957286244906673, 0.007989200293370234, 1.2863383109179196, -0.47512032803356935, -1.8338698680486671, -0.58113987341278, 0.3760424649204297, -0.019180524577428013, -1.2294552672857557, 0.9824960957559332, 0.7966474432369699, 0.1526906866034626, -0.8531498398793401, 0.6209350754161069, 0.906503140082767, -0.5348697870447695, -3.0830684013454746, -0.017815062655836395, 1.162422849551282, 1.7296217385353037, 0.9544443259895562, -0.6979508854173962, 1.172024998205628, -0.2136130337994696, 1.2538516854548378, 2.161223471146297, 0.04812922240993681, -0.8866242014866578, -0.40203002821973877, -1.460194625917049, -0.2574583495217678, 0.827955968539781, 0.6727776432881627, -0.6967391380775704, 0.752529625248557, -0.8748226843651146, -0.3278939877358992, 0.5392786671566626, 2.5590683031407937, 0.21296233725981248, -0.9373758561533592, -1.3735684574938727, 0.1290863519322174, 1.1172557676493788, -0.9635114575064211, 1.6243751309407395, -0.1972657149523433, 0.8092074277136372, 0.7667881931600722, -1.0682206531012293, -1.0075478537168796, -0.16918526834858938, 1.4192630258191041, -0.7925520473976078, 0.8756297637889352, 0.4597050061117839, -1.6692166574019227, -0.18279068180863287, -0.7069591748752195, 1.3115783924423259]}],\n",
       "                        {\"template\": {\"data\": {\"bar\": [{\"error_x\": {\"color\": \"#2a3f5f\"}, \"error_y\": {\"color\": \"#2a3f5f\"}, \"marker\": {\"line\": {\"color\": \"#E5ECF6\", \"width\": 0.5}}, \"type\": \"bar\"}], \"barpolar\": [{\"marker\": {\"line\": {\"color\": \"#E5ECF6\", \"width\": 0.5}}, \"type\": \"barpolar\"}], \"carpet\": [{\"aaxis\": {\"endlinecolor\": \"#2a3f5f\", \"gridcolor\": \"white\", \"linecolor\": \"white\", \"minorgridcolor\": \"white\", \"startlinecolor\": \"#2a3f5f\"}, \"baxis\": {\"endlinecolor\": \"#2a3f5f\", \"gridcolor\": \"white\", \"linecolor\": \"white\", \"minorgridcolor\": \"white\", \"startlinecolor\": \"#2a3f5f\"}, \"type\": \"carpet\"}], \"choropleth\": [{\"colorbar\": {\"outlinewidth\": 0, \"ticks\": \"\"}, \"type\": \"choropleth\"}], \"contour\": [{\"colorbar\": {\"outlinewidth\": 0, \"ticks\": \"\"}, \"colorscale\": [[0.0, \"#0d0887\"], [0.1111111111111111, \"#46039f\"], [0.2222222222222222, \"#7201a8\"], [0.3333333333333333, \"#9c179e\"], [0.4444444444444444, \"#bd3786\"], [0.5555555555555556, \"#d8576b\"], [0.6666666666666666, \"#ed7953\"], [0.7777777777777778, \"#fb9f3a\"], [0.8888888888888888, \"#fdca26\"], [1.0, \"#f0f921\"]], \"type\": \"contour\"}], \"contourcarpet\": [{\"colorbar\": {\"outlinewidth\": 0, \"ticks\": \"\"}, \"type\": \"contourcarpet\"}], \"heatmap\": [{\"colorbar\": {\"outlinewidth\": 0, \"ticks\": \"\"}, \"colorscale\": [[0.0, \"#0d0887\"], [0.1111111111111111, \"#46039f\"], [0.2222222222222222, \"#7201a8\"], [0.3333333333333333, \"#9c179e\"], [0.4444444444444444, \"#bd3786\"], [0.5555555555555556, \"#d8576b\"], [0.6666666666666666, \"#ed7953\"], [0.7777777777777778, \"#fb9f3a\"], [0.8888888888888888, \"#fdca26\"], [1.0, \"#f0f921\"]], \"type\": \"heatmap\"}], \"heatmapgl\": [{\"colorbar\": {\"outlinewidth\": 0, \"ticks\": \"\"}, \"colorscale\": [[0.0, \"#0d0887\"], [0.1111111111111111, \"#46039f\"], [0.2222222222222222, \"#7201a8\"], [0.3333333333333333, \"#9c179e\"], [0.4444444444444444, \"#bd3786\"], [0.5555555555555556, \"#d8576b\"], [0.6666666666666666, \"#ed7953\"], [0.7777777777777778, \"#fb9f3a\"], [0.8888888888888888, \"#fdca26\"], [1.0, \"#f0f921\"]], \"type\": \"heatmapgl\"}], \"histogram\": [{\"marker\": {\"colorbar\": {\"outlinewidth\": 0, \"ticks\": \"\"}}, \"type\": \"histogram\"}], \"histogram2d\": [{\"colorbar\": {\"outlinewidth\": 0, \"ticks\": \"\"}, \"colorscale\": [[0.0, \"#0d0887\"], [0.1111111111111111, \"#46039f\"], [0.2222222222222222, \"#7201a8\"], [0.3333333333333333, \"#9c179e\"], [0.4444444444444444, \"#bd3786\"], [0.5555555555555556, \"#d8576b\"], [0.6666666666666666, \"#ed7953\"], [0.7777777777777778, \"#fb9f3a\"], [0.8888888888888888, \"#fdca26\"], [1.0, \"#f0f921\"]], \"type\": \"histogram2d\"}], \"histogram2dcontour\": [{\"colorbar\": {\"outlinewidth\": 0, \"ticks\": \"\"}, \"colorscale\": [[0.0, \"#0d0887\"], [0.1111111111111111, \"#46039f\"], [0.2222222222222222, \"#7201a8\"], [0.3333333333333333, \"#9c179e\"], [0.4444444444444444, \"#bd3786\"], [0.5555555555555556, \"#d8576b\"], [0.6666666666666666, \"#ed7953\"], [0.7777777777777778, \"#fb9f3a\"], [0.8888888888888888, \"#fdca26\"], [1.0, \"#f0f921\"]], \"type\": \"histogram2dcontour\"}], \"mesh3d\": [{\"colorbar\": {\"outlinewidth\": 0, \"ticks\": \"\"}, \"type\": \"mesh3d\"}], \"parcoords\": [{\"line\": {\"colorbar\": {\"outlinewidth\": 0, \"ticks\": \"\"}}, \"type\": \"parcoords\"}], \"pie\": [{\"automargin\": true, \"type\": \"pie\"}], \"scatter\": [{\"marker\": {\"colorbar\": {\"outlinewidth\": 0, \"ticks\": \"\"}}, \"type\": \"scatter\"}], \"scatter3d\": [{\"line\": {\"colorbar\": {\"outlinewidth\": 0, \"ticks\": \"\"}}, \"marker\": {\"colorbar\": {\"outlinewidth\": 0, \"ticks\": \"\"}}, \"type\": \"scatter3d\"}], \"scattercarpet\": [{\"marker\": {\"colorbar\": {\"outlinewidth\": 0, \"ticks\": \"\"}}, \"type\": \"scattercarpet\"}], \"scattergeo\": [{\"marker\": {\"colorbar\": {\"outlinewidth\": 0, \"ticks\": \"\"}}, \"type\": \"scattergeo\"}], \"scattergl\": [{\"marker\": {\"colorbar\": {\"outlinewidth\": 0, \"ticks\": \"\"}}, \"type\": \"scattergl\"}], \"scattermapbox\": [{\"marker\": {\"colorbar\": {\"outlinewidth\": 0, \"ticks\": \"\"}}, \"type\": \"scattermapbox\"}], \"scatterpolar\": [{\"marker\": {\"colorbar\": {\"outlinewidth\": 0, \"ticks\": \"\"}}, \"type\": \"scatterpolar\"}], \"scatterpolargl\": [{\"marker\": {\"colorbar\": {\"outlinewidth\": 0, \"ticks\": \"\"}}, \"type\": \"scatterpolargl\"}], \"scatterternary\": [{\"marker\": {\"colorbar\": {\"outlinewidth\": 0, \"ticks\": \"\"}}, \"type\": \"scatterternary\"}], \"surface\": [{\"colorbar\": {\"outlinewidth\": 0, \"ticks\": \"\"}, \"colorscale\": [[0.0, \"#0d0887\"], [0.1111111111111111, \"#46039f\"], [0.2222222222222222, \"#7201a8\"], [0.3333333333333333, \"#9c179e\"], [0.4444444444444444, \"#bd3786\"], [0.5555555555555556, \"#d8576b\"], [0.6666666666666666, \"#ed7953\"], [0.7777777777777778, \"#fb9f3a\"], [0.8888888888888888, \"#fdca26\"], [1.0, \"#f0f921\"]], \"type\": \"surface\"}], \"table\": [{\"cells\": {\"fill\": {\"color\": \"#EBF0F8\"}, \"line\": {\"color\": \"white\"}}, \"header\": {\"fill\": {\"color\": \"#C8D4E3\"}, \"line\": {\"color\": \"white\"}}, \"type\": \"table\"}]}, \"layout\": {\"annotationdefaults\": {\"arrowcolor\": \"#2a3f5f\", \"arrowhead\": 0, \"arrowwidth\": 1}, \"coloraxis\": {\"colorbar\": {\"outlinewidth\": 0, \"ticks\": \"\"}}, \"colorscale\": {\"diverging\": [[0, \"#8e0152\"], [0.1, \"#c51b7d\"], [0.2, \"#de77ae\"], [0.3, \"#f1b6da\"], [0.4, \"#fde0ef\"], [0.5, \"#f7f7f7\"], [0.6, \"#e6f5d0\"], [0.7, \"#b8e186\"], [0.8, \"#7fbc41\"], [0.9, \"#4d9221\"], [1, \"#276419\"]], \"sequential\": [[0.0, \"#0d0887\"], [0.1111111111111111, \"#46039f\"], [0.2222222222222222, \"#7201a8\"], [0.3333333333333333, \"#9c179e\"], [0.4444444444444444, \"#bd3786\"], [0.5555555555555556, \"#d8576b\"], [0.6666666666666666, \"#ed7953\"], [0.7777777777777778, \"#fb9f3a\"], [0.8888888888888888, \"#fdca26\"], [1.0, \"#f0f921\"]], \"sequentialminus\": [[0.0, \"#0d0887\"], [0.1111111111111111, \"#46039f\"], [0.2222222222222222, \"#7201a8\"], [0.3333333333333333, \"#9c179e\"], [0.4444444444444444, \"#bd3786\"], [0.5555555555555556, \"#d8576b\"], [0.6666666666666666, \"#ed7953\"], [0.7777777777777778, \"#fb9f3a\"], [0.8888888888888888, \"#fdca26\"], [1.0, \"#f0f921\"]]}, \"colorway\": [\"#636efa\", \"#EF553B\", \"#00cc96\", \"#ab63fa\", \"#FFA15A\", \"#19d3f3\", \"#FF6692\", \"#B6E880\", \"#FF97FF\", \"#FECB52\"], \"font\": {\"color\": \"#2a3f5f\"}, \"geo\": {\"bgcolor\": \"white\", \"lakecolor\": \"white\", \"landcolor\": \"#E5ECF6\", \"showlakes\": true, \"showland\": true, \"subunitcolor\": \"white\"}, \"hoverlabel\": {\"align\": \"left\"}, \"hovermode\": \"closest\", \"mapbox\": {\"style\": \"light\"}, \"paper_bgcolor\": \"white\", \"plot_bgcolor\": \"#E5ECF6\", \"polar\": {\"angularaxis\": {\"gridcolor\": \"white\", \"linecolor\": \"white\", \"ticks\": \"\"}, \"bgcolor\": \"#E5ECF6\", \"radialaxis\": {\"gridcolor\": \"white\", \"linecolor\": \"white\", \"ticks\": \"\"}}, \"scene\": {\"xaxis\": {\"backgroundcolor\": \"#E5ECF6\", \"gridcolor\": \"white\", \"gridwidth\": 2, \"linecolor\": \"white\", \"showbackground\": true, \"ticks\": \"\", \"zerolinecolor\": \"white\"}, \"yaxis\": {\"backgroundcolor\": \"#E5ECF6\", \"gridcolor\": \"white\", \"gridwidth\": 2, \"linecolor\": \"white\", \"showbackground\": true, \"ticks\": \"\", \"zerolinecolor\": \"white\"}, \"zaxis\": {\"backgroundcolor\": \"#E5ECF6\", \"gridcolor\": \"white\", \"gridwidth\": 2, \"linecolor\": \"white\", \"showbackground\": true, \"ticks\": \"\", \"zerolinecolor\": \"white\"}}, \"shapedefaults\": {\"line\": {\"color\": \"#2a3f5f\"}}, \"ternary\": {\"aaxis\": {\"gridcolor\": \"white\", \"linecolor\": \"white\", \"ticks\": \"\"}, \"baxis\": {\"gridcolor\": \"white\", \"linecolor\": \"white\", \"ticks\": \"\"}, \"bgcolor\": \"#E5ECF6\", \"caxis\": {\"gridcolor\": \"white\", \"linecolor\": \"white\", \"ticks\": \"\"}}, \"title\": {\"x\": 0.05}, \"xaxis\": {\"automargin\": true, \"gridcolor\": \"white\", \"linecolor\": \"white\", \"ticks\": \"\", \"title\": {\"standoff\": 15}, \"zerolinecolor\": \"white\", \"zerolinewidth\": 2}, \"yaxis\": {\"automargin\": true, \"gridcolor\": \"white\", \"linecolor\": \"white\", \"ticks\": \"\", \"title\": {\"standoff\": 15}, \"zerolinecolor\": \"white\", \"zerolinewidth\": 2}}}, \"title\": {\"text\": \"Exercise\"}},\n",
       "                        {\"responsive\": true}\n",
       "                    ).then(function(){\n",
       "                            \n",
       "var gd = document.getElementById('cc2ae401-575b-47c0-b5b5-7eac7123d469');\n",
       "var x = new MutationObserver(function (mutations, observer) {{\n",
       "        var display = window.getComputedStyle(gd).display;\n",
       "        if (!display || display === 'none') {{\n",
       "            console.log([gd, 'removed!']);\n",
       "            Plotly.purge(gd);\n",
       "            observer.disconnect();\n",
       "        }}\n",
       "}});\n",
       "\n",
       "// Listen for the removal of the full notebook cells\n",
       "var notebookContainer = gd.closest('#notebook-container');\n",
       "if (notebookContainer) {{\n",
       "    x.observe(notebookContainer, {childList: true});\n",
       "}}\n",
       "\n",
       "// Listen for the clearing of the current output cell\n",
       "var outputEl = gd.closest('.output');\n",
       "if (outputEl) {{\n",
       "    x.observe(outputEl, {childList: true});\n",
       "}}\n",
       "\n",
       "                        })\n",
       "                };\n",
       "                });\n",
       "            </script>\n",
       "        </div>"
      ]
     },
     "metadata": {},
     "output_type": "display_data"
    }
   ],
   "source": [
    "#######\n",
    "# Objective: Create a scatterplot of 1000 random data points.\n",
    "# x-axis values should come from a normal distribution using\n",
    "# np.random.randn(1000)\n",
    "# y-axis values should come from a uniform distribution over [0,1) using\n",
    "# np.random.rand(1000)\n",
    "######\n",
    "\n",
    "# Perform imports here:\n",
    "\n",
    "import pandas as pd \n",
    "import numpy as np\n",
    "import plotly.offline as pyo \n",
    "import plotly.graph_objs as go\n",
    "\n",
    "\n",
    "# Define a data variable\n",
    "\n",
    "\n",
    "x_axis= np.random.randn(1000)\n",
    "y_axis= np.random.randn(1000)\n",
    "\n",
    "trace=go.Scatter(x=x_axis,y=y_axis,mode='markers',name='markers')\n",
    "data=[trace]\n",
    "layout=go.Layout(title=\"Exercise\")\n",
    "fig=go.Figure(data=data,layout=layout)\n",
    "pyo.iplot(fig)\n",
    "\n",
    "\n",
    "\n",
    "\n",
    "\n",
    "# Define the layout\n",
    "\n",
    "\n",
    "\n",
    "\n",
    "\n",
    "# Create a fig from data and layout, and plot the fig"
   ]
  },
  {
   "cell_type": "code",
   "execution_count": null,
   "metadata": {},
   "outputs": [],
   "source": []
  }
 ],
 "metadata": {
  "kernelspec": {
   "display_name": "kv-scraper",
   "language": "python",
   "name": "kv-scraper"
  },
  "language_info": {
   "codemirror_mode": {
    "name": "ipython",
    "version": 3
   },
   "file_extension": ".py",
   "mimetype": "text/x-python",
   "name": "python",
   "nbconvert_exporter": "python",
   "pygments_lexer": "ipython3",
   "version": "3.8.1"
  }
 },
 "nbformat": 4,
 "nbformat_minor": 2
}
